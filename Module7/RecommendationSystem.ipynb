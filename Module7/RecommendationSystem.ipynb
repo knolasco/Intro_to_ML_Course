{
 "cells": [
  {
   "cell_type": "markdown",
   "metadata": {},
   "source": [
    "Data taken from [the movies dataset in Kaggle](https://www.kaggle.com/rounakbanik/the-movies-dataset)"
   ]
  },
  {
   "cell_type": "code",
   "execution_count": 1,
   "metadata": {},
   "outputs": [],
   "source": [
    "import pandas as pd\n",
    "import os"
   ]
  },
  {
   "cell_type": "code",
   "execution_count": 2,
   "metadata": {},
   "outputs": [],
   "source": [
    "CWD = os.getcwd()\n",
    "DATA_DIR = os.path.join(CWD, 'data')"
   ]
  },
  {
   "cell_type": "code",
   "execution_count": 3,
   "metadata": {},
   "outputs": [],
   "source": [
    "ratings_df = pd.read_csv(os.path.join(DATA_DIR, 'ratings.csv'))"
   ]
  },
  {
   "cell_type": "code",
   "execution_count": 4,
   "metadata": {},
   "outputs": [
    {
     "data": {
      "text/html": [
       "<div>\n",
       "<style scoped>\n",
       "    .dataframe tbody tr th:only-of-type {\n",
       "        vertical-align: middle;\n",
       "    }\n",
       "\n",
       "    .dataframe tbody tr th {\n",
       "        vertical-align: top;\n",
       "    }\n",
       "\n",
       "    .dataframe thead th {\n",
       "        text-align: right;\n",
       "    }\n",
       "</style>\n",
       "<table border=\"1\" class=\"dataframe\">\n",
       "  <thead>\n",
       "    <tr style=\"text-align: right;\">\n",
       "      <th></th>\n",
       "      <th>userId</th>\n",
       "      <th>movieId</th>\n",
       "      <th>rating</th>\n",
       "      <th>timestamp</th>\n",
       "    </tr>\n",
       "  </thead>\n",
       "  <tbody>\n",
       "    <tr>\n",
       "      <th>0</th>\n",
       "      <td>1</td>\n",
       "      <td>110</td>\n",
       "      <td>1.0</td>\n",
       "      <td>1425941529</td>\n",
       "    </tr>\n",
       "    <tr>\n",
       "      <th>1</th>\n",
       "      <td>1</td>\n",
       "      <td>147</td>\n",
       "      <td>4.5</td>\n",
       "      <td>1425942435</td>\n",
       "    </tr>\n",
       "    <tr>\n",
       "      <th>2</th>\n",
       "      <td>1</td>\n",
       "      <td>858</td>\n",
       "      <td>5.0</td>\n",
       "      <td>1425941523</td>\n",
       "    </tr>\n",
       "    <tr>\n",
       "      <th>3</th>\n",
       "      <td>1</td>\n",
       "      <td>1221</td>\n",
       "      <td>5.0</td>\n",
       "      <td>1425941546</td>\n",
       "    </tr>\n",
       "    <tr>\n",
       "      <th>4</th>\n",
       "      <td>1</td>\n",
       "      <td>1246</td>\n",
       "      <td>5.0</td>\n",
       "      <td>1425941556</td>\n",
       "    </tr>\n",
       "  </tbody>\n",
       "</table>\n",
       "</div>"
      ],
      "text/plain": [
       "   userId  movieId  rating   timestamp\n",
       "0       1      110     1.0  1425941529\n",
       "1       1      147     4.5  1425942435\n",
       "2       1      858     5.0  1425941523\n",
       "3       1     1221     5.0  1425941546\n",
       "4       1     1246     5.0  1425941556"
      ]
     },
     "execution_count": 4,
     "metadata": {},
     "output_type": "execute_result"
    }
   ],
   "source": [
    "ratings_df.head()"
   ]
  },
  {
   "cell_type": "code",
   "execution_count": 5,
   "metadata": {},
   "outputs": [
    {
     "data": {
      "text/plain": [
       "(26024289, 4)"
      ]
     },
     "execution_count": 5,
     "metadata": {},
     "output_type": "execute_result"
    }
   ],
   "source": [
    "ratings_df.shape"
   ]
  },
  {
   "cell_type": "markdown",
   "metadata": {},
   "source": [
    "# EDA"
   ]
  },
  {
   "cell_type": "code",
   "execution_count": 6,
   "metadata": {},
   "outputs": [
    {
     "name": "stdout",
     "output_type": "stream",
     "text": [
      "Avg number of ratings per user: 96\n"
     ]
    }
   ],
   "source": [
    "n_users = ratings_df['userId'].nunique()\n",
    "print('Avg number of ratings per user: {}'.format(int(ratings_df.shape[0] / n_users)))"
   ]
  },
  {
   "cell_type": "code",
   "execution_count": 7,
   "metadata": {},
   "outputs": [
    {
     "data": {
      "text/plain": [
       "rating\n",
       "0.5     404897\n",
       "1.0     843310\n",
       "1.5     403607\n",
       "2.0    1762440\n",
       "2.5    1255358\n",
       "3.0    5256722\n",
       "3.5    3116213\n",
       "4.0    6998802\n",
       "4.5    2170441\n",
       "5.0    3812499\n",
       "dtype: int64"
      ]
     },
     "execution_count": 7,
     "metadata": {},
     "output_type": "execute_result"
    }
   ],
   "source": [
    "ratings_df.groupby('rating').size()"
   ]
  },
  {
   "cell_type": "code",
   "execution_count": 8,
   "metadata": {},
   "outputs": [
    {
     "name": "stderr",
     "output_type": "stream",
     "text": [
      "C:\\Users\\nolas\\AppData\\Local\\Temp\\ipykernel_29104\\2140507666.py:1: DtypeWarning: Columns (10) have mixed types. Specify dtype option on import or set low_memory=False.\n",
      "  movies_metadata_df = pd.read_csv(os.path.join(DATA_DIR, 'movies_metadata.csv'))\n"
     ]
    }
   ],
   "source": [
    "movies_metadata_df = pd.read_csv(os.path.join(DATA_DIR, 'movies_metadata.csv'))"
   ]
  },
  {
   "cell_type": "code",
   "execution_count": 9,
   "metadata": {},
   "outputs": [
    {
     "data": {
      "text/html": [
       "<div>\n",
       "<style scoped>\n",
       "    .dataframe tbody tr th:only-of-type {\n",
       "        vertical-align: middle;\n",
       "    }\n",
       "\n",
       "    .dataframe tbody tr th {\n",
       "        vertical-align: top;\n",
       "    }\n",
       "\n",
       "    .dataframe thead th {\n",
       "        text-align: right;\n",
       "    }\n",
       "</style>\n",
       "<table border=\"1\" class=\"dataframe\">\n",
       "  <thead>\n",
       "    <tr style=\"text-align: right;\">\n",
       "      <th></th>\n",
       "      <th>adult</th>\n",
       "      <th>belongs_to_collection</th>\n",
       "      <th>budget</th>\n",
       "      <th>genres</th>\n",
       "      <th>homepage</th>\n",
       "      <th>id</th>\n",
       "      <th>imdb_id</th>\n",
       "      <th>original_language</th>\n",
       "      <th>original_title</th>\n",
       "      <th>overview</th>\n",
       "      <th>...</th>\n",
       "      <th>release_date</th>\n",
       "      <th>revenue</th>\n",
       "      <th>runtime</th>\n",
       "      <th>spoken_languages</th>\n",
       "      <th>status</th>\n",
       "      <th>tagline</th>\n",
       "      <th>title</th>\n",
       "      <th>video</th>\n",
       "      <th>vote_average</th>\n",
       "      <th>vote_count</th>\n",
       "    </tr>\n",
       "  </thead>\n",
       "  <tbody>\n",
       "    <tr>\n",
       "      <th>45461</th>\n",
       "      <td>False</td>\n",
       "      <td>NaN</td>\n",
       "      <td>0</td>\n",
       "      <td>[{'id': 18, 'name': 'Drama'}, {'id': 10751, 'n...</td>\n",
       "      <td>http://www.imdb.com/title/tt6209470/</td>\n",
       "      <td>439050</td>\n",
       "      <td>tt6209470</td>\n",
       "      <td>fa</td>\n",
       "      <td>رگ خواب</td>\n",
       "      <td>Rising and falling between a man and woman.</td>\n",
       "      <td>...</td>\n",
       "      <td>NaN</td>\n",
       "      <td>0.0</td>\n",
       "      <td>90.0</td>\n",
       "      <td>[{'iso_639_1': 'fa', 'name': 'فارسی'}]</td>\n",
       "      <td>Released</td>\n",
       "      <td>Rising and falling between a man and woman</td>\n",
       "      <td>Subdue</td>\n",
       "      <td>False</td>\n",
       "      <td>4.0</td>\n",
       "      <td>1.0</td>\n",
       "    </tr>\n",
       "    <tr>\n",
       "      <th>45462</th>\n",
       "      <td>False</td>\n",
       "      <td>NaN</td>\n",
       "      <td>0</td>\n",
       "      <td>[{'id': 18, 'name': 'Drama'}]</td>\n",
       "      <td>NaN</td>\n",
       "      <td>111109</td>\n",
       "      <td>tt2028550</td>\n",
       "      <td>tl</td>\n",
       "      <td>Siglo ng Pagluluwal</td>\n",
       "      <td>An artist struggles to finish his work while a...</td>\n",
       "      <td>...</td>\n",
       "      <td>2011-11-17</td>\n",
       "      <td>0.0</td>\n",
       "      <td>360.0</td>\n",
       "      <td>[{'iso_639_1': 'tl', 'name': ''}]</td>\n",
       "      <td>Released</td>\n",
       "      <td>NaN</td>\n",
       "      <td>Century of Birthing</td>\n",
       "      <td>False</td>\n",
       "      <td>9.0</td>\n",
       "      <td>3.0</td>\n",
       "    </tr>\n",
       "    <tr>\n",
       "      <th>45463</th>\n",
       "      <td>False</td>\n",
       "      <td>NaN</td>\n",
       "      <td>0</td>\n",
       "      <td>[{'id': 28, 'name': 'Action'}, {'id': 18, 'nam...</td>\n",
       "      <td>NaN</td>\n",
       "      <td>67758</td>\n",
       "      <td>tt0303758</td>\n",
       "      <td>en</td>\n",
       "      <td>Betrayal</td>\n",
       "      <td>When one of her hits goes wrong, a professiona...</td>\n",
       "      <td>...</td>\n",
       "      <td>2003-08-01</td>\n",
       "      <td>0.0</td>\n",
       "      <td>90.0</td>\n",
       "      <td>[{'iso_639_1': 'en', 'name': 'English'}]</td>\n",
       "      <td>Released</td>\n",
       "      <td>A deadly game of wits.</td>\n",
       "      <td>Betrayal</td>\n",
       "      <td>False</td>\n",
       "      <td>3.8</td>\n",
       "      <td>6.0</td>\n",
       "    </tr>\n",
       "    <tr>\n",
       "      <th>45464</th>\n",
       "      <td>False</td>\n",
       "      <td>NaN</td>\n",
       "      <td>0</td>\n",
       "      <td>[]</td>\n",
       "      <td>NaN</td>\n",
       "      <td>227506</td>\n",
       "      <td>tt0008536</td>\n",
       "      <td>en</td>\n",
       "      <td>Satana likuyushchiy</td>\n",
       "      <td>In a small town live two brothers, one a minis...</td>\n",
       "      <td>...</td>\n",
       "      <td>1917-10-21</td>\n",
       "      <td>0.0</td>\n",
       "      <td>87.0</td>\n",
       "      <td>[]</td>\n",
       "      <td>Released</td>\n",
       "      <td>NaN</td>\n",
       "      <td>Satan Triumphant</td>\n",
       "      <td>False</td>\n",
       "      <td>0.0</td>\n",
       "      <td>0.0</td>\n",
       "    </tr>\n",
       "    <tr>\n",
       "      <th>45465</th>\n",
       "      <td>False</td>\n",
       "      <td>NaN</td>\n",
       "      <td>0</td>\n",
       "      <td>[]</td>\n",
       "      <td>NaN</td>\n",
       "      <td>461257</td>\n",
       "      <td>tt6980792</td>\n",
       "      <td>en</td>\n",
       "      <td>Queerama</td>\n",
       "      <td>50 years after decriminalisation of homosexual...</td>\n",
       "      <td>...</td>\n",
       "      <td>2017-06-09</td>\n",
       "      <td>0.0</td>\n",
       "      <td>75.0</td>\n",
       "      <td>[{'iso_639_1': 'en', 'name': 'English'}]</td>\n",
       "      <td>Released</td>\n",
       "      <td>NaN</td>\n",
       "      <td>Queerama</td>\n",
       "      <td>False</td>\n",
       "      <td>0.0</td>\n",
       "      <td>0.0</td>\n",
       "    </tr>\n",
       "  </tbody>\n",
       "</table>\n",
       "<p>5 rows × 24 columns</p>\n",
       "</div>"
      ],
      "text/plain": [
       "       adult belongs_to_collection budget  \\\n",
       "45461  False                   NaN      0   \n",
       "45462  False                   NaN      0   \n",
       "45463  False                   NaN      0   \n",
       "45464  False                   NaN      0   \n",
       "45465  False                   NaN      0   \n",
       "\n",
       "                                                  genres  \\\n",
       "45461  [{'id': 18, 'name': 'Drama'}, {'id': 10751, 'n...   \n",
       "45462                      [{'id': 18, 'name': 'Drama'}]   \n",
       "45463  [{'id': 28, 'name': 'Action'}, {'id': 18, 'nam...   \n",
       "45464                                                 []   \n",
       "45465                                                 []   \n",
       "\n",
       "                                   homepage      id    imdb_id  \\\n",
       "45461  http://www.imdb.com/title/tt6209470/  439050  tt6209470   \n",
       "45462                                   NaN  111109  tt2028550   \n",
       "45463                                   NaN   67758  tt0303758   \n",
       "45464                                   NaN  227506  tt0008536   \n",
       "45465                                   NaN  461257  tt6980792   \n",
       "\n",
       "      original_language       original_title  \\\n",
       "45461                fa              رگ خواب   \n",
       "45462                tl  Siglo ng Pagluluwal   \n",
       "45463                en             Betrayal   \n",
       "45464                en  Satana likuyushchiy   \n",
       "45465                en             Queerama   \n",
       "\n",
       "                                                overview  ... release_date  \\\n",
       "45461        Rising and falling between a man and woman.  ...          NaN   \n",
       "45462  An artist struggles to finish his work while a...  ...   2011-11-17   \n",
       "45463  When one of her hits goes wrong, a professiona...  ...   2003-08-01   \n",
       "45464  In a small town live two brothers, one a minis...  ...   1917-10-21   \n",
       "45465  50 years after decriminalisation of homosexual...  ...   2017-06-09   \n",
       "\n",
       "      revenue runtime                          spoken_languages    status  \\\n",
       "45461     0.0    90.0    [{'iso_639_1': 'fa', 'name': 'فارسی'}]  Released   \n",
       "45462     0.0   360.0         [{'iso_639_1': 'tl', 'name': ''}]  Released   \n",
       "45463     0.0    90.0  [{'iso_639_1': 'en', 'name': 'English'}]  Released   \n",
       "45464     0.0    87.0                                        []  Released   \n",
       "45465     0.0    75.0  [{'iso_639_1': 'en', 'name': 'English'}]  Released   \n",
       "\n",
       "                                          tagline                title  video  \\\n",
       "45461  Rising and falling between a man and woman               Subdue  False   \n",
       "45462                                         NaN  Century of Birthing  False   \n",
       "45463                      A deadly game of wits.             Betrayal  False   \n",
       "45464                                         NaN     Satan Triumphant  False   \n",
       "45465                                         NaN             Queerama  False   \n",
       "\n",
       "      vote_average vote_count  \n",
       "45461          4.0        1.0  \n",
       "45462          9.0        3.0  \n",
       "45463          3.8        6.0  \n",
       "45464          0.0        0.0  \n",
       "45465          0.0        0.0  \n",
       "\n",
       "[5 rows x 24 columns]"
      ]
     },
     "execution_count": 9,
     "metadata": {},
     "output_type": "execute_result"
    }
   ],
   "source": [
    "movies_metadata_df.tail()"
   ]
  },
  {
   "cell_type": "code",
   "execution_count": 10,
   "metadata": {},
   "outputs": [
    {
     "data": {
      "text/plain": [
       "Index(['adult', 'belongs_to_collection', 'budget', 'genres', 'homepage', 'id',\n",
       "       'imdb_id', 'original_language', 'original_title', 'overview',\n",
       "       'popularity', 'poster_path', 'production_companies',\n",
       "       'production_countries', 'release_date', 'revenue', 'runtime',\n",
       "       'spoken_languages', 'status', 'tagline', 'title', 'video',\n",
       "       'vote_average', 'vote_count'],\n",
       "      dtype='object')"
      ]
     },
     "execution_count": 10,
     "metadata": {},
     "output_type": "execute_result"
    }
   ],
   "source": [
    "movies_metadata_df.columns"
   ]
  },
  {
   "cell_type": "code",
   "execution_count": 11,
   "metadata": {},
   "outputs": [
    {
     "data": {
      "text/plain": [
       "(45466, 24)"
      ]
     },
     "execution_count": 11,
     "metadata": {},
     "output_type": "execute_result"
    }
   ],
   "source": [
    "movies_metadata_df.shape"
   ]
  },
  {
   "cell_type": "code",
   "execution_count": 12,
   "metadata": {},
   "outputs": [
    {
     "data": {
      "text/plain": [
       "45115"
      ]
     },
     "execution_count": 12,
     "metadata": {},
     "output_type": "execute_result"
    }
   ],
   "source": [
    "ratings_df['movieId'].nunique()"
   ]
  },
  {
   "cell_type": "code",
   "execution_count": 13,
   "metadata": {},
   "outputs": [],
   "source": [
    "import re\n",
    "def find_date(id):\n",
    "    return bool(re.match('^[0-9]+$', id))"
   ]
  },
  {
   "cell_type": "code",
   "execution_count": 14,
   "metadata": {},
   "outputs": [],
   "source": [
    "movies_metadata_df['keep_row'] = movies_metadata_df['id'].apply(find_date)"
   ]
  },
  {
   "cell_type": "code",
   "execution_count": 15,
   "metadata": {},
   "outputs": [
    {
     "data": {
      "text/plain": [
       "True     45463\n",
       "False        3\n",
       "Name: keep_row, dtype: int64"
      ]
     },
     "execution_count": 15,
     "metadata": {},
     "output_type": "execute_result"
    }
   ],
   "source": [
    "movies_metadata_df['keep_row'].value_counts()"
   ]
  },
  {
   "cell_type": "code",
   "execution_count": 16,
   "metadata": {},
   "outputs": [
    {
     "data": {
      "text/html": [
       "<div>\n",
       "<style scoped>\n",
       "    .dataframe tbody tr th:only-of-type {\n",
       "        vertical-align: middle;\n",
       "    }\n",
       "\n",
       "    .dataframe tbody tr th {\n",
       "        vertical-align: top;\n",
       "    }\n",
       "\n",
       "    .dataframe thead th {\n",
       "        text-align: right;\n",
       "    }\n",
       "</style>\n",
       "<table border=\"1\" class=\"dataframe\">\n",
       "  <thead>\n",
       "    <tr style=\"text-align: right;\">\n",
       "      <th></th>\n",
       "      <th>adult</th>\n",
       "      <th>belongs_to_collection</th>\n",
       "      <th>budget</th>\n",
       "      <th>genres</th>\n",
       "      <th>homepage</th>\n",
       "      <th>id</th>\n",
       "      <th>imdb_id</th>\n",
       "      <th>original_language</th>\n",
       "      <th>original_title</th>\n",
       "      <th>overview</th>\n",
       "      <th>...</th>\n",
       "      <th>revenue</th>\n",
       "      <th>runtime</th>\n",
       "      <th>spoken_languages</th>\n",
       "      <th>status</th>\n",
       "      <th>tagline</th>\n",
       "      <th>title</th>\n",
       "      <th>video</th>\n",
       "      <th>vote_average</th>\n",
       "      <th>vote_count</th>\n",
       "      <th>keep_row</th>\n",
       "    </tr>\n",
       "  </thead>\n",
       "  <tbody>\n",
       "    <tr>\n",
       "      <th>19730</th>\n",
       "      <td>- Written by Ørnås</td>\n",
       "      <td>0.065736</td>\n",
       "      <td>/ff9qCepilowshEtG2GYWwzt2bs4.jpg</td>\n",
       "      <td>[{'name': 'Carousel Productions', 'id': 11176}...</td>\n",
       "      <td>[{'iso_3166_1': 'CA', 'name': 'Canada'}, {'iso...</td>\n",
       "      <td>1997-08-20</td>\n",
       "      <td>0</td>\n",
       "      <td>104.0</td>\n",
       "      <td>[{'iso_639_1': 'en', 'name': 'English'}]</td>\n",
       "      <td>Released</td>\n",
       "      <td>...</td>\n",
       "      <td>NaN</td>\n",
       "      <td>NaN</td>\n",
       "      <td>NaN</td>\n",
       "      <td>NaN</td>\n",
       "      <td>NaN</td>\n",
       "      <td>NaN</td>\n",
       "      <td>NaN</td>\n",
       "      <td>NaN</td>\n",
       "      <td>NaN</td>\n",
       "      <td>False</td>\n",
       "    </tr>\n",
       "    <tr>\n",
       "      <th>29503</th>\n",
       "      <td>Rune Balot goes to a casino connected to the ...</td>\n",
       "      <td>1.931659</td>\n",
       "      <td>/zV8bHuSL6WXoD6FWogP9j4x80bL.jpg</td>\n",
       "      <td>[{'name': 'Aniplex', 'id': 2883}, {'name': 'Go...</td>\n",
       "      <td>[{'iso_3166_1': 'US', 'name': 'United States o...</td>\n",
       "      <td>2012-09-29</td>\n",
       "      <td>0</td>\n",
       "      <td>68.0</td>\n",
       "      <td>[{'iso_639_1': 'ja', 'name': '日本語'}]</td>\n",
       "      <td>Released</td>\n",
       "      <td>...</td>\n",
       "      <td>NaN</td>\n",
       "      <td>NaN</td>\n",
       "      <td>NaN</td>\n",
       "      <td>NaN</td>\n",
       "      <td>NaN</td>\n",
       "      <td>NaN</td>\n",
       "      <td>NaN</td>\n",
       "      <td>NaN</td>\n",
       "      <td>NaN</td>\n",
       "      <td>False</td>\n",
       "    </tr>\n",
       "    <tr>\n",
       "      <th>35587</th>\n",
       "      <td>Avalanche Sharks tells the story of a bikini ...</td>\n",
       "      <td>2.185485</td>\n",
       "      <td>/zaSf5OG7V8X8gqFvly88zDdRm46.jpg</td>\n",
       "      <td>[{'name': 'Odyssey Media', 'id': 17161}, {'nam...</td>\n",
       "      <td>[{'iso_3166_1': 'CA', 'name': 'Canada'}]</td>\n",
       "      <td>2014-01-01</td>\n",
       "      <td>0</td>\n",
       "      <td>82.0</td>\n",
       "      <td>[{'iso_639_1': 'en', 'name': 'English'}]</td>\n",
       "      <td>Released</td>\n",
       "      <td>...</td>\n",
       "      <td>NaN</td>\n",
       "      <td>NaN</td>\n",
       "      <td>NaN</td>\n",
       "      <td>NaN</td>\n",
       "      <td>NaN</td>\n",
       "      <td>NaN</td>\n",
       "      <td>NaN</td>\n",
       "      <td>NaN</td>\n",
       "      <td>NaN</td>\n",
       "      <td>False</td>\n",
       "    </tr>\n",
       "  </tbody>\n",
       "</table>\n",
       "<p>3 rows × 25 columns</p>\n",
       "</div>"
      ],
      "text/plain": [
       "                                                   adult  \\\n",
       "19730                                 - Written by Ørnås   \n",
       "29503   Rune Balot goes to a casino connected to the ...   \n",
       "35587   Avalanche Sharks tells the story of a bikini ...   \n",
       "\n",
       "      belongs_to_collection                            budget  \\\n",
       "19730              0.065736  /ff9qCepilowshEtG2GYWwzt2bs4.jpg   \n",
       "29503              1.931659  /zV8bHuSL6WXoD6FWogP9j4x80bL.jpg   \n",
       "35587              2.185485  /zaSf5OG7V8X8gqFvly88zDdRm46.jpg   \n",
       "\n",
       "                                                  genres  \\\n",
       "19730  [{'name': 'Carousel Productions', 'id': 11176}...   \n",
       "29503  [{'name': 'Aniplex', 'id': 2883}, {'name': 'Go...   \n",
       "35587  [{'name': 'Odyssey Media', 'id': 17161}, {'nam...   \n",
       "\n",
       "                                                homepage          id imdb_id  \\\n",
       "19730  [{'iso_3166_1': 'CA', 'name': 'Canada'}, {'iso...  1997-08-20       0   \n",
       "29503  [{'iso_3166_1': 'US', 'name': 'United States o...  2012-09-29       0   \n",
       "35587           [{'iso_3166_1': 'CA', 'name': 'Canada'}]  2014-01-01       0   \n",
       "\n",
       "      original_language                            original_title  overview  \\\n",
       "19730             104.0  [{'iso_639_1': 'en', 'name': 'English'}]  Released   \n",
       "29503              68.0      [{'iso_639_1': 'ja', 'name': '日本語'}]  Released   \n",
       "35587              82.0  [{'iso_639_1': 'en', 'name': 'English'}]  Released   \n",
       "\n",
       "       ... revenue runtime spoken_languages status tagline  title  video  \\\n",
       "19730  ...     NaN     NaN              NaN    NaN     NaN    NaN    NaN   \n",
       "29503  ...     NaN     NaN              NaN    NaN     NaN    NaN    NaN   \n",
       "35587  ...     NaN     NaN              NaN    NaN     NaN    NaN    NaN   \n",
       "\n",
       "      vote_average vote_count keep_row  \n",
       "19730          NaN        NaN    False  \n",
       "29503          NaN        NaN    False  \n",
       "35587          NaN        NaN    False  \n",
       "\n",
       "[3 rows x 25 columns]"
      ]
     },
     "execution_count": 16,
     "metadata": {},
     "output_type": "execute_result"
    }
   ],
   "source": [
    "movies_metadata_df[movies_metadata_df['keep_row'] == False]"
   ]
  },
  {
   "cell_type": "code",
   "execution_count": 17,
   "metadata": {},
   "outputs": [
    {
     "data": {
      "text/plain": [
       "True    45463\n",
       "Name: keep_row, dtype: int64"
      ]
     },
     "execution_count": 17,
     "metadata": {},
     "output_type": "execute_result"
    }
   ],
   "source": [
    "movies_metadata_df = movies_metadata_df[movies_metadata_df['keep_row'] == True]\n",
    "movies_metadata_df['keep_row'].value_counts()"
   ]
  },
  {
   "cell_type": "code",
   "execution_count": 18,
   "metadata": {},
   "outputs": [
    {
     "data": {
      "text/plain": [
       "adult                     object\n",
       "belongs_to_collection     object\n",
       "budget                    object\n",
       "genres                    object\n",
       "homepage                  object\n",
       "id                         int64\n",
       "imdb_id                   object\n",
       "original_language         object\n",
       "original_title            object\n",
       "overview                  object\n",
       "popularity                object\n",
       "poster_path               object\n",
       "production_companies      object\n",
       "production_countries      object\n",
       "release_date              object\n",
       "revenue                  float64\n",
       "runtime                  float64\n",
       "spoken_languages          object\n",
       "status                    object\n",
       "tagline                   object\n",
       "title                     object\n",
       "video                     object\n",
       "vote_average             float64\n",
       "vote_count               float64\n",
       "keep_row                    bool\n",
       "dtype: object"
      ]
     },
     "execution_count": 18,
     "metadata": {},
     "output_type": "execute_result"
    }
   ],
   "source": [
    "movies_metadata_df['id'] = movies_metadata_df['id'].astype('int64')\n",
    "movies_metadata_df.dtypes"
   ]
  },
  {
   "cell_type": "code",
   "execution_count": 19,
   "metadata": {},
   "outputs": [
    {
     "data": {
      "text/plain": [
       "(11437637, 29)"
      ]
     },
     "execution_count": 19,
     "metadata": {},
     "output_type": "execute_result"
    }
   ],
   "source": [
    "data = ratings_df.merge(movies_metadata_df.add_suffix('_movies'), left_on = 'movieId', right_on = 'id_movies', how = 'inner')\n",
    "data.shape"
   ]
  },
  {
   "cell_type": "markdown",
   "metadata": {},
   "source": [
    "## Highest Rated Movie on Avg."
   ]
  },
  {
   "cell_type": "code",
   "execution_count": 20,
   "metadata": {},
   "outputs": [
    {
     "data": {
      "text/plain": [
       "Index(['userId', 'movieId', 'rating', 'timestamp', 'adult_movies',\n",
       "       'belongs_to_collection_movies', 'budget_movies', 'genres_movies',\n",
       "       'homepage_movies', 'id_movies', 'imdb_id_movies',\n",
       "       'original_language_movies', 'original_title_movies', 'overview_movies',\n",
       "       'popularity_movies', 'poster_path_movies',\n",
       "       'production_companies_movies', 'production_countries_movies',\n",
       "       'release_date_movies', 'revenue_movies', 'runtime_movies',\n",
       "       'spoken_languages_movies', 'status_movies', 'tagline_movies',\n",
       "       'title_movies', 'video_movies', 'vote_average_movies',\n",
       "       'vote_count_movies', 'keep_row_movies'],\n",
       "      dtype='object')"
      ]
     },
     "execution_count": 20,
     "metadata": {},
     "output_type": "execute_result"
    }
   ],
   "source": [
    "data.columns"
   ]
  },
  {
   "cell_type": "code",
   "execution_count": 50,
   "metadata": {},
   "outputs": [],
   "source": [
    "avg_rating = data.groupby(by = 'movieId')['rating'].mean().reset_index(name = 'avg_rating').sort_values(by = 'avg_rating', ascending = False)\n",
    "n_ratings = data.groupby(by = 'movieId').size().reset_index(name = 'num_ratings')"
   ]
  },
  {
   "cell_type": "code",
   "execution_count": 51,
   "metadata": {},
   "outputs": [],
   "source": [
    "all_ratings = avg_rating.merge(n_ratings, on = 'movieId', how = 'inner')\n",
    "top_20_movies = all_ratings.sort_values(by = 'num_ratings', ascending = False).head(20)"
   ]
  },
  {
   "cell_type": "code",
   "execution_count": 52,
   "metadata": {},
   "outputs": [
    {
     "data": {
      "text/html": [
       "<div>\n",
       "<style scoped>\n",
       "    .dataframe tbody tr th:only-of-type {\n",
       "        vertical-align: middle;\n",
       "    }\n",
       "\n",
       "    .dataframe tbody tr th {\n",
       "        vertical-align: top;\n",
       "    }\n",
       "\n",
       "    .dataframe thead th {\n",
       "        text-align: right;\n",
       "    }\n",
       "</style>\n",
       "<table border=\"1\" class=\"dataframe\">\n",
       "  <thead>\n",
       "    <tr style=\"text-align: right;\">\n",
       "      <th></th>\n",
       "      <th>movieId</th>\n",
       "      <th>avg_rating</th>\n",
       "      <th>num_ratings</th>\n",
       "    </tr>\n",
       "  </thead>\n",
       "  <tbody>\n",
       "    <tr>\n",
       "      <th>45</th>\n",
       "      <td>318</td>\n",
       "      <td>4.429015</td>\n",
       "      <td>91082</td>\n",
       "    </tr>\n",
       "    <tr>\n",
       "      <th>89</th>\n",
       "      <td>296</td>\n",
       "      <td>4.169975</td>\n",
       "      <td>87901</td>\n",
       "    </tr>\n",
       "    <tr>\n",
       "      <th>103</th>\n",
       "      <td>593</td>\n",
       "      <td>4.152246</td>\n",
       "      <td>84078</td>\n",
       "    </tr>\n",
       "    <tr>\n",
       "      <th>112</th>\n",
       "      <td>260</td>\n",
       "      <td>4.132299</td>\n",
       "      <td>77045</td>\n",
       "    </tr>\n",
       "    <tr>\n",
       "      <th>1377</th>\n",
       "      <td>480</td>\n",
       "      <td>3.660238</td>\n",
       "      <td>74355</td>\n",
       "    </tr>\n",
       "    <tr>\n",
       "      <th>55</th>\n",
       "      <td>527</td>\n",
       "      <td>4.266531</td>\n",
       "      <td>67662</td>\n",
       "    </tr>\n",
       "    <tr>\n",
       "      <th>193</th>\n",
       "      <td>110</td>\n",
       "      <td>4.016057</td>\n",
       "      <td>66512</td>\n",
       "    </tr>\n",
       "    <tr>\n",
       "      <th>72</th>\n",
       "      <td>2959</td>\n",
       "      <td>4.230716</td>\n",
       "      <td>60024</td>\n",
       "    </tr>\n",
       "    <tr>\n",
       "      <th>493</th>\n",
       "      <td>150</td>\n",
       "      <td>3.884031</td>\n",
       "      <td>57416</td>\n",
       "    </tr>\n",
       "    <tr>\n",
       "      <th>2820</th>\n",
       "      <td>780</td>\n",
       "      <td>3.397042</td>\n",
       "      <td>57232</td>\n",
       "    </tr>\n",
       "    <tr>\n",
       "      <th>48</th>\n",
       "      <td>858</td>\n",
       "      <td>4.339811</td>\n",
       "      <td>57070</td>\n",
       "    </tr>\n",
       "    <tr>\n",
       "      <th>133</th>\n",
       "      <td>4993</td>\n",
       "      <td>4.104167</td>\n",
       "      <td>56827</td>\n",
       "    </tr>\n",
       "    <tr>\n",
       "      <th>342</th>\n",
       "      <td>457</td>\n",
       "      <td>3.982462</td>\n",
       "      <td>56820</td>\n",
       "    </tr>\n",
       "    <tr>\n",
       "      <th>2872</th>\n",
       "      <td>592</td>\n",
       "      <td>3.384822</td>\n",
       "      <td>53717</td>\n",
       "    </tr>\n",
       "    <tr>\n",
       "      <th>131</th>\n",
       "      <td>608</td>\n",
       "      <td>4.105347</td>\n",
       "      <td>52474</td>\n",
       "    </tr>\n",
       "    <tr>\n",
       "      <th>1012</th>\n",
       "      <td>590</td>\n",
       "      <td>3.740689</td>\n",
       "      <td>51338</td>\n",
       "    </tr>\n",
       "    <tr>\n",
       "      <th>163</th>\n",
       "      <td>2028</td>\n",
       "      <td>4.053711</td>\n",
       "      <td>50809</td>\n",
       "    </tr>\n",
       "    <tr>\n",
       "      <th>1235</th>\n",
       "      <td>588</td>\n",
       "      <td>3.687524</td>\n",
       "      <td>50375</td>\n",
       "    </tr>\n",
       "    <tr>\n",
       "      <th>2096</th>\n",
       "      <td>380</td>\n",
       "      <td>3.501834</td>\n",
       "      <td>50168</td>\n",
       "    </tr>\n",
       "    <tr>\n",
       "      <th>190</th>\n",
       "      <td>2762</td>\n",
       "      <td>4.021282</td>\n",
       "      <td>49643</td>\n",
       "    </tr>\n",
       "  </tbody>\n",
       "</table>\n",
       "</div>"
      ],
      "text/plain": [
       "      movieId  avg_rating  num_ratings\n",
       "45        318    4.429015        91082\n",
       "89        296    4.169975        87901\n",
       "103       593    4.152246        84078\n",
       "112       260    4.132299        77045\n",
       "1377      480    3.660238        74355\n",
       "55        527    4.266531        67662\n",
       "193       110    4.016057        66512\n",
       "72       2959    4.230716        60024\n",
       "493       150    3.884031        57416\n",
       "2820      780    3.397042        57232\n",
       "48        858    4.339811        57070\n",
       "133      4993    4.104167        56827\n",
       "342       457    3.982462        56820\n",
       "2872      592    3.384822        53717\n",
       "131       608    4.105347        52474\n",
       "1012      590    3.740689        51338\n",
       "163      2028    4.053711        50809\n",
       "1235      588    3.687524        50375\n",
       "2096      380    3.501834        50168\n",
       "190      2762    4.021282        49643"
      ]
     },
     "execution_count": 52,
     "metadata": {},
     "output_type": "execute_result"
    }
   ],
   "source": [
    "top_20_movies"
   ]
  },
  {
   "cell_type": "code",
   "execution_count": 53,
   "metadata": {},
   "outputs": [
    {
     "data": {
      "text/html": [
       "<div>\n",
       "<style scoped>\n",
       "    .dataframe tbody tr th:only-of-type {\n",
       "        vertical-align: middle;\n",
       "    }\n",
       "\n",
       "    .dataframe tbody tr th {\n",
       "        vertical-align: top;\n",
       "    }\n",
       "\n",
       "    .dataframe thead th {\n",
       "        text-align: right;\n",
       "    }\n",
       "</style>\n",
       "<table border=\"1\" class=\"dataframe\">\n",
       "  <thead>\n",
       "    <tr style=\"text-align: right;\">\n",
       "      <th></th>\n",
       "      <th>original_title_movies</th>\n",
       "      <th>avg_rating</th>\n",
       "    </tr>\n",
       "  </thead>\n",
       "  <tbody>\n",
       "    <tr>\n",
       "      <th>0</th>\n",
       "      <td>Trois couleurs : Rouge</td>\n",
       "      <td>4.016057</td>\n",
       "    </tr>\n",
       "    <tr>\n",
       "      <th>66512</th>\n",
       "      <td>Sleepless in Seattle</td>\n",
       "      <td>4.339811</td>\n",
       "    </tr>\n",
       "    <tr>\n",
       "      <th>123582</th>\n",
       "      <td>Young and Innocent</td>\n",
       "      <td>4.021282</td>\n",
       "    </tr>\n",
       "    <tr>\n",
       "      <th>173225</th>\n",
       "      <td>License to Wed</td>\n",
       "      <td>4.230716</td>\n",
       "    </tr>\n",
       "    <tr>\n",
       "      <th>233249</th>\n",
       "      <td>The 39 Steps</td>\n",
       "      <td>4.132299</td>\n",
       "    </tr>\n",
       "    <tr>\n",
       "      <th>310294</th>\n",
       "      <td>La passion de Jeanne d'Arc</td>\n",
       "      <td>3.397042</td>\n",
       "    </tr>\n",
       "    <tr>\n",
       "      <th>367526</th>\n",
       "      <td>Monsoon Wedding</td>\n",
       "      <td>3.660238</td>\n",
       "    </tr>\n",
       "    <tr>\n",
       "      <th>441881</th>\n",
       "      <td>Once Were Warriors</td>\n",
       "      <td>4.266531</td>\n",
       "    </tr>\n",
       "    <tr>\n",
       "      <th>509543</th>\n",
       "      <td>Terminator 3: Rise of the Machines</td>\n",
       "      <td>4.169975</td>\n",
       "    </tr>\n",
       "    <tr>\n",
       "      <th>597444</th>\n",
       "      <td>The Million Dollar Hotel</td>\n",
       "      <td>4.429015</td>\n",
       "    </tr>\n",
       "    <tr>\n",
       "      <th>688526</th>\n",
       "      <td>5 Card Stud</td>\n",
       "      <td>4.104167</td>\n",
       "    </tr>\n",
       "    <tr>\n",
       "      <th>745353</th>\n",
       "      <td>48 Hrs.</td>\n",
       "      <td>3.884031</td>\n",
       "    </tr>\n",
       "    <tr>\n",
       "      <th>802769</th>\n",
       "      <td>Rain Man</td>\n",
       "      <td>3.501834</td>\n",
       "    </tr>\n",
       "    <tr>\n",
       "      <th>852937</th>\n",
       "      <td>Sissi</td>\n",
       "      <td>3.982462</td>\n",
       "    </tr>\n",
       "    <tr>\n",
       "      <th>909757</th>\n",
       "      <td>Silent Hill</td>\n",
       "      <td>3.687524</td>\n",
       "    </tr>\n",
       "    <tr>\n",
       "      <th>960132</th>\n",
       "      <td>The Hours</td>\n",
       "      <td>3.740689</td>\n",
       "    </tr>\n",
       "    <tr>\n",
       "      <th>1011470</th>\n",
       "      <td>The Conversation</td>\n",
       "      <td>3.384822</td>\n",
       "    </tr>\n",
       "    <tr>\n",
       "      <th>1065187</th>\n",
       "      <td>Солярис</td>\n",
       "      <td>4.152246</td>\n",
       "    </tr>\n",
       "    <tr>\n",
       "      <th>1149265</th>\n",
       "      <td>Say Anything...</td>\n",
       "      <td>4.053711</td>\n",
       "    </tr>\n",
       "    <tr>\n",
       "      <th>1200074</th>\n",
       "      <td>Men in Black II</td>\n",
       "      <td>4.105347</td>\n",
       "    </tr>\n",
       "  </tbody>\n",
       "</table>\n",
       "</div>"
      ],
      "text/plain": [
       "                      original_title_movies  avg_rating\n",
       "0                    Trois couleurs : Rouge    4.016057\n",
       "66512                  Sleepless in Seattle    4.339811\n",
       "123582                   Young and Innocent    4.021282\n",
       "173225                       License to Wed    4.230716\n",
       "233249                         The 39 Steps    4.132299\n",
       "310294           La passion de Jeanne d'Arc    3.397042\n",
       "367526                      Monsoon Wedding    3.660238\n",
       "441881                   Once Were Warriors    4.266531\n",
       "509543   Terminator 3: Rise of the Machines    4.169975\n",
       "597444             The Million Dollar Hotel    4.429015\n",
       "688526                          5 Card Stud    4.104167\n",
       "745353                              48 Hrs.    3.884031\n",
       "802769                             Rain Man    3.501834\n",
       "852937                                Sissi    3.982462\n",
       "909757                          Silent Hill    3.687524\n",
       "960132                            The Hours    3.740689\n",
       "1011470                    The Conversation    3.384822\n",
       "1065187                             Солярис    4.152246\n",
       "1149265                     Say Anything...    4.053711\n",
       "1200074                     Men in Black II    4.105347"
      ]
     },
     "execution_count": 53,
     "metadata": {},
     "output_type": "execute_result"
    }
   ],
   "source": [
    "data.merge(top_20_movies, on = 'movieId', how = 'inner').drop_duplicates(subset = ['movieId'])[['original_title_movies', 'avg_rating']]"
   ]
  }
 ],
 "metadata": {
  "interpreter": {
   "hash": "02c30719ed1be8b02b119d96d83ec7cd379be33696f766ddd13ffbce121a590f"
  },
  "kernelspec": {
   "display_name": "Python 3.9.5 ('venv': venv)",
   "language": "python",
   "name": "python3"
  },
  "language_info": {
   "codemirror_mode": {
    "name": "ipython",
    "version": 3
   },
   "file_extension": ".py",
   "mimetype": "text/x-python",
   "name": "python",
   "nbconvert_exporter": "python",
   "pygments_lexer": "ipython3",
   "version": "3.9.5"
  },
  "orig_nbformat": 4
 },
 "nbformat": 4,
 "nbformat_minor": 2
}
