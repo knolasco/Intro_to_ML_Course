{
 "cells": [
  {
   "cell_type": "markdown",
   "metadata": {},
   "source": [
    "# Neural Networks and MNIST\n",
    "\n",
    "Kevin Nolasco\n",
    "\n",
    "Cabrini University\n",
    "\n",
    "MCIS560 - Intro to Machine Learning\n",
    "\n",
    "02/27/2022\n",
    "\n",
    "## Introduction\n",
    "\n",
    "The purpose of this module is to get hands on experience building and tweaking a neural network using tensorflow. We will apply what we have learned about Neural Networks to the MNIST dataset. Our goal is to build a model that will have >98% accuracy on the test set.\n",
    "\n",
    "## Summary\n",
    "\n",
    "Creating a model using tf.keras is simple and powerful. It is very important to pay attention to the learning rates, batch_size, and number of epochs used when training a neural network. It is also important to process the data correctly, so that we don't run into the issue of exploding gradients and get nan results for the loss and accuracy.\n",
    "\n",
    "After carefully tuning the model, I was able to attain an accuracy of 98.12% on the test set."
   ]
  },
  {
   "cell_type": "markdown",
   "metadata": {},
   "source": [
    "### Load the Data\n",
    "\n",
    "Load the data. See what type is the data to know which methods are available and to learn more about the data."
   ]
  },
  {
   "cell_type": "code",
   "execution_count": 262,
   "metadata": {},
   "outputs": [],
   "source": [
    "from tensorflow import keras\n",
    "import tensorflow as tf "
   ]
  },
  {
   "cell_type": "code",
   "execution_count": 263,
   "metadata": {},
   "outputs": [],
   "source": [
    "(X_train, y_train), (X_test, y_test) = keras.datasets.mnist.load_data()"
   ]
  },
  {
   "cell_type": "code",
   "execution_count": 264,
   "metadata": {},
   "outputs": [
    {
     "data": {
      "text/plain": [
       "numpy.ndarray"
      ]
     },
     "execution_count": 264,
     "metadata": {},
     "output_type": "execute_result"
    }
   ],
   "source": [
    "type(X_train)"
   ]
  },
  {
   "cell_type": "code",
   "execution_count": 265,
   "metadata": {},
   "outputs": [
    {
     "data": {
      "text/plain": [
       "(60000, 28, 28)"
      ]
     },
     "execution_count": 265,
     "metadata": {},
     "output_type": "execute_result"
    }
   ],
   "source": [
    "X_train.shape"
   ]
  },
  {
   "cell_type": "code",
   "execution_count": 266,
   "metadata": {},
   "outputs": [
    {
     "data": {
      "text/plain": [
       "(60000,)"
      ]
     },
     "execution_count": 266,
     "metadata": {},
     "output_type": "execute_result"
    }
   ],
   "source": [
    "y_train.shape"
   ]
  },
  {
   "cell_type": "code",
   "execution_count": 267,
   "metadata": {},
   "outputs": [
    {
     "data": {
      "text/plain": [
       "(10000, 28, 28)"
      ]
     },
     "execution_count": 267,
     "metadata": {},
     "output_type": "execute_result"
    }
   ],
   "source": [
    "X_test.shape"
   ]
  },
  {
   "cell_type": "markdown",
   "metadata": {},
   "source": [
    "## Apply DropOut to Images\n",
    "I will use the same technique that I used in Module 3; use a threshold change the data to binary. "
   ]
  },
  {
   "cell_type": "code",
   "execution_count": 268,
   "metadata": {},
   "outputs": [],
   "source": [
    "# reshape data\n",
    "def reshape_X_and_y(X, y):\n",
    "    return X.reshape(X.shape[0], -1), y.reshape(y.shape[0], -1)"
   ]
  },
  {
   "cell_type": "code",
   "execution_count": 269,
   "metadata": {},
   "outputs": [],
   "source": [
    "X_train, y_train = reshape_X_and_y(X_train, y_train)\n",
    "X_test, y_test = reshape_X_and_y(X_test, y_test)"
   ]
  },
  {
   "cell_type": "code",
   "execution_count": 270,
   "metadata": {},
   "outputs": [
    {
     "name": "stdout",
     "output_type": "stream",
     "text": [
      "101.3813775510204\n"
     ]
    }
   ],
   "source": [
    "# find threshold\n",
    "row_means = X_train.mean(axis = 1)\n",
    "threshold = row_means.max()\n",
    "print(threshold)"
   ]
  },
  {
   "cell_type": "code",
   "execution_count": 271,
   "metadata": {},
   "outputs": [],
   "source": [
    "import numpy as np\n",
    "vectorized_threshold = np.vectorize(lambda val: 0 if val < threshold else 1)\n",
    "\n",
    "X_train_dropout = vectorized_threshold(X_train)\n",
    "X_test_dropout = vectorized_threshold(X_test)"
   ]
  },
  {
   "cell_type": "markdown",
   "metadata": {},
   "source": [
    "Now let's take an example in the training set and visualize it's dropout counter-part."
   ]
  },
  {
   "cell_type": "code",
   "execution_count": 272,
   "metadata": {},
   "outputs": [
    {
     "data": {
      "image/png": "[encoded data removed]",
      "text/plain": [
       "<Figure size 720x1440 with 2 Axes>"
      ]
     },
     "metadata": {
      "needs_background": "light"
     },
     "output_type": "display_data"
    }
   ],
   "source": [
    "# visualize before and after dropout\n",
    "import matplotlib.pyplot as plt\n",
    "%matplotlib inline\n",
    "import matplotlib as mpl\n",
    "\n",
    "fig, axs = plt.subplots(1,2)\n",
    "fig.set_size_inches(10,20)\n",
    "\n",
    "example = X_train[0].reshape(28,28)\n",
    "example_dropout = X_train_dropout[0].reshape(28,28)\n",
    "axs[0].imshow(example, cmap = mpl.cm.binary)\n",
    "axs[0].set_title('No Dropout')\n",
    "axs[1].imshow(example_dropout, cmap = mpl.cm.binary)\n",
    "axs[1].set_title('With Dropout')\n",
    "\n",
    "plt.show()"
   ]
  },
  {
   "cell_type": "markdown",
   "metadata": {},
   "source": [
    "## Goal\n",
    "\n",
    "Use Functional API to build a wide model that takes in three inputs. The first input will go through 5 layers. The second input will go through the last 2 layers. The final input will be fed through to the end."
   ]
  },
  {
   "cell_type": "code",
   "execution_count": 273,
   "metadata": {},
   "outputs": [],
   "source": [
    "def build_model(input_shape):\n",
    "    # inputs\n",
    "    input_wide = keras.layers.Input(shape = [input_shape], name = 'wide')\n",
    "    input_shallow = keras.layers.Input(shape = [input_shape], name = 'shallow')\n",
    "    input_deep = keras.layers.Input(shape = [input_shape], name = 'deep')\n",
    "\n",
    "    # layers\n",
    "    hidden1 = keras.layers.Dense(256, activation = 'relu')(input_deep)\n",
    "    hidden2 = keras.layers.Dense(256, activation = 'relu')(hidden1)\n",
    "    hidden3 = keras.layers.Dense(256, activation = 'relu')(hidden2)\n",
    "    # concat with input shallow\n",
    "    concat_1 = keras.layers.concatenate([input_shallow, hidden3])\n",
    "    hidden4 = keras.layers.Dense(256, activation = 'relu')(concat_1)\n",
    "    hidden_final = keras.layers.Dense(256, activation = 'relu')(hidden4)\n",
    "    # concat with final deep input\n",
    "    concat_final = keras.layers.concatenate([input_wide, hidden_final])\n",
    "    output = keras.layers.Dense(10, name = 'output', activation = 'softmax')(concat_final)\n",
    "    model = keras.Model(inputs = [input_deep, input_shallow, input_wide], outputs = [output])\n",
    "    model.compile(loss = 'sparse_categorical_crossentropy', optimizer = keras.optimizers.SGD(learning_rate = 1e-3), metrics = ['accuracy'])\n",
    "    return model"
   ]
  },
  {
   "cell_type": "code",
   "execution_count": 274,
   "metadata": {},
   "outputs": [],
   "source": [
    "keras.backend.clear_session()\n",
    "np.random.seed(42)\n",
    "tf.random.set_seed(42)\n",
    "my_nn = build_model(X_train.shape[1])"
   ]
  },
  {
   "cell_type": "code",
   "execution_count": 275,
   "metadata": {},
   "outputs": [
    {
     "name": "stdout",
     "output_type": "stream",
     "text": [
      "Model: \"model\"\n",
      "__________________________________________________________________________________________________\n",
      " Layer (type)                   Output Shape         Param #     Connected to                     \n",
      "==================================================================================================\n",
      " deep (InputLayer)              [(None, 784)]        0           []                               \n",
      "                                                                                                  \n",
      " dense (Dense)                  (None, 256)          200960      ['deep[0][0]']                   \n",
      "                                                                                                  \n",
      " dense_1 (Dense)                (None, 256)          65792       ['dense[0][0]']                  \n",
      "                                                                                                  \n",
      " shallow (InputLayer)           [(None, 784)]        0           []                               \n",
      "                                                                                                  \n",
      " dense_2 (Dense)                (None, 256)          65792       ['dense_1[0][0]']                \n",
      "                                                                                                  \n",
      " concatenate (Concatenate)      (None, 1040)         0           ['shallow[0][0]',                \n",
      "                                                                  'dense_2[0][0]']                \n",
      "                                                                                                  \n",
      " dense_3 (Dense)                (None, 256)          266496      ['concatenate[0][0]']            \n",
      "                                                                                                  \n",
      " wide (InputLayer)              [(None, 784)]        0           []                               \n",
      "                                                                                                  \n",
      " dense_4 (Dense)                (None, 256)          65792       ['dense_3[0][0]']                \n",
      "                                                                                                  \n",
      " concatenate_1 (Concatenate)    (None, 1040)         0           ['wide[0][0]',                   \n",
      "                                                                  'dense_4[0][0]']                \n",
      "                                                                                                  \n",
      " output (Dense)                 (None, 10)           10410       ['concatenate_1[0][0]']          \n",
      "                                                                                                  \n",
      "==================================================================================================\n",
      "Total params: 675,242\n",
      "Trainable params: 675,242\n",
      "Non-trainable params: 0\n",
      "__________________________________________________________________________________________________\n"
     ]
    }
   ],
   "source": [
    "my_nn.summary()"
   ]
  },
  {
   "cell_type": "code",
   "execution_count": 276,
   "metadata": {},
   "outputs": [],
   "source": [
    "# make a validation set from training set\n",
    "from sklearn.model_selection import train_test_split\n",
    "X_train, X_valid, y_train, y_valid = train_test_split(X_train_dropout, y_train, train_size = 0.75, random_state = 28)"
   ]
  },
  {
   "cell_type": "code",
   "execution_count": 277,
   "metadata": {},
   "outputs": [
    {
     "name": "stdout",
     "output_type": "stream",
     "text": [
      "Epoch 1/50\n",
      "352/352 [==============================] - 2s 4ms/step - loss: 2.1875 - accuracy: 0.2203 - val_loss: 1.9592 - val_accuracy: 0.4095\n",
      "Epoch 2/50\n",
      "352/352 [==============================] - 1s 4ms/step - loss: 1.7824 - accuracy: 0.5466 - val_loss: 1.6381 - val_accuracy: 0.6316\n",
      "Epoch 3/50\n",
      "352/352 [==============================] - 1s 4ms/step - loss: 1.5079 - accuracy: 0.6855 - val_loss: 1.4074 - val_accuracy: 0.7133\n",
      "Epoch 4/50\n",
      "352/352 [==============================] - 1s 4ms/step - loss: 1.3095 - accuracy: 0.7416 - val_loss: 1.2386 - val_accuracy: 0.7514\n",
      "Epoch 5/50\n",
      "352/352 [==============================] - 1s 4ms/step - loss: 1.1631 - accuracy: 0.7720 - val_loss: 1.1121 - val_accuracy: 0.7778\n",
      "Epoch 6/50\n",
      "352/352 [==============================] - 1s 4ms/step - loss: 1.0521 - accuracy: 0.7917 - val_loss: 1.0147 - val_accuracy: 0.7949\n",
      "Epoch 7/50\n",
      "352/352 [==============================] - 1s 4ms/step - loss: 0.9656 - accuracy: 0.8050 - val_loss: 0.9377 - val_accuracy: 0.8067\n",
      "Epoch 8/50\n",
      "352/352 [==============================] - 1s 4ms/step - loss: 0.8966 - accuracy: 0.8163 - val_loss: 0.8753 - val_accuracy: 0.8165\n",
      "Epoch 9/50\n",
      "352/352 [==============================] - 1s 4ms/step - loss: 0.8403 - accuracy: 0.8231 - val_loss: 0.8239 - val_accuracy: 0.8229\n",
      "Epoch 10/50\n",
      "352/352 [==============================] - 1s 4ms/step - loss: 0.7935 - accuracy: 0.8294 - val_loss: 0.7806 - val_accuracy: 0.8290\n",
      "Epoch 11/50\n",
      "352/352 [==============================] - 1s 4ms/step - loss: 0.7539 - accuracy: 0.8354 - val_loss: 0.7439 - val_accuracy: 0.8341\n",
      "Epoch 12/50\n",
      "352/352 [==============================] - 1s 4ms/step - loss: 0.7200 - accuracy: 0.8398 - val_loss: 0.7121 - val_accuracy: 0.8386\n",
      "Epoch 13/50\n",
      "352/352 [==============================] - 1s 4ms/step - loss: 0.6907 - accuracy: 0.8436 - val_loss: 0.6845 - val_accuracy: 0.8417\n",
      "Epoch 14/50\n",
      "352/352 [==============================] - 1s 4ms/step - loss: 0.6650 - accuracy: 0.8471 - val_loss: 0.6602 - val_accuracy: 0.8452\n",
      "Epoch 15/50\n",
      "352/352 [==============================] - 1s 4ms/step - loss: 0.6422 - accuracy: 0.8500 - val_loss: 0.6385 - val_accuracy: 0.8483\n",
      "Epoch 16/50\n",
      "352/352 [==============================] - 1s 4ms/step - loss: 0.6220 - accuracy: 0.8532 - val_loss: 0.6192 - val_accuracy: 0.8511\n",
      "Epoch 17/50\n",
      "352/352 [==============================] - 1s 4ms/step - loss: 0.6038 - accuracy: 0.8555 - val_loss: 0.6017 - val_accuracy: 0.8549\n",
      "Epoch 18/50\n",
      "352/352 [==============================] - 1s 4ms/step - loss: 0.5874 - accuracy: 0.8582 - val_loss: 0.5859 - val_accuracy: 0.8567\n",
      "Epoch 19/50\n",
      "352/352 [==============================] - 1s 4ms/step - loss: 0.5724 - accuracy: 0.8597 - val_loss: 0.5716 - val_accuracy: 0.8588\n",
      "Epoch 20/50\n",
      "352/352 [==============================] - 1s 4ms/step - loss: 0.5588 - accuracy: 0.8620 - val_loss: 0.5584 - val_accuracy: 0.8604\n",
      "Epoch 21/50\n",
      "352/352 [==============================] - 1s 4ms/step - loss: 0.5463 - accuracy: 0.8639 - val_loss: 0.5463 - val_accuracy: 0.8619\n",
      "Epoch 22/50\n",
      "352/352 [==============================] - 1s 4ms/step - loss: 0.5348 - accuracy: 0.8657 - val_loss: 0.5352 - val_accuracy: 0.8633\n",
      "Epoch 23/50\n",
      "352/352 [==============================] - 1s 4ms/step - loss: 0.5241 - accuracy: 0.8676 - val_loss: 0.5248 - val_accuracy: 0.8651\n",
      "Epoch 24/50\n",
      "352/352 [==============================] - 1s 4ms/step - loss: 0.5142 - accuracy: 0.8690 - val_loss: 0.5153 - val_accuracy: 0.8668\n",
      "Epoch 25/50\n",
      "352/352 [==============================] - 1s 4ms/step - loss: 0.5050 - accuracy: 0.8709 - val_loss: 0.5062 - val_accuracy: 0.8683\n",
      "Epoch 26/50\n",
      "352/352 [==============================] - 1s 4ms/step - loss: 0.4964 - accuracy: 0.8724 - val_loss: 0.4979 - val_accuracy: 0.8695\n",
      "Epoch 27/50\n",
      "352/352 [==============================] - 1s 4ms/step - loss: 0.4883 - accuracy: 0.8738 - val_loss: 0.4901 - val_accuracy: 0.8710\n",
      "Epoch 28/50\n",
      "352/352 [==============================] - 1s 4ms/step - loss: 0.4807 - accuracy: 0.8752 - val_loss: 0.4827 - val_accuracy: 0.8720\n",
      "Epoch 29/50\n",
      "352/352 [==============================] - 1s 4ms/step - loss: 0.4736 - accuracy: 0.8765 - val_loss: 0.4758 - val_accuracy: 0.8733\n",
      "Epoch 30/50\n",
      "352/352 [==============================] - 1s 4ms/step - loss: 0.4668 - accuracy: 0.8775 - val_loss: 0.4694 - val_accuracy: 0.8741\n",
      "Epoch 31/50\n",
      "352/352 [==============================] - 1s 4ms/step - loss: 0.4605 - accuracy: 0.8784 - val_loss: 0.4630 - val_accuracy: 0.8759\n",
      "Epoch 32/50\n",
      "352/352 [==============================] - 1s 4ms/step - loss: 0.4545 - accuracy: 0.8798 - val_loss: 0.4572 - val_accuracy: 0.8763\n",
      "Epoch 33/50\n",
      "352/352 [==============================] - 1s 4ms/step - loss: 0.4487 - accuracy: 0.8809 - val_loss: 0.4516 - val_accuracy: 0.8778\n",
      "Epoch 34/50\n",
      "352/352 [==============================] - 1s 4ms/step - loss: 0.4433 - accuracy: 0.8818 - val_loss: 0.4463 - val_accuracy: 0.8789\n",
      "Epoch 35/50\n",
      "352/352 [==============================] - 1s 4ms/step - loss: 0.4381 - accuracy: 0.8828 - val_loss: 0.4414 - val_accuracy: 0.8804\n",
      "Epoch 36/50\n",
      "352/352 [==============================] - 1s 4ms/step - loss: 0.4331 - accuracy: 0.8838 - val_loss: 0.4365 - val_accuracy: 0.8812\n",
      "Epoch 37/50\n",
      "352/352 [==============================] - 1s 4ms/step - loss: 0.4284 - accuracy: 0.8847 - val_loss: 0.4320 - val_accuracy: 0.8824\n",
      "Epoch 38/50\n",
      "352/352 [==============================] - 1s 4ms/step - loss: 0.4239 - accuracy: 0.8857 - val_loss: 0.4275 - val_accuracy: 0.8831\n",
      "Epoch 39/50\n",
      "352/352 [==============================] - 1s 4ms/step - loss: 0.4195 - accuracy: 0.8866 - val_loss: 0.4234 - val_accuracy: 0.8837\n",
      "Epoch 40/50\n",
      "352/352 [==============================] - 1s 4ms/step - loss: 0.4154 - accuracy: 0.8874 - val_loss: 0.4194 - val_accuracy: 0.8843\n",
      "Epoch 41/50\n",
      "352/352 [==============================] - 1s 4ms/step - loss: 0.4114 - accuracy: 0.8882 - val_loss: 0.4155 - val_accuracy: 0.8852\n",
      "Epoch 42/50\n",
      "352/352 [==============================] - 1s 4ms/step - loss: 0.4075 - accuracy: 0.8893 - val_loss: 0.4117 - val_accuracy: 0.8857\n",
      "Epoch 43/50\n",
      "352/352 [==============================] - 1s 4ms/step - loss: 0.4038 - accuracy: 0.8904 - val_loss: 0.4083 - val_accuracy: 0.8867\n",
      "Epoch 44/50\n",
      "352/352 [==============================] - 1s 4ms/step - loss: 0.4002 - accuracy: 0.8914 - val_loss: 0.4049 - val_accuracy: 0.8873\n",
      "Epoch 45/50\n",
      "352/352 [==============================] - 1s 4ms/step - loss: 0.3968 - accuracy: 0.8917 - val_loss: 0.4015 - val_accuracy: 0.8888\n",
      "Epoch 46/50\n",
      "352/352 [==============================] - 1s 4ms/step - loss: 0.3935 - accuracy: 0.8924 - val_loss: 0.3983 - val_accuracy: 0.8888\n",
      "Epoch 47/50\n",
      "352/352 [==============================] - 1s 4ms/step - loss: 0.3903 - accuracy: 0.8933 - val_loss: 0.3952 - val_accuracy: 0.8898\n",
      "Epoch 48/50\n",
      "352/352 [==============================] - 1s 4ms/step - loss: 0.3872 - accuracy: 0.8940 - val_loss: 0.3922 - val_accuracy: 0.8903\n",
      "Epoch 49/50\n",
      "352/352 [==============================] - 1s 4ms/step - loss: 0.3841 - accuracy: 0.8947 - val_loss: 0.3894 - val_accuracy: 0.8910\n",
      "Epoch 50/50\n",
      "352/352 [==============================] - 1s 4ms/step - loss: 0.3812 - accuracy: 0.8955 - val_loss: 0.3866 - val_accuracy: 0.8915\n"
     ]
    }
   ],
   "source": [
    "# fit the model\n",
    "history = my_nn.fit([X_train, X_train, X_train], y_train, epochs = 50, validation_data = ([X_valid, X_valid, X_valid], y_valid),  batch_size = 128)"
   ]
  },
  {
   "cell_type": "markdown",
   "metadata": {},
   "source": [
    "Looks like we got a pretty high accuracy score on the validation set. \n",
    "\n",
    "Next I would like to see if scaling the data would help improve the validation accuracy."
   ]
  },
  {
   "cell_type": "markdown",
   "metadata": {},
   "source": [
    "## Apply Standard Scaler to Dataset"
   ]
  },
  {
   "cell_type": "code",
   "execution_count": 278,
   "metadata": {},
   "outputs": [],
   "source": [
    "(X_train, y_train), (X_test, y_test) = keras.datasets.mnist.load_data()\n",
    "X_train, y_train = reshape_X_and_y(X_train, y_train)\n",
    "X_test, y_test = reshape_X_and_y(X_test, y_test)"
   ]
  },
  {
   "cell_type": "code",
   "execution_count": 279,
   "metadata": {},
   "outputs": [],
   "source": [
    "X_train_tr = X_train / 255.0\n",
    "X_test_tr = X_test / 255.0"
   ]
  },
  {
   "cell_type": "code",
   "execution_count": 280,
   "metadata": {},
   "outputs": [
    {
     "data": {
      "image/png": "[encoded data removed]",
      "text/plain": [
       "<Figure size 720x1440 with 2 Axes>"
      ]
     },
     "metadata": {
      "needs_background": "light"
     },
     "output_type": "display_data"
    }
   ],
   "source": [
    "# visualize before and after scaling\n",
    "import matplotlib.pyplot as plt\n",
    "%matplotlib inline\n",
    "import matplotlib as mpl\n",
    "\n",
    "fig, axs = plt.subplots(1,2)\n",
    "fig.set_size_inches(10,20)\n",
    "\n",
    "example = X_train[0].reshape(28,28)\n",
    "example_tr = X_train_tr[0].reshape(28,28)\n",
    "axs[0].imshow(example, cmap = mpl.cm.binary)\n",
    "axs[0].set_title('Not Scaled')\n",
    "axs[1].imshow(example_tr, cmap = mpl.cm.binary)\n",
    "axs[1].set_title('Scaled')\n",
    "\n",
    "plt.show()"
   ]
  },
  {
   "cell_type": "code",
   "execution_count": 281,
   "metadata": {},
   "outputs": [],
   "source": [
    "X_train, X_valid, y_train, y_valid = train_test_split(X_train_tr, y_train, train_size = 0.75, random_state = 48)"
   ]
  },
  {
   "cell_type": "code",
   "execution_count": 282,
   "metadata": {},
   "outputs": [],
   "source": [
    "keras.backend.clear_session()\n",
    "np.random.seed(42)\n",
    "tf.random.set_seed(42)\n",
    "my_model2 = build_model(X_train.shape[1])"
   ]
  },
  {
   "cell_type": "code",
   "execution_count": 283,
   "metadata": {},
   "outputs": [
    {
     "name": "stdout",
     "output_type": "stream",
     "text": [
      "Epoch 1/50\n",
      "352/352 [==============================] - 2s 4ms/step - loss: 0.3886 - accuracy: 0.8990 - val_loss: 0.3859 - val_accuracy: 0.8970\n",
      "Epoch 2/50\n",
      "352/352 [==============================] - 1s 4ms/step - loss: 0.3850 - accuracy: 0.8993 - val_loss: 0.3826 - val_accuracy: 0.8975\n",
      "Epoch 3/50\n",
      "352/352 [==============================] - 2s 4ms/step - loss: 0.3815 - accuracy: 0.9001 - val_loss: 0.3794 - val_accuracy: 0.8979\n",
      "Epoch 4/50\n",
      "352/352 [==============================] - 2s 4ms/step - loss: 0.3782 - accuracy: 0.9009 - val_loss: 0.3764 - val_accuracy: 0.8984\n",
      "Epoch 5/50\n",
      "352/352 [==============================] - 2s 4ms/step - loss: 0.3750 - accuracy: 0.9011 - val_loss: 0.3732 - val_accuracy: 0.8991\n",
      "Epoch 6/50\n",
      "352/352 [==============================] - 2s 4ms/step - loss: 0.3720 - accuracy: 0.9016 - val_loss: 0.3705 - val_accuracy: 0.8991\n",
      "Epoch 7/50\n",
      "352/352 [==============================] - 1s 4ms/step - loss: 0.3690 - accuracy: 0.9021 - val_loss: 0.3676 - val_accuracy: 0.8993\n",
      "Epoch 8/50\n",
      "352/352 [==============================] - 1s 4ms/step - loss: 0.3661 - accuracy: 0.9024 - val_loss: 0.3648 - val_accuracy: 0.9005\n",
      "Epoch 9/50\n",
      "352/352 [==============================] - 2s 4ms/step - loss: 0.3633 - accuracy: 0.9033 - val_loss: 0.3623 - val_accuracy: 0.9007\n",
      "Epoch 10/50\n",
      "352/352 [==============================] - 2s 4ms/step - loss: 0.3606 - accuracy: 0.9035 - val_loss: 0.3597 - val_accuracy: 0.9015\n",
      "Epoch 11/50\n",
      "352/352 [==============================] - 1s 4ms/step - loss: 0.3579 - accuracy: 0.9040 - val_loss: 0.3572 - val_accuracy: 0.9019\n",
      "Epoch 12/50\n",
      "352/352 [==============================] - 1s 4ms/step - loss: 0.3554 - accuracy: 0.9042 - val_loss: 0.3548 - val_accuracy: 0.9024\n",
      "Epoch 13/50\n",
      "352/352 [==============================] - 2s 5ms/step - loss: 0.3529 - accuracy: 0.9049 - val_loss: 0.3526 - val_accuracy: 0.9021\n",
      "Epoch 14/50\n",
      "352/352 [==============================] - 1s 4ms/step - loss: 0.3505 - accuracy: 0.9053 - val_loss: 0.3503 - val_accuracy: 0.9029\n",
      "Epoch 15/50\n",
      "352/352 [==============================] - 1s 4ms/step - loss: 0.3481 - accuracy: 0.9057 - val_loss: 0.3481 - val_accuracy: 0.9035\n",
      "Epoch 16/50\n",
      "352/352 [==============================] - 1s 4ms/step - loss: 0.3459 - accuracy: 0.9066 - val_loss: 0.3461 - val_accuracy: 0.9038\n",
      "Epoch 17/50\n",
      "352/352 [==============================] - 1s 4ms/step - loss: 0.3436 - accuracy: 0.9067 - val_loss: 0.3438 - val_accuracy: 0.9041\n",
      "Epoch 18/50\n",
      "352/352 [==============================] - 1s 4ms/step - loss: 0.3414 - accuracy: 0.9070 - val_loss: 0.3418 - val_accuracy: 0.9041\n",
      "Epoch 19/50\n",
      "352/352 [==============================] - 1s 4ms/step - loss: 0.3393 - accuracy: 0.9077 - val_loss: 0.3397 - val_accuracy: 0.9045\n",
      "Epoch 20/50\n",
      "352/352 [==============================] - 1s 4ms/step - loss: 0.3372 - accuracy: 0.9080 - val_loss: 0.3378 - val_accuracy: 0.9053\n",
      "Epoch 21/50\n",
      "352/352 [==============================] - 1s 4ms/step - loss: 0.3352 - accuracy: 0.9084 - val_loss: 0.3357 - val_accuracy: 0.9055\n",
      "Epoch 22/50\n",
      "352/352 [==============================] - 1s 4ms/step - loss: 0.3332 - accuracy: 0.9088 - val_loss: 0.3340 - val_accuracy: 0.9061\n",
      "Epoch 23/50\n",
      "352/352 [==============================] - 1s 4ms/step - loss: 0.3312 - accuracy: 0.9095 - val_loss: 0.3322 - val_accuracy: 0.9061\n",
      "Epoch 24/50\n",
      "352/352 [==============================] - 1s 4ms/step - loss: 0.3293 - accuracy: 0.9096 - val_loss: 0.3303 - val_accuracy: 0.9067\n",
      "Epoch 25/50\n",
      "352/352 [==============================] - 1s 4ms/step - loss: 0.3274 - accuracy: 0.9100 - val_loss: 0.3285 - val_accuracy: 0.9069\n",
      "Epoch 26/50\n",
      "352/352 [==============================] - 1s 4ms/step - loss: 0.3255 - accuracy: 0.9104 - val_loss: 0.3268 - val_accuracy: 0.9077\n",
      "Epoch 27/50\n",
      "352/352 [==============================] - 1s 4ms/step - loss: 0.3237 - accuracy: 0.9107 - val_loss: 0.3251 - val_accuracy: 0.9079\n",
      "Epoch 28/50\n",
      "352/352 [==============================] - 1s 4ms/step - loss: 0.3220 - accuracy: 0.9111 - val_loss: 0.3234 - val_accuracy: 0.9084\n",
      "Epoch 29/50\n",
      "352/352 [==============================] - 1s 4ms/step - loss: 0.3202 - accuracy: 0.9113 - val_loss: 0.3217 - val_accuracy: 0.9091\n",
      "Epoch 30/50\n",
      "352/352 [==============================] - 2s 4ms/step - loss: 0.3185 - accuracy: 0.9116 - val_loss: 0.3200 - val_accuracy: 0.9095\n",
      "Epoch 31/50\n",
      "352/352 [==============================] - 1s 4ms/step - loss: 0.3168 - accuracy: 0.9121 - val_loss: 0.3185 - val_accuracy: 0.9091\n",
      "Epoch 32/50\n",
      "352/352 [==============================] - 1s 4ms/step - loss: 0.3151 - accuracy: 0.9123 - val_loss: 0.3170 - val_accuracy: 0.9097\n",
      "Epoch 33/50\n",
      "352/352 [==============================] - 1s 4ms/step - loss: 0.3135 - accuracy: 0.9129 - val_loss: 0.3154 - val_accuracy: 0.9100\n",
      "Epoch 34/50\n",
      "352/352 [==============================] - 2s 5ms/step - loss: 0.3118 - accuracy: 0.9130 - val_loss: 0.3139 - val_accuracy: 0.9100\n",
      "Epoch 35/50\n",
      "352/352 [==============================] - 2s 4ms/step - loss: 0.3103 - accuracy: 0.9137 - val_loss: 0.3124 - val_accuracy: 0.9103\n",
      "Epoch 36/50\n",
      "352/352 [==============================] - 2s 5ms/step - loss: 0.3086 - accuracy: 0.9140 - val_loss: 0.3109 - val_accuracy: 0.9107\n",
      "Epoch 37/50\n",
      "352/352 [==============================] - 2s 5ms/step - loss: 0.3071 - accuracy: 0.9146 - val_loss: 0.3094 - val_accuracy: 0.9110\n",
      "Epoch 38/50\n",
      "352/352 [==============================] - 2s 4ms/step - loss: 0.3056 - accuracy: 0.9147 - val_loss: 0.3080 - val_accuracy: 0.9113\n",
      "Epoch 39/50\n",
      "352/352 [==============================] - 1s 4ms/step - loss: 0.3041 - accuracy: 0.9155 - val_loss: 0.3067 - val_accuracy: 0.9117\n",
      "Epoch 40/50\n",
      "352/352 [==============================] - 1s 4ms/step - loss: 0.3026 - accuracy: 0.9157 - val_loss: 0.3052 - val_accuracy: 0.9120\n",
      "Epoch 41/50\n",
      "352/352 [==============================] - 1s 4ms/step - loss: 0.3011 - accuracy: 0.9157 - val_loss: 0.3038 - val_accuracy: 0.9123\n",
      "Epoch 42/50\n",
      "352/352 [==============================] - 1s 4ms/step - loss: 0.2996 - accuracy: 0.9161 - val_loss: 0.3024 - val_accuracy: 0.9125\n",
      "Epoch 43/50\n",
      "352/352 [==============================] - 1s 4ms/step - loss: 0.2982 - accuracy: 0.9167 - val_loss: 0.3011 - val_accuracy: 0.9133\n",
      "Epoch 44/50\n",
      "352/352 [==============================] - 1s 4ms/step - loss: 0.2968 - accuracy: 0.9169 - val_loss: 0.2998 - val_accuracy: 0.9135\n",
      "Epoch 45/50\n",
      "352/352 [==============================] - 1s 4ms/step - loss: 0.2954 - accuracy: 0.9175 - val_loss: 0.2984 - val_accuracy: 0.9143\n",
      "Epoch 46/50\n",
      "352/352 [==============================] - 1s 4ms/step - loss: 0.2940 - accuracy: 0.9177 - val_loss: 0.2972 - val_accuracy: 0.9137\n",
      "Epoch 47/50\n",
      "352/352 [==============================] - 1s 4ms/step - loss: 0.2926 - accuracy: 0.9181 - val_loss: 0.2959 - val_accuracy: 0.9143\n",
      "Epoch 48/50\n",
      "352/352 [==============================] - 1s 4ms/step - loss: 0.2913 - accuracy: 0.9182 - val_loss: 0.2945 - val_accuracy: 0.9148\n",
      "Epoch 49/50\n",
      "352/352 [==============================] - 1s 4ms/step - loss: 0.2899 - accuracy: 0.9185 - val_loss: 0.2933 - val_accuracy: 0.9149\n",
      "Epoch 50/50\n",
      "352/352 [==============================] - 1s 4ms/step - loss: 0.2886 - accuracy: 0.9189 - val_loss: 0.2921 - val_accuracy: 0.9151\n"
     ]
    }
   ],
   "source": [
    "# fit model\n",
    "history = my_nn.fit([X_train, X_train, X_train], y_train, epochs = 50, validation_data = ([X_valid, X_valid, X_valid], y_valid),  batch_size = 128)"
   ]
  },
  {
   "cell_type": "markdown",
   "metadata": {},
   "source": [
    "Looks like the scaled dataset performed better than the dropout set. We will use the scaled dataset and try to find the optimal parameters for the model.\n",
    "\n",
    "Let's use a callback to find the best learning rate for the model."
   ]
  },
  {
   "cell_type": "markdown",
   "metadata": {},
   "source": [
    "The cell below is taken from [the hands on machine learning repository](https://github.com/knolasco/handson-ml2/blob/master/10_neural_nets_with_keras.ipynb)."
   ]
  },
  {
   "cell_type": "code",
   "execution_count": 284,
   "metadata": {},
   "outputs": [],
   "source": [
    "K = keras.backend\n",
    "\n",
    "class ExponentialLearningRate(keras.callbacks.Callback):\n",
    "    def __init__(self, factor):\n",
    "        self.factor = factor\n",
    "        self.rates = []\n",
    "        self.losses = []\n",
    "    def on_batch_end(self, batch, logs):\n",
    "        self.rates.append(K.get_value(self.model.optimizer.lr))\n",
    "        self.losses.append(logs[\"loss\"])\n",
    "        K.set_value(self.model.optimizer.lr, self.model.optimizer.lr * self.factor)"
   ]
  },
  {
   "cell_type": "code",
   "execution_count": 285,
   "metadata": {},
   "outputs": [],
   "source": [
    "keras.backend.clear_session()\n",
    "np.random.seed(42)\n",
    "tf.random.set_seed(42)\n",
    "\n",
    "my_nn_w_callback = build_model(X_train.shape[1])\n",
    "exp_lr = ExponentialLearningRate(factor = 1.005) # increase by 0.5% each time"
   ]
  },
  {
   "cell_type": "code",
   "execution_count": 286,
   "metadata": {},
   "outputs": [
    {
     "name": "stdout",
     "output_type": "stream",
     "text": [
      "Epoch 1/10\n",
      "176/176 [==============================] - 2s 8ms/step - loss: 2.2736 - accuracy: 0.1542 - val_loss: 2.0637 - val_accuracy: 0.3291\n",
      "Epoch 2/10\n",
      "176/176 [==============================] - 1s 7ms/step - loss: 1.8097 - accuracy: 0.5501 - val_loss: 1.5279 - val_accuracy: 0.7059\n",
      "Epoch 3/10\n",
      "176/176 [==============================] - 1s 7ms/step - loss: 1.2348 - accuracy: 0.7705 - val_loss: 0.9652 - val_accuracy: 0.8171\n",
      "Epoch 4/10\n",
      "176/176 [==============================] - 1s 7ms/step - loss: 0.7624 - accuracy: 0.8398 - val_loss: 0.5975 - val_accuracy: 0.8621\n",
      "Epoch 5/10\n",
      "176/176 [==============================] - 1s 7ms/step - loss: 0.4888 - accuracy: 0.8763 - val_loss: 0.4020 - val_accuracy: 0.8879\n",
      "Epoch 6/10\n",
      "176/176 [==============================] - 1s 8ms/step - loss: 0.3485 - accuracy: 0.9032 - val_loss: 0.2988 - val_accuracy: 0.9149\n",
      "Epoch 7/10\n",
      "176/176 [==============================] - 1s 7ms/step - loss: 0.2806 - accuracy: 0.9182 - val_loss: 0.3738 - val_accuracy: 0.8787\n",
      "Epoch 8/10\n",
      "176/176 [==============================] - 1s 7ms/step - loss: 0.2710 - accuracy: 0.9205 - val_loss: 0.1966 - val_accuracy: 0.9381\n",
      "Epoch 9/10\n",
      "176/176 [==============================] - 1s 8ms/step - loss: 0.4955 - accuracy: 0.8833 - val_loss: 0.3967 - val_accuracy: 0.8913\n",
      "Epoch 10/10\n",
      "176/176 [==============================] - 2s 9ms/step - loss: nan - accuracy: 0.1575 - val_loss: nan - val_accuracy: 0.0963\n"
     ]
    }
   ],
   "source": [
    "history = my_nn_w_callback.fit([X_train, X_train, X_train], y_train, epochs = 10, validation_data = ([X_valid, X_valid, X_valid], y_valid), callbacks = [exp_lr], batch_size = 256)"
   ]
  },
  {
   "cell_type": "markdown",
   "metadata": {},
   "source": [
    "Now let's plot the loss against the learning rate to find the best learning rate."
   ]
  },
  {
   "cell_type": "code",
   "execution_count": 287,
   "metadata": {},
   "outputs": [
    {
     "data": {
      "text/plain": [
       "Text(0, 0.5, 'Loss')"
      ]
     },
     "execution_count": 287,
     "metadata": {},
     "output_type": "execute_result"
    },
    {
     "data": {
      "image/png": "[encoded data removed]",
      "text/plain": [
       "<Figure size 432x288 with 1 Axes>"
      ]
     },
     "metadata": {
      "needs_background": "light"
     },
     "output_type": "display_data"
    }
   ],
   "source": [
    "plt.plot(exp_lr.rates, exp_lr.losses)\n",
    "plt.gca().set_xscale('log')\n",
    "plt.hlines(min(exp_lr.losses), min(exp_lr.rates), max(exp_lr.rates))\n",
    "plt.axis([min(exp_lr.rates), max(exp_lr.rates), 0, exp_lr.losses[0]])\n",
    "plt.xlabel(\"Learning rate\")\n",
    "plt.ylabel(\"Loss\")"
   ]
  },
  {
   "cell_type": "code",
   "execution_count": 288,
   "metadata": {},
   "outputs": [
    {
     "data": {
      "text/plain": [
       "list"
      ]
     },
     "execution_count": 288,
     "metadata": {},
     "output_type": "execute_result"
    }
   ],
   "source": [
    "type(exp_lr.losses)"
   ]
  },
  {
   "cell_type": "code",
   "execution_count": 289,
   "metadata": {},
   "outputs": [],
   "source": [
    "# get the min index for where the minimum loss occurs\n",
    "val, idx = min((val, idx) for (idx, val) in enumerate(exp_lr.losses))"
   ]
  },
  {
   "cell_type": "code",
   "execution_count": 290,
   "metadata": {},
   "outputs": [
    {
     "data": {
      "text/plain": [
       "(0.16867539286613464, 1.1215323)"
      ]
     },
     "execution_count": 290,
     "metadata": {},
     "output_type": "execute_result"
    }
   ],
   "source": [
    "val, exp_lr.rates[idx]"
   ]
  },
  {
   "cell_type": "markdown",
   "metadata": {},
   "source": [
    "Let's create another model with the same structure but the optimal learning rate. We will also use an early stopping call back and prepare the model to use tensorboard."
   ]
  },
  {
   "cell_type": "code",
   "execution_count": 291,
   "metadata": {},
   "outputs": [],
   "source": [
    "def build_model_optimized(input_shape, best_lr):\n",
    "    # inputs\n",
    "    input_wide = keras.layers.Input(shape = [input_shape], name = 'wide')\n",
    "    input_shallow = keras.layers.Input(shape = [input_shape], name = 'shallow')\n",
    "    input_deep = keras.layers.Input(shape = [input_shape], name = 'deep')\n",
    "\n",
    "    # layers\n",
    "    hidden1 = keras.layers.Dense(256, activation = 'relu')(input_deep)\n",
    "    hidden2 = keras.layers.Dense(256, activation = 'relu')(hidden1)\n",
    "    hidden3 = keras.layers.Dense(256, activation = 'relu')(hidden2)\n",
    "    # concat with input shallow\n",
    "    concat_1 = keras.layers.concatenate([input_shallow, hidden3])\n",
    "    hidden4 = keras.layers.Dense(256, activation = 'relu')(concat_1)\n",
    "    hidden_final = keras.layers.Dense(256, activation = 'relu')(hidden4)\n",
    "    # concat with final deep input\n",
    "    concat_final = keras.layers.concatenate([input_wide, hidden_final])\n",
    "    output = keras.layers.Dense(10, name = 'output', activation = 'softmax')(concat_final)\n",
    "    model = keras.Model(inputs = [input_deep, input_shallow, input_wide], outputs = [output])\n",
    "    model.compile(loss = 'sparse_categorical_crossentropy', optimizer = keras.optimizers.SGD(learning_rate = best_lr), metrics = ['accuracy'])\n",
    "    return model"
   ]
  },
  {
   "cell_type": "code",
   "execution_count": 292,
   "metadata": {},
   "outputs": [],
   "source": [
    "keras.backend.clear_session()\n",
    "np.random.seed(42)\n",
    "tf.random.set_seed(42)\n",
    "best_model = build_model_optimized(X_train.shape[1], best_lr = exp_lr.rates[idx])"
   ]
  },
  {
   "cell_type": "code",
   "execution_count": 293,
   "metadata": {},
   "outputs": [
    {
     "data": {
      "text/plain": [
       "'.\\\\my_mnist_logs\\\\run_001'"
      ]
     },
     "execution_count": 293,
     "metadata": {},
     "output_type": "execute_result"
    }
   ],
   "source": [
    "import os\n",
    "run_index = 1 # increment this at every run\n",
    "run_logdir = os.path.join(os.curdir, \"my_mnist_logs\", \"run_{:03d}\".format(run_index))\n",
    "run_logdir"
   ]
  },
  {
   "cell_type": "code",
   "execution_count": 294,
   "metadata": {},
   "outputs": [
    {
     "name": "stdout",
     "output_type": "stream",
     "text": [
      "Epoch 1/75\n",
      "704/704 [==============================] - 2s 3ms/step - loss: 0.3979 - accuracy: 0.8927 - val_loss: 0.2618 - val_accuracy: 0.9245\n",
      "Epoch 2/75\n",
      "704/704 [==============================] - 2s 3ms/step - loss: 0.1855 - accuracy: 0.9475 - val_loss: 0.1854 - val_accuracy: 0.9502\n",
      "Epoch 3/75\n",
      "704/704 [==============================] - 2s 3ms/step - loss: 0.1342 - accuracy: 0.9624 - val_loss: 0.1518 - val_accuracy: 0.9591\n",
      "Epoch 4/75\n",
      "704/704 [==============================] - 2s 4ms/step - loss: 0.0972 - accuracy: 0.9714 - val_loss: 0.1177 - val_accuracy: 0.9696\n",
      "Epoch 5/75\n",
      "704/704 [==============================] - 2s 3ms/step - loss: 0.0824 - accuracy: 0.9756 - val_loss: 1.8977 - val_accuracy: 0.7167\n",
      "Epoch 6/75\n",
      "704/704 [==============================] - 2s 3ms/step - loss: 0.0802 - accuracy: 0.9771 - val_loss: 0.1293 - val_accuracy: 0.9678\n",
      "Epoch 7/75\n",
      "704/704 [==============================] - 2s 3ms/step - loss: 0.0527 - accuracy: 0.9838 - val_loss: 0.6006 - val_accuracy: 0.9133\n",
      "Epoch 8/75\n",
      "704/704 [==============================] - 2s 3ms/step - loss: 0.0499 - accuracy: 0.9850 - val_loss: 0.1197 - val_accuracy: 0.9729\n",
      "Epoch 9/75\n",
      "704/704 [==============================] - 2s 3ms/step - loss: 0.0416 - accuracy: 0.9875 - val_loss: 0.1234 - val_accuracy: 0.9726\n",
      "Epoch 10/75\n",
      "704/704 [==============================] - 2s 3ms/step - loss: 0.0309 - accuracy: 0.9899 - val_loss: 0.1244 - val_accuracy: 0.9743\n",
      "Epoch 11/75\n",
      "704/704 [==============================] - 2s 3ms/step - loss: 0.0253 - accuracy: 0.9923 - val_loss: 0.1254 - val_accuracy: 0.9737\n",
      "Epoch 12/75\n",
      "704/704 [==============================] - 2s 3ms/step - loss: 0.0227 - accuracy: 0.9931 - val_loss: 0.1789 - val_accuracy: 0.9656\n",
      "Epoch 13/75\n",
      "704/704 [==============================] - 2s 3ms/step - loss: 0.0184 - accuracy: 0.9936 - val_loss: 0.1177 - val_accuracy: 0.9769\n",
      "Epoch 14/75\n",
      "704/704 [==============================] - 2s 3ms/step - loss: 0.0113 - accuracy: 0.9964 - val_loss: 0.1333 - val_accuracy: 0.9733\n",
      "Epoch 15/75\n",
      "704/704 [==============================] - 2s 3ms/step - loss: 0.0056 - accuracy: 0.9982 - val_loss: 0.1181 - val_accuracy: 0.9784\n",
      "Epoch 16/75\n",
      "704/704 [==============================] - 2s 3ms/step - loss: 0.0037 - accuracy: 0.9990 - val_loss: 0.1088 - val_accuracy: 0.9800\n",
      "Epoch 17/75\n",
      "704/704 [==============================] - 2s 3ms/step - loss: 0.0013 - accuracy: 0.9998 - val_loss: 0.1062 - val_accuracy: 0.9810\n",
      "Epoch 18/75\n",
      "704/704 [==============================] - 2s 3ms/step - loss: 4.3649e-04 - accuracy: 1.0000 - val_loss: 0.1058 - val_accuracy: 0.9811\n",
      "Epoch 19/75\n",
      "704/704 [==============================] - 2s 3ms/step - loss: 2.7527e-04 - accuracy: 1.0000 - val_loss: 0.1064 - val_accuracy: 0.9813\n",
      "Epoch 20/75\n",
      "704/704 [==============================] - 2s 3ms/step - loss: 2.0261e-04 - accuracy: 1.0000 - val_loss: 0.1076 - val_accuracy: 0.9815\n",
      "Epoch 21/75\n",
      "704/704 [==============================] - 2s 3ms/step - loss: 1.6769e-04 - accuracy: 1.0000 - val_loss: 0.1087 - val_accuracy: 0.9815\n",
      "Epoch 22/75\n",
      "704/704 [==============================] - 2s 3ms/step - loss: 1.4932e-04 - accuracy: 1.0000 - val_loss: 0.1093 - val_accuracy: 0.9815\n",
      "Epoch 23/75\n",
      "704/704 [==============================] - 2s 3ms/step - loss: 1.3353e-04 - accuracy: 1.0000 - val_loss: 0.1098 - val_accuracy: 0.9817\n",
      "Epoch 24/75\n",
      "704/704 [==============================] - 2s 2ms/step - loss: 1.2053e-04 - accuracy: 1.0000 - val_loss: 0.1105 - val_accuracy: 0.9820\n",
      "Epoch 25/75\n",
      "704/704 [==============================] - 2s 2ms/step - loss: 1.0938e-04 - accuracy: 1.0000 - val_loss: 0.1111 - val_accuracy: 0.9819\n",
      "Epoch 26/75\n",
      "704/704 [==============================] - 2s 3ms/step - loss: 1.0124e-04 - accuracy: 1.0000 - val_loss: 0.1115 - val_accuracy: 0.9820\n",
      "Epoch 27/75\n",
      "704/704 [==============================] - 2s 3ms/step - loss: 9.4130e-05 - accuracy: 1.0000 - val_loss: 0.1120 - val_accuracy: 0.9821\n",
      "Epoch 28/75\n",
      "704/704 [==============================] - 2s 3ms/step - loss: 8.7882e-05 - accuracy: 1.0000 - val_loss: 0.1127 - val_accuracy: 0.9821\n",
      "Epoch 29/75\n",
      "704/704 [==============================] - 2s 3ms/step - loss: 8.2818e-05 - accuracy: 1.0000 - val_loss: 0.1131 - val_accuracy: 0.9821\n",
      "Epoch 30/75\n",
      "704/704 [==============================] - 2s 3ms/step - loss: 7.8049e-05 - accuracy: 1.0000 - val_loss: 0.1135 - val_accuracy: 0.9820\n",
      "Epoch 31/75\n",
      "704/704 [==============================] - 2s 2ms/step - loss: 7.3680e-05 - accuracy: 1.0000 - val_loss: 0.1139 - val_accuracy: 0.9822\n",
      "Epoch 32/75\n",
      "704/704 [==============================] - 2s 3ms/step - loss: 7.0037e-05 - accuracy: 1.0000 - val_loss: 0.1143 - val_accuracy: 0.9821\n",
      "Epoch 33/75\n",
      "704/704 [==============================] - 2s 3ms/step - loss: 6.6666e-05 - accuracy: 1.0000 - val_loss: 0.1148 - val_accuracy: 0.9823\n"
     ]
    }
   ],
   "source": [
    "early_stopping_cb = keras.callbacks.EarlyStopping(patience = 15)\n",
    "checkpoint_cb = keras.callbacks.ModelCheckpoint('my_mnist_best_model.h5', save_best_only = True)\n",
    "tensorboard_cb = keras.callbacks.TensorBoard(run_logdir)\n",
    "history = best_model.fit([X_train, X_train, X_train], y_train, epochs = 75, \n",
    "                        validation_data = ([X_valid, X_valid, X_valid], y_valid), batch_size = 64, callbacks = [early_stopping_cb, checkpoint_cb, tensorboard_cb])"
   ]
  },
  {
   "cell_type": "markdown",
   "metadata": {},
   "source": [
    "Looks like the model stopped training after 33 of the 75 epochs. Let's see how it performs on the test set."
   ]
  },
  {
   "cell_type": "code",
   "execution_count": 295,
   "metadata": {},
   "outputs": [],
   "source": [
    "model = keras.models.load_model(\"my_mnist_best_model.h5\") # rollback to best model\n",
    "y_test_preds = model.predict([X_test_tr, X_test_tr, X_test_tr])"
   ]
  },
  {
   "cell_type": "code",
   "execution_count": 296,
   "metadata": {},
   "outputs": [
    {
     "name": "stdout",
     "output_type": "stream",
     "text": [
      "313/313 [==============================] - 0s 834us/step - loss: 0.0965 - accuracy: 0.9812\n",
      "Accuracy on test set: 98.12%\n"
     ]
    }
   ],
   "source": [
    "acc = model.evaluate([X_test_tr, X_test_tr, X_test_tr], y_test)\n",
    "\n",
    "print('Accuracy on test set: {:.2%}'.format(acc[1]))"
   ]
  },
  {
   "cell_type": "code",
   "execution_count": 297,
   "metadata": {},
   "outputs": [
    {
     "name": "stderr",
     "output_type": "stream",
     "text": [
      "UsageError: Line magic function `%tensorboard` not found.\n"
     ]
    }
   ],
   "source": [
    "%tensorboard --logdir=./my_mnist_logs --port=6006"
   ]
  },
  {
   "cell_type": "markdown",
   "metadata": {},
   "source": [
    "# Conclusion\n",
    "\n",
    "From the tensorboard results (not shown here), we can see that the training accuracy leveled off at 100%. Although this is typically a sign of overfitting, we can see that the validation accuracy converged nicely to 98.23% when training the model. Moreover, this accuracy translated very well with the test set and we ended with a model that is 98.12% accurate in data that it has never seen before.\n",
    "\n",
    "There were many take aways from this module. I struggled to understand what callbacks are and how to use them the first time I encountered them, but I feel like I have a much better understanding of them now. I will continue to learn tensorflow and apply it to problems that I encounter in the future.\n",
    "\n",
    "Thank you for reading."
   ]
  }
 ],
 "metadata": {
  "interpreter": {
   "hash": "32119642d05386763e8c8562dea81f2d1a47658af5751929f873a465c4a1c96a"
  },
  "kernelspec": {
   "display_name": "Python 3.9.5 ('venv': venv)",
   "language": "python",
   "name": "python3"
  },
  "language_info": {
   "codemirror_mode": {
    "name": "ipython",
    "version": 3
   },
   "file_extension": ".py",
   "mimetype": "text/x-python",
   "name": "python",
   "nbconvert_exporter": "python",
   "pygments_lexer": "ipython3",
   "version": "3.9.5"
  },
  "orig_nbformat": 4
 },
 "nbformat": 4,
 "nbformat_minor": 2
}
