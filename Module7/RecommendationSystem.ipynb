{
 "cells": [
  {
   "cell_type": "markdown",
   "metadata": {},
   "source": [
    "Data taken from [the movies dataset in Kaggle](https://www.kaggle.com/rounakbanik/the-movies-dataset)"
   ]
  },
  {
   "cell_type": "code",
   "execution_count": 108,
   "metadata": {},
   "outputs": [],
   "source": [
    "import pandas as pd\n",
    "import os"
   ]
  },
  {
   "cell_type": "code",
   "execution_count": 109,
   "metadata": {},
   "outputs": [],
   "source": [
    "CWD = os.getcwd()\n",
    "DATA_DIR = os.path.join(CWD, 'data')"
   ]
  },
  {
   "cell_type": "code",
   "execution_count": 110,
   "metadata": {},
   "outputs": [],
   "source": [
    "ratings_df = pd.read_csv(os.path.join(DATA_DIR, 'ratings.csv'))"
   ]
  },
  {
   "cell_type": "code",
   "execution_count": 111,
   "metadata": {},
   "outputs": [
    {
     "data": {
      "text/html": [
       "<div>\n",
       "<style scoped>\n",
       "    .dataframe tbody tr th:only-of-type {\n",
       "        vertical-align: middle;\n",
       "    }\n",
       "\n",
       "    .dataframe tbody tr th {\n",
       "        vertical-align: top;\n",
       "    }\n",
       "\n",
       "    .dataframe thead th {\n",
       "        text-align: right;\n",
       "    }\n",
       "</style>\n",
       "<table border=\"1\" class=\"dataframe\">\n",
       "  <thead>\n",
       "    <tr style=\"text-align: right;\">\n",
       "      <th></th>\n",
       "      <th>userId</th>\n",
       "      <th>movieId</th>\n",
       "      <th>rating</th>\n",
       "      <th>timestamp</th>\n",
       "    </tr>\n",
       "  </thead>\n",
       "  <tbody>\n",
       "    <tr>\n",
       "      <th>0</th>\n",
       "      <td>1</td>\n",
       "      <td>110</td>\n",
       "      <td>1.0</td>\n",
       "      <td>1425941529</td>\n",
       "    </tr>\n",
       "    <tr>\n",
       "      <th>1</th>\n",
       "      <td>1</td>\n",
       "      <td>147</td>\n",
       "      <td>4.5</td>\n",
       "      <td>1425942435</td>\n",
       "    </tr>\n",
       "    <tr>\n",
       "      <th>2</th>\n",
       "      <td>1</td>\n",
       "      <td>858</td>\n",
       "      <td>5.0</td>\n",
       "      <td>1425941523</td>\n",
       "    </tr>\n",
       "    <tr>\n",
       "      <th>3</th>\n",
       "      <td>1</td>\n",
       "      <td>1221</td>\n",
       "      <td>5.0</td>\n",
       "      <td>1425941546</td>\n",
       "    </tr>\n",
       "    <tr>\n",
       "      <th>4</th>\n",
       "      <td>1</td>\n",
       "      <td>1246</td>\n",
       "      <td>5.0</td>\n",
       "      <td>1425941556</td>\n",
       "    </tr>\n",
       "  </tbody>\n",
       "</table>\n",
       "</div>"
      ],
      "text/plain": [
       "   userId  movieId  rating   timestamp\n",
       "0       1      110     1.0  1425941529\n",
       "1       1      147     4.5  1425942435\n",
       "2       1      858     5.0  1425941523\n",
       "3       1     1221     5.0  1425941546\n",
       "4       1     1246     5.0  1425941556"
      ]
     },
     "execution_count": 111,
     "metadata": {},
     "output_type": "execute_result"
    }
   ],
   "source": [
    "ratings_df.head()"
   ]
  },
  {
   "cell_type": "code",
   "execution_count": 112,
   "metadata": {},
   "outputs": [
    {
     "data": {
      "text/plain": [
       "(26024289, 4)"
      ]
     },
     "execution_count": 112,
     "metadata": {},
     "output_type": "execute_result"
    }
   ],
   "source": [
    "ratings_df.shape"
   ]
  },
  {
   "cell_type": "markdown",
   "metadata": {},
   "source": [
    "# EDA"
   ]
  },
  {
   "cell_type": "code",
   "execution_count": 113,
   "metadata": {},
   "outputs": [
    {
     "name": "stdout",
     "output_type": "stream",
     "text": [
      "Avg number of ratings per user: 96\n"
     ]
    }
   ],
   "source": [
    "n_users = ratings_df['userId'].nunique()\n",
    "print('Avg number of ratings per user: {}'.format(int(ratings_df.shape[0] / n_users)))"
   ]
  },
  {
   "cell_type": "code",
   "execution_count": 114,
   "metadata": {},
   "outputs": [
    {
     "data": {
      "text/plain": [
       "rating\n",
       "0.5     404897\n",
       "1.0     843310\n",
       "1.5     403607\n",
       "2.0    1762440\n",
       "2.5    1255358\n",
       "3.0    5256722\n",
       "3.5    3116213\n",
       "4.0    6998802\n",
       "4.5    2170441\n",
       "5.0    3812499\n",
       "dtype: int64"
      ]
     },
     "execution_count": 114,
     "metadata": {},
     "output_type": "execute_result"
    }
   ],
   "source": [
    "ratings_df.groupby('rating').size()"
   ]
  },
  {
   "cell_type": "code",
   "execution_count": 115,
   "metadata": {},
   "outputs": [
    {
     "name": "stderr",
     "output_type": "stream",
     "text": [
      "C:\\Users\\nolas\\AppData\\Local\\Temp\\ipykernel_14508\\2140507666.py:1: DtypeWarning: Columns (10) have mixed types. Specify dtype option on import or set low_memory=False.\n",
      "  movies_metadata_df = pd.read_csv(os.path.join(DATA_DIR, 'movies_metadata.csv'))\n"
     ]
    }
   ],
   "source": [
    "movies_metadata_df = pd.read_csv(os.path.join(DATA_DIR, 'movies_metadata.csv'))"
   ]
  },
  {
   "cell_type": "code",
   "execution_count": 116,
   "metadata": {},
   "outputs": [
    {
     "data": {
      "text/html": [
       "<div>\n",
       "<style scoped>\n",
       "    .dataframe tbody tr th:only-of-type {\n",
       "        vertical-align: middle;\n",
       "    }\n",
       "\n",
       "    .dataframe tbody tr th {\n",
       "        vertical-align: top;\n",
       "    }\n",
       "\n",
       "    .dataframe thead th {\n",
       "        text-align: right;\n",
       "    }\n",
       "</style>\n",
       "<table border=\"1\" class=\"dataframe\">\n",
       "  <thead>\n",
       "    <tr style=\"text-align: right;\">\n",
       "      <th></th>\n",
       "      <th>adult</th>\n",
       "      <th>belongs_to_collection</th>\n",
       "      <th>budget</th>\n",
       "      <th>genres</th>\n",
       "      <th>homepage</th>\n",
       "      <th>id</th>\n",
       "      <th>imdb_id</th>\n",
       "      <th>original_language</th>\n",
       "      <th>original_title</th>\n",
       "      <th>overview</th>\n",
       "      <th>...</th>\n",
       "      <th>release_date</th>\n",
       "      <th>revenue</th>\n",
       "      <th>runtime</th>\n",
       "      <th>spoken_languages</th>\n",
       "      <th>status</th>\n",
       "      <th>tagline</th>\n",
       "      <th>title</th>\n",
       "      <th>video</th>\n",
       "      <th>vote_average</th>\n",
       "      <th>vote_count</th>\n",
       "    </tr>\n",
       "  </thead>\n",
       "  <tbody>\n",
       "    <tr>\n",
       "      <th>45461</th>\n",
       "      <td>False</td>\n",
       "      <td>NaN</td>\n",
       "      <td>0</td>\n",
       "      <td>[{'id': 18, 'name': 'Drama'}, {'id': 10751, 'n...</td>\n",
       "      <td>http://www.imdb.com/title/tt6209470/</td>\n",
       "      <td>439050</td>\n",
       "      <td>tt6209470</td>\n",
       "      <td>fa</td>\n",
       "      <td>رگ خواب</td>\n",
       "      <td>Rising and falling between a man and woman.</td>\n",
       "      <td>...</td>\n",
       "      <td>NaN</td>\n",
       "      <td>0.0</td>\n",
       "      <td>90.0</td>\n",
       "      <td>[{'iso_639_1': 'fa', 'name': 'فارسی'}]</td>\n",
       "      <td>Released</td>\n",
       "      <td>Rising and falling between a man and woman</td>\n",
       "      <td>Subdue</td>\n",
       "      <td>False</td>\n",
       "      <td>4.0</td>\n",
       "      <td>1.0</td>\n",
       "    </tr>\n",
       "    <tr>\n",
       "      <th>45462</th>\n",
       "      <td>False</td>\n",
       "      <td>NaN</td>\n",
       "      <td>0</td>\n",
       "      <td>[{'id': 18, 'name': 'Drama'}]</td>\n",
       "      <td>NaN</td>\n",
       "      <td>111109</td>\n",
       "      <td>tt2028550</td>\n",
       "      <td>tl</td>\n",
       "      <td>Siglo ng Pagluluwal</td>\n",
       "      <td>An artist struggles to finish his work while a...</td>\n",
       "      <td>...</td>\n",
       "      <td>2011-11-17</td>\n",
       "      <td>0.0</td>\n",
       "      <td>360.0</td>\n",
       "      <td>[{'iso_639_1': 'tl', 'name': ''}]</td>\n",
       "      <td>Released</td>\n",
       "      <td>NaN</td>\n",
       "      <td>Century of Birthing</td>\n",
       "      <td>False</td>\n",
       "      <td>9.0</td>\n",
       "      <td>3.0</td>\n",
       "    </tr>\n",
       "    <tr>\n",
       "      <th>45463</th>\n",
       "      <td>False</td>\n",
       "      <td>NaN</td>\n",
       "      <td>0</td>\n",
       "      <td>[{'id': 28, 'name': 'Action'}, {'id': 18, 'nam...</td>\n",
       "      <td>NaN</td>\n",
       "      <td>67758</td>\n",
       "      <td>tt0303758</td>\n",
       "      <td>en</td>\n",
       "      <td>Betrayal</td>\n",
       "      <td>When one of her hits goes wrong, a professiona...</td>\n",
       "      <td>...</td>\n",
       "      <td>2003-08-01</td>\n",
       "      <td>0.0</td>\n",
       "      <td>90.0</td>\n",
       "      <td>[{'iso_639_1': 'en', 'name': 'English'}]</td>\n",
       "      <td>Released</td>\n",
       "      <td>A deadly game of wits.</td>\n",
       "      <td>Betrayal</td>\n",
       "      <td>False</td>\n",
       "      <td>3.8</td>\n",
       "      <td>6.0</td>\n",
       "    </tr>\n",
       "    <tr>\n",
       "      <th>45464</th>\n",
       "      <td>False</td>\n",
       "      <td>NaN</td>\n",
       "      <td>0</td>\n",
       "      <td>[]</td>\n",
       "      <td>NaN</td>\n",
       "      <td>227506</td>\n",
       "      <td>tt0008536</td>\n",
       "      <td>en</td>\n",
       "      <td>Satana likuyushchiy</td>\n",
       "      <td>In a small town live two brothers, one a minis...</td>\n",
       "      <td>...</td>\n",
       "      <td>1917-10-21</td>\n",
       "      <td>0.0</td>\n",
       "      <td>87.0</td>\n",
       "      <td>[]</td>\n",
       "      <td>Released</td>\n",
       "      <td>NaN</td>\n",
       "      <td>Satan Triumphant</td>\n",
       "      <td>False</td>\n",
       "      <td>0.0</td>\n",
       "      <td>0.0</td>\n",
       "    </tr>\n",
       "    <tr>\n",
       "      <th>45465</th>\n",
       "      <td>False</td>\n",
       "      <td>NaN</td>\n",
       "      <td>0</td>\n",
       "      <td>[]</td>\n",
       "      <td>NaN</td>\n",
       "      <td>461257</td>\n",
       "      <td>tt6980792</td>\n",
       "      <td>en</td>\n",
       "      <td>Queerama</td>\n",
       "      <td>50 years after decriminalisation of homosexual...</td>\n",
       "      <td>...</td>\n",
       "      <td>2017-06-09</td>\n",
       "      <td>0.0</td>\n",
       "      <td>75.0</td>\n",
       "      <td>[{'iso_639_1': 'en', 'name': 'English'}]</td>\n",
       "      <td>Released</td>\n",
       "      <td>NaN</td>\n",
       "      <td>Queerama</td>\n",
       "      <td>False</td>\n",
       "      <td>0.0</td>\n",
       "      <td>0.0</td>\n",
       "    </tr>\n",
       "  </tbody>\n",
       "</table>\n",
       "<p>5 rows × 24 columns</p>\n",
       "</div>"
      ],
      "text/plain": [
       "       adult belongs_to_collection budget  \\\n",
       "45461  False                   NaN      0   \n",
       "45462  False                   NaN      0   \n",
       "45463  False                   NaN      0   \n",
       "45464  False                   NaN      0   \n",
       "45465  False                   NaN      0   \n",
       "\n",
       "                                                  genres  \\\n",
       "45461  [{'id': 18, 'name': 'Drama'}, {'id': 10751, 'n...   \n",
       "45462                      [{'id': 18, 'name': 'Drama'}]   \n",
       "45463  [{'id': 28, 'name': 'Action'}, {'id': 18, 'nam...   \n",
       "45464                                                 []   \n",
       "45465                                                 []   \n",
       "\n",
       "                                   homepage      id    imdb_id  \\\n",
       "45461  http://www.imdb.com/title/tt6209470/  439050  tt6209470   \n",
       "45462                                   NaN  111109  tt2028550   \n",
       "45463                                   NaN   67758  tt0303758   \n",
       "45464                                   NaN  227506  tt0008536   \n",
       "45465                                   NaN  461257  tt6980792   \n",
       "\n",
       "      original_language       original_title  \\\n",
       "45461                fa              رگ خواب   \n",
       "45462                tl  Siglo ng Pagluluwal   \n",
       "45463                en             Betrayal   \n",
       "45464                en  Satana likuyushchiy   \n",
       "45465                en             Queerama   \n",
       "\n",
       "                                                overview  ... release_date  \\\n",
       "45461        Rising and falling between a man and woman.  ...          NaN   \n",
       "45462  An artist struggles to finish his work while a...  ...   2011-11-17   \n",
       "45463  When one of her hits goes wrong, a professiona...  ...   2003-08-01   \n",
       "45464  In a small town live two brothers, one a minis...  ...   1917-10-21   \n",
       "45465  50 years after decriminalisation of homosexual...  ...   2017-06-09   \n",
       "\n",
       "      revenue runtime                          spoken_languages    status  \\\n",
       "45461     0.0    90.0    [{'iso_639_1': 'fa', 'name': 'فارسی'}]  Released   \n",
       "45462     0.0   360.0         [{'iso_639_1': 'tl', 'name': ''}]  Released   \n",
       "45463     0.0    90.0  [{'iso_639_1': 'en', 'name': 'English'}]  Released   \n",
       "45464     0.0    87.0                                        []  Released   \n",
       "45465     0.0    75.0  [{'iso_639_1': 'en', 'name': 'English'}]  Released   \n",
       "\n",
       "                                          tagline                title  video  \\\n",
       "45461  Rising and falling between a man and woman               Subdue  False   \n",
       "45462                                         NaN  Century of Birthing  False   \n",
       "45463                      A deadly game of wits.             Betrayal  False   \n",
       "45464                                         NaN     Satan Triumphant  False   \n",
       "45465                                         NaN             Queerama  False   \n",
       "\n",
       "      vote_average vote_count  \n",
       "45461          4.0        1.0  \n",
       "45462          9.0        3.0  \n",
       "45463          3.8        6.0  \n",
       "45464          0.0        0.0  \n",
       "45465          0.0        0.0  \n",
       "\n",
       "[5 rows x 24 columns]"
      ]
     },
     "execution_count": 116,
     "metadata": {},
     "output_type": "execute_result"
    }
   ],
   "source": [
    "movies_metadata_df.tail()"
   ]
  },
  {
   "cell_type": "code",
   "execution_count": 117,
   "metadata": {},
   "outputs": [
    {
     "data": {
      "text/plain": [
       "Index(['adult', 'belongs_to_collection', 'budget', 'genres', 'homepage', 'id',\n",
       "       'imdb_id', 'original_language', 'original_title', 'overview',\n",
       "       'popularity', 'poster_path', 'production_companies',\n",
       "       'production_countries', 'release_date', 'revenue', 'runtime',\n",
       "       'spoken_languages', 'status', 'tagline', 'title', 'video',\n",
       "       'vote_average', 'vote_count'],\n",
       "      dtype='object')"
      ]
     },
     "execution_count": 117,
     "metadata": {},
     "output_type": "execute_result"
    }
   ],
   "source": [
    "movies_metadata_df.columns"
   ]
  },
  {
   "cell_type": "code",
   "execution_count": 118,
   "metadata": {},
   "outputs": [
    {
     "data": {
      "text/plain": [
       "(45466, 24)"
      ]
     },
     "execution_count": 118,
     "metadata": {},
     "output_type": "execute_result"
    }
   ],
   "source": [
    "movies_metadata_df.shape"
   ]
  },
  {
   "cell_type": "code",
   "execution_count": 119,
   "metadata": {},
   "outputs": [
    {
     "data": {
      "text/plain": [
       "45115"
      ]
     },
     "execution_count": 119,
     "metadata": {},
     "output_type": "execute_result"
    }
   ],
   "source": [
    "ratings_df['movieId'].nunique()"
   ]
  },
  {
   "cell_type": "code",
   "execution_count": 120,
   "metadata": {},
   "outputs": [],
   "source": [
    "import re\n",
    "def find_date(id):\n",
    "    return bool(re.match('^[0-9]+$', id))"
   ]
  },
  {
   "cell_type": "code",
   "execution_count": 121,
   "metadata": {},
   "outputs": [],
   "source": [
    "movies_metadata_df['keep_row'] = movies_metadata_df['id'].apply(find_date)"
   ]
  },
  {
   "cell_type": "code",
   "execution_count": 122,
   "metadata": {},
   "outputs": [
    {
     "data": {
      "text/plain": [
       "True     45463\n",
       "False        3\n",
       "Name: keep_row, dtype: int64"
      ]
     },
     "execution_count": 122,
     "metadata": {},
     "output_type": "execute_result"
    }
   ],
   "source": [
    "movies_metadata_df['keep_row'].value_counts()"
   ]
  },
  {
   "cell_type": "code",
   "execution_count": 123,
   "metadata": {},
   "outputs": [
    {
     "data": {
      "text/html": [
       "<div>\n",
       "<style scoped>\n",
       "    .dataframe tbody tr th:only-of-type {\n",
       "        vertical-align: middle;\n",
       "    }\n",
       "\n",
       "    .dataframe tbody tr th {\n",
       "        vertical-align: top;\n",
       "    }\n",
       "\n",
       "    .dataframe thead th {\n",
       "        text-align: right;\n",
       "    }\n",
       "</style>\n",
       "<table border=\"1\" class=\"dataframe\">\n",
       "  <thead>\n",
       "    <tr style=\"text-align: right;\">\n",
       "      <th></th>\n",
       "      <th>adult</th>\n",
       "      <th>belongs_to_collection</th>\n",
       "      <th>budget</th>\n",
       "      <th>genres</th>\n",
       "      <th>homepage</th>\n",
       "      <th>id</th>\n",
       "      <th>imdb_id</th>\n",
       "      <th>original_language</th>\n",
       "      <th>original_title</th>\n",
       "      <th>overview</th>\n",
       "      <th>...</th>\n",
       "      <th>revenue</th>\n",
       "      <th>runtime</th>\n",
       "      <th>spoken_languages</th>\n",
       "      <th>status</th>\n",
       "      <th>tagline</th>\n",
       "      <th>title</th>\n",
       "      <th>video</th>\n",
       "      <th>vote_average</th>\n",
       "      <th>vote_count</th>\n",
       "      <th>keep_row</th>\n",
       "    </tr>\n",
       "  </thead>\n",
       "  <tbody>\n",
       "    <tr>\n",
       "      <th>19730</th>\n",
       "      <td>- Written by Ørnås</td>\n",
       "      <td>0.065736</td>\n",
       "      <td>/ff9qCepilowshEtG2GYWwzt2bs4.jpg</td>\n",
       "      <td>[{'name': 'Carousel Productions', 'id': 11176}...</td>\n",
       "      <td>[{'iso_3166_1': 'CA', 'name': 'Canada'}, {'iso...</td>\n",
       "      <td>1997-08-20</td>\n",
       "      <td>0</td>\n",
       "      <td>104.0</td>\n",
       "      <td>[{'iso_639_1': 'en', 'name': 'English'}]</td>\n",
       "      <td>Released</td>\n",
       "      <td>...</td>\n",
       "      <td>NaN</td>\n",
       "      <td>NaN</td>\n",
       "      <td>NaN</td>\n",
       "      <td>NaN</td>\n",
       "      <td>NaN</td>\n",
       "      <td>NaN</td>\n",
       "      <td>NaN</td>\n",
       "      <td>NaN</td>\n",
       "      <td>NaN</td>\n",
       "      <td>False</td>\n",
       "    </tr>\n",
       "    <tr>\n",
       "      <th>29503</th>\n",
       "      <td>Rune Balot goes to a casino connected to the ...</td>\n",
       "      <td>1.931659</td>\n",
       "      <td>/zV8bHuSL6WXoD6FWogP9j4x80bL.jpg</td>\n",
       "      <td>[{'name': 'Aniplex', 'id': 2883}, {'name': 'Go...</td>\n",
       "      <td>[{'iso_3166_1': 'US', 'name': 'United States o...</td>\n",
       "      <td>2012-09-29</td>\n",
       "      <td>0</td>\n",
       "      <td>68.0</td>\n",
       "      <td>[{'iso_639_1': 'ja', 'name': '日本語'}]</td>\n",
       "      <td>Released</td>\n",
       "      <td>...</td>\n",
       "      <td>NaN</td>\n",
       "      <td>NaN</td>\n",
       "      <td>NaN</td>\n",
       "      <td>NaN</td>\n",
       "      <td>NaN</td>\n",
       "      <td>NaN</td>\n",
       "      <td>NaN</td>\n",
       "      <td>NaN</td>\n",
       "      <td>NaN</td>\n",
       "      <td>False</td>\n",
       "    </tr>\n",
       "    <tr>\n",
       "      <th>35587</th>\n",
       "      <td>Avalanche Sharks tells the story of a bikini ...</td>\n",
       "      <td>2.185485</td>\n",
       "      <td>/zaSf5OG7V8X8gqFvly88zDdRm46.jpg</td>\n",
       "      <td>[{'name': 'Odyssey Media', 'id': 17161}, {'nam...</td>\n",
       "      <td>[{'iso_3166_1': 'CA', 'name': 'Canada'}]</td>\n",
       "      <td>2014-01-01</td>\n",
       "      <td>0</td>\n",
       "      <td>82.0</td>\n",
       "      <td>[{'iso_639_1': 'en', 'name': 'English'}]</td>\n",
       "      <td>Released</td>\n",
       "      <td>...</td>\n",
       "      <td>NaN</td>\n",
       "      <td>NaN</td>\n",
       "      <td>NaN</td>\n",
       "      <td>NaN</td>\n",
       "      <td>NaN</td>\n",
       "      <td>NaN</td>\n",
       "      <td>NaN</td>\n",
       "      <td>NaN</td>\n",
       "      <td>NaN</td>\n",
       "      <td>False</td>\n",
       "    </tr>\n",
       "  </tbody>\n",
       "</table>\n",
       "<p>3 rows × 25 columns</p>\n",
       "</div>"
      ],
      "text/plain": [
       "                                                   adult  \\\n",
       "19730                                 - Written by Ørnås   \n",
       "29503   Rune Balot goes to a casino connected to the ...   \n",
       "35587   Avalanche Sharks tells the story of a bikini ...   \n",
       "\n",
       "      belongs_to_collection                            budget  \\\n",
       "19730              0.065736  /ff9qCepilowshEtG2GYWwzt2bs4.jpg   \n",
       "29503              1.931659  /zV8bHuSL6WXoD6FWogP9j4x80bL.jpg   \n",
       "35587              2.185485  /zaSf5OG7V8X8gqFvly88zDdRm46.jpg   \n",
       "\n",
       "                                                  genres  \\\n",
       "19730  [{'name': 'Carousel Productions', 'id': 11176}...   \n",
       "29503  [{'name': 'Aniplex', 'id': 2883}, {'name': 'Go...   \n",
       "35587  [{'name': 'Odyssey Media', 'id': 17161}, {'nam...   \n",
       "\n",
       "                                                homepage          id imdb_id  \\\n",
       "19730  [{'iso_3166_1': 'CA', 'name': 'Canada'}, {'iso...  1997-08-20       0   \n",
       "29503  [{'iso_3166_1': 'US', 'name': 'United States o...  2012-09-29       0   \n",
       "35587           [{'iso_3166_1': 'CA', 'name': 'Canada'}]  2014-01-01       0   \n",
       "\n",
       "      original_language                            original_title  overview  \\\n",
       "19730             104.0  [{'iso_639_1': 'en', 'name': 'English'}]  Released   \n",
       "29503              68.0      [{'iso_639_1': 'ja', 'name': '日本語'}]  Released   \n",
       "35587              82.0  [{'iso_639_1': 'en', 'name': 'English'}]  Released   \n",
       "\n",
       "       ... revenue runtime spoken_languages status tagline  title  video  \\\n",
       "19730  ...     NaN     NaN              NaN    NaN     NaN    NaN    NaN   \n",
       "29503  ...     NaN     NaN              NaN    NaN     NaN    NaN    NaN   \n",
       "35587  ...     NaN     NaN              NaN    NaN     NaN    NaN    NaN   \n",
       "\n",
       "      vote_average vote_count keep_row  \n",
       "19730          NaN        NaN    False  \n",
       "29503          NaN        NaN    False  \n",
       "35587          NaN        NaN    False  \n",
       "\n",
       "[3 rows x 25 columns]"
      ]
     },
     "execution_count": 123,
     "metadata": {},
     "output_type": "execute_result"
    }
   ],
   "source": [
    "movies_metadata_df[movies_metadata_df['keep_row'] == False]"
   ]
  },
  {
   "cell_type": "code",
   "execution_count": 124,
   "metadata": {},
   "outputs": [
    {
     "data": {
      "text/plain": [
       "True    45463\n",
       "Name: keep_row, dtype: int64"
      ]
     },
     "execution_count": 124,
     "metadata": {},
     "output_type": "execute_result"
    }
   ],
   "source": [
    "movies_metadata_df = movies_metadata_df[movies_metadata_df['keep_row'] == True]\n",
    "movies_metadata_df['keep_row'].value_counts()"
   ]
  },
  {
   "cell_type": "code",
   "execution_count": 125,
   "metadata": {},
   "outputs": [
    {
     "name": "stderr",
     "output_type": "stream",
     "text": [
      "C:\\Users\\nolas\\AppData\\Local\\Temp\\ipykernel_14508\\3686544064.py:1: SettingWithCopyWarning: \n",
      "A value is trying to be set on a copy of a slice from a DataFrame.\n",
      "Try using .loc[row_indexer,col_indexer] = value instead\n",
      "\n",
      "See the caveats in the documentation: https://pandas.pydata.org/pandas-docs/stable/user_guide/indexing.html#returning-a-view-versus-a-copy\n",
      "  movies_metadata_df['id'] = movies_metadata_df['id'].astype('int64')\n"
     ]
    },
    {
     "data": {
      "text/plain": [
       "adult                     object\n",
       "belongs_to_collection     object\n",
       "budget                    object\n",
       "genres                    object\n",
       "homepage                  object\n",
       "id                         int64\n",
       "imdb_id                   object\n",
       "original_language         object\n",
       "original_title            object\n",
       "overview                  object\n",
       "popularity                object\n",
       "poster_path               object\n",
       "production_companies      object\n",
       "production_countries      object\n",
       "release_date              object\n",
       "revenue                  float64\n",
       "runtime                  float64\n",
       "spoken_languages          object\n",
       "status                    object\n",
       "tagline                   object\n",
       "title                     object\n",
       "video                     object\n",
       "vote_average             float64\n",
       "vote_count               float64\n",
       "keep_row                    bool\n",
       "dtype: object"
      ]
     },
     "execution_count": 125,
     "metadata": {},
     "output_type": "execute_result"
    }
   ],
   "source": [
    "movies_metadata_df['id'] = movies_metadata_df['id'].astype('int64')\n",
    "movies_metadata_df.dtypes"
   ]
  },
  {
   "cell_type": "code",
   "execution_count": 126,
   "metadata": {},
   "outputs": [
    {
     "data": {
      "text/plain": [
       "(11437637, 29)"
      ]
     },
     "execution_count": 126,
     "metadata": {},
     "output_type": "execute_result"
    }
   ],
   "source": [
    "data = ratings_df.merge(movies_metadata_df.add_suffix('_movies'), left_on = 'movieId', right_on = 'id_movies', how = 'inner')\n",
    "data.shape"
   ]
  },
  {
   "cell_type": "markdown",
   "metadata": {},
   "source": [
    "## Highest Rated Movie on Avg."
   ]
  },
  {
   "cell_type": "code",
   "execution_count": 127,
   "metadata": {},
   "outputs": [
    {
     "data": {
      "text/plain": [
       "Index(['userId', 'movieId', 'rating', 'timestamp', 'adult_movies',\n",
       "       'belongs_to_collection_movies', 'budget_movies', 'genres_movies',\n",
       "       'homepage_movies', 'id_movies', 'imdb_id_movies',\n",
       "       'original_language_movies', 'original_title_movies', 'overview_movies',\n",
       "       'popularity_movies', 'poster_path_movies',\n",
       "       'production_companies_movies', 'production_countries_movies',\n",
       "       'release_date_movies', 'revenue_movies', 'runtime_movies',\n",
       "       'spoken_languages_movies', 'status_movies', 'tagline_movies',\n",
       "       'title_movies', 'video_movies', 'vote_average_movies',\n",
       "       'vote_count_movies', 'keep_row_movies'],\n",
       "      dtype='object')"
      ]
     },
     "execution_count": 127,
     "metadata": {},
     "output_type": "execute_result"
    }
   ],
   "source": [
    "data.columns"
   ]
  },
  {
   "cell_type": "code",
   "execution_count": 128,
   "metadata": {},
   "outputs": [],
   "source": [
    "avg_rating = data.groupby(by = 'movieId')['rating'].mean().reset_index(name = 'avg_rating').sort_values(by = 'avg_rating', ascending = False)\n",
    "n_ratings = data.groupby(by = 'movieId').size().reset_index(name = 'num_ratings')"
   ]
  },
  {
   "cell_type": "code",
   "execution_count": 129,
   "metadata": {},
   "outputs": [
    {
     "data": {
      "text/html": [
       "<div>\n",
       "<style scoped>\n",
       "    .dataframe tbody tr th:only-of-type {\n",
       "        vertical-align: middle;\n",
       "    }\n",
       "\n",
       "    .dataframe tbody tr th {\n",
       "        vertical-align: top;\n",
       "    }\n",
       "\n",
       "    .dataframe thead th {\n",
       "        text-align: right;\n",
       "    }\n",
       "</style>\n",
       "<table border=\"1\" class=\"dataframe\">\n",
       "  <thead>\n",
       "    <tr style=\"text-align: right;\">\n",
       "      <th></th>\n",
       "      <th>movieId</th>\n",
       "      <th>avg_rating</th>\n",
       "      <th>num_ratings</th>\n",
       "    </tr>\n",
       "  </thead>\n",
       "  <tbody>\n",
       "    <tr>\n",
       "      <th>0</th>\n",
       "      <td>95977</td>\n",
       "      <td>5.0</td>\n",
       "      <td>1</td>\n",
       "    </tr>\n",
       "    <tr>\n",
       "      <th>1</th>\n",
       "      <td>167666</td>\n",
       "      <td>5.0</td>\n",
       "      <td>1</td>\n",
       "    </tr>\n",
       "    <tr>\n",
       "      <th>2</th>\n",
       "      <td>130544</td>\n",
       "      <td>5.0</td>\n",
       "      <td>1</td>\n",
       "    </tr>\n",
       "    <tr>\n",
       "      <th>3</th>\n",
       "      <td>129530</td>\n",
       "      <td>5.0</td>\n",
       "      <td>1</td>\n",
       "    </tr>\n",
       "    <tr>\n",
       "      <th>4</th>\n",
       "      <td>164278</td>\n",
       "      <td>5.0</td>\n",
       "      <td>1</td>\n",
       "    </tr>\n",
       "  </tbody>\n",
       "</table>\n",
       "</div>"
      ],
      "text/plain": [
       "   movieId  avg_rating  num_ratings\n",
       "0    95977         5.0            1\n",
       "1   167666         5.0            1\n",
       "2   130544         5.0            1\n",
       "3   129530         5.0            1\n",
       "4   164278         5.0            1"
      ]
     },
     "execution_count": 129,
     "metadata": {},
     "output_type": "execute_result"
    }
   ],
   "source": [
    "all_ratings = avg_rating.merge(n_ratings, on = 'movieId', how = 'inner')\n",
    "all_ratings.head()"
   ]
  },
  {
   "cell_type": "markdown",
   "metadata": {},
   "source": [
    "Make rating categories so we can see highest rated movies with most votes."
   ]
  },
  {
   "cell_type": "code",
   "execution_count": 130,
   "metadata": {},
   "outputs": [],
   "source": [
    "def rating_categories(avg_rating):\n",
    "    if avg_rating >= 4.5:\n",
    "        return '4.5+'\n",
    "    elif avg_rating >= 4:\n",
    "        return '4-4.5'\n",
    "    elif avg_rating >= 3:\n",
    "        return '3-4'\n",
    "    elif avg_rating >= 2:\n",
    "        return '2-3'\n",
    "    else:\n",
    "        return 'low'"
   ]
  },
  {
   "cell_type": "code",
   "execution_count": 131,
   "metadata": {},
   "outputs": [],
   "source": [
    "all_ratings['rating_category'] = all_ratings['avg_rating'].apply(rating_categories)"
   ]
  },
  {
   "cell_type": "code",
   "execution_count": 132,
   "metadata": {},
   "outputs": [
    {
     "data": {
      "text/plain": [
       "3-4      4735\n",
       "2-3      2179\n",
       "low       342\n",
       "4-4.5     264\n",
       "4.5+       45\n",
       "Name: rating_category, dtype: int64"
      ]
     },
     "execution_count": 132,
     "metadata": {},
     "output_type": "execute_result"
    }
   ],
   "source": [
    "all_ratings['rating_category'].value_counts()"
   ]
  },
  {
   "cell_type": "code",
   "execution_count": 133,
   "metadata": {},
   "outputs": [],
   "source": [
    "top_10_each_category = all_ratings.sort_values(by = 'num_ratings', ascending = False).groupby(by = 'rating_category').head(10)"
   ]
  },
  {
   "cell_type": "code",
   "execution_count": 134,
   "metadata": {},
   "outputs": [
    {
     "data": {
      "text/html": [
       "<div>\n",
       "<style scoped>\n",
       "    .dataframe tbody tr th:only-of-type {\n",
       "        vertical-align: middle;\n",
       "    }\n",
       "\n",
       "    .dataframe tbody tr th {\n",
       "        vertical-align: top;\n",
       "    }\n",
       "\n",
       "    .dataframe thead th {\n",
       "        text-align: right;\n",
       "    }\n",
       "</style>\n",
       "<table border=\"1\" class=\"dataframe\">\n",
       "  <thead>\n",
       "    <tr style=\"text-align: right;\">\n",
       "      <th></th>\n",
       "      <th>movieId</th>\n",
       "      <th>avg_rating</th>\n",
       "      <th>num_ratings</th>\n",
       "      <th>rating_category</th>\n",
       "    </tr>\n",
       "  </thead>\n",
       "  <tbody>\n",
       "    <tr>\n",
       "      <th>38</th>\n",
       "      <td>109441</td>\n",
       "      <td>4.50</td>\n",
       "      <td>4</td>\n",
       "      <td>4.5+</td>\n",
       "    </tr>\n",
       "    <tr>\n",
       "      <th>41</th>\n",
       "      <td>106113</td>\n",
       "      <td>4.50</td>\n",
       "      <td>3</td>\n",
       "      <td>4.5+</td>\n",
       "    </tr>\n",
       "    <tr>\n",
       "      <th>40</th>\n",
       "      <td>169496</td>\n",
       "      <td>4.50</td>\n",
       "      <td>2</td>\n",
       "      <td>4.5+</td>\n",
       "    </tr>\n",
       "    <tr>\n",
       "      <th>39</th>\n",
       "      <td>161094</td>\n",
       "      <td>4.50</td>\n",
       "      <td>2</td>\n",
       "      <td>4.5+</td>\n",
       "    </tr>\n",
       "    <tr>\n",
       "      <th>43</th>\n",
       "      <td>95578</td>\n",
       "      <td>4.50</td>\n",
       "      <td>2</td>\n",
       "      <td>4.5+</td>\n",
       "    </tr>\n",
       "    <tr>\n",
       "      <th>16</th>\n",
       "      <td>164777</td>\n",
       "      <td>4.75</td>\n",
       "      <td>2</td>\n",
       "      <td>4.5+</td>\n",
       "    </tr>\n",
       "    <tr>\n",
       "      <th>22</th>\n",
       "      <td>169022</td>\n",
       "      <td>4.50</td>\n",
       "      <td>2</td>\n",
       "      <td>4.5+</td>\n",
       "    </tr>\n",
       "    <tr>\n",
       "      <th>21</th>\n",
       "      <td>129360</td>\n",
       "      <td>4.50</td>\n",
       "      <td>2</td>\n",
       "      <td>4.5+</td>\n",
       "    </tr>\n",
       "    <tr>\n",
       "      <th>28</th>\n",
       "      <td>101538</td>\n",
       "      <td>4.50</td>\n",
       "      <td>2</td>\n",
       "      <td>4.5+</td>\n",
       "    </tr>\n",
       "    <tr>\n",
       "      <th>0</th>\n",
       "      <td>95977</td>\n",
       "      <td>5.00</td>\n",
       "      <td>1</td>\n",
       "      <td>4.5+</td>\n",
       "    </tr>\n",
       "  </tbody>\n",
       "</table>\n",
       "</div>"
      ],
      "text/plain": [
       "    movieId  avg_rating  num_ratings rating_category\n",
       "38   109441        4.50            4            4.5+\n",
       "41   106113        4.50            3            4.5+\n",
       "40   169496        4.50            2            4.5+\n",
       "39   161094        4.50            2            4.5+\n",
       "43    95578        4.50            2            4.5+\n",
       "16   164777        4.75            2            4.5+\n",
       "22   169022        4.50            2            4.5+\n",
       "21   129360        4.50            2            4.5+\n",
       "28   101538        4.50            2            4.5+\n",
       "0     95977        5.00            1            4.5+"
      ]
     },
     "execution_count": 134,
     "metadata": {},
     "output_type": "execute_result"
    }
   ],
   "source": [
    "top_10_each_category[top_10_each_category['rating_category'] == '4.5+']"
   ]
  },
  {
   "cell_type": "code",
   "execution_count": 135,
   "metadata": {},
   "outputs": [
    {
     "data": {
      "text/html": [
       "<div>\n",
       "<style scoped>\n",
       "    .dataframe tbody tr th:only-of-type {\n",
       "        vertical-align: middle;\n",
       "    }\n",
       "\n",
       "    .dataframe tbody tr th {\n",
       "        vertical-align: top;\n",
       "    }\n",
       "\n",
       "    .dataframe thead th {\n",
       "        text-align: right;\n",
       "    }\n",
       "</style>\n",
       "<table border=\"1\" class=\"dataframe\">\n",
       "  <thead>\n",
       "    <tr style=\"text-align: right;\">\n",
       "      <th></th>\n",
       "      <th>original_title</th>\n",
       "      <th>num_ratings</th>\n",
       "      <th>avg_rating</th>\n",
       "    </tr>\n",
       "  </thead>\n",
       "  <tbody>\n",
       "    <tr>\n",
       "      <th>3</th>\n",
       "      <td>Don't Go Near the Water</td>\n",
       "      <td>4</td>\n",
       "      <td>4.50</td>\n",
       "    </tr>\n",
       "    <tr>\n",
       "      <th>6</th>\n",
       "      <td>Don't Tell the Wife</td>\n",
       "      <td>3</td>\n",
       "      <td>4.50</td>\n",
       "    </tr>\n",
       "    <tr>\n",
       "      <th>1</th>\n",
       "      <td>Hoop Reality</td>\n",
       "      <td>2</td>\n",
       "      <td>4.50</td>\n",
       "    </tr>\n",
       "    <tr>\n",
       "      <th>2</th>\n",
       "      <td>친구사이?</td>\n",
       "      <td>2</td>\n",
       "      <td>4.50</td>\n",
       "    </tr>\n",
       "    <tr>\n",
       "      <th>4</th>\n",
       "      <td>Evel Knievel</td>\n",
       "      <td>2</td>\n",
       "      <td>4.50</td>\n",
       "    </tr>\n",
       "    <tr>\n",
       "      <th>5</th>\n",
       "      <td>Usain Bolt, La Légende</td>\n",
       "      <td>2</td>\n",
       "      <td>4.50</td>\n",
       "    </tr>\n",
       "    <tr>\n",
       "      <th>7</th>\n",
       "      <td>Kitchen</td>\n",
       "      <td>2</td>\n",
       "      <td>4.50</td>\n",
       "    </tr>\n",
       "    <tr>\n",
       "      <th>8</th>\n",
       "      <td>Il Magnifico Cornuto</td>\n",
       "      <td>2</td>\n",
       "      <td>4.75</td>\n",
       "    </tr>\n",
       "    <tr>\n",
       "      <th>9</th>\n",
       "      <td>The Gnomes' Great Adventure</td>\n",
       "      <td>2</td>\n",
       "      <td>4.50</td>\n",
       "    </tr>\n",
       "    <tr>\n",
       "      <th>0</th>\n",
       "      <td>The Man Behind The Gun</td>\n",
       "      <td>1</td>\n",
       "      <td>5.00</td>\n",
       "    </tr>\n",
       "  </tbody>\n",
       "</table>\n",
       "</div>"
      ],
      "text/plain": [
       "                original_title  num_ratings  avg_rating\n",
       "3      Don't Go Near the Water            4        4.50\n",
       "6          Don't Tell the Wife            3        4.50\n",
       "1                 Hoop Reality            2        4.50\n",
       "2                        친구사이?            2        4.50\n",
       "4                 Evel Knievel            2        4.50\n",
       "5       Usain Bolt, La Légende            2        4.50\n",
       "7                      Kitchen            2        4.50\n",
       "8         Il Magnifico Cornuto            2        4.75\n",
       "9  The Gnomes' Great Adventure            2        4.50\n",
       "0       The Man Behind The Gun            1        5.00"
      ]
     },
     "execution_count": 135,
     "metadata": {},
     "output_type": "execute_result"
    }
   ],
   "source": [
    "movies_metadata_df.merge(top_10_each_category[top_10_each_category['rating_category'] == '4.5+'], left_on = 'id', right_on = 'movieId', how = 'inner')[['original_title', 'num_ratings','avg_rating']].sort_values(by = 'num_ratings', ascending = False)"
   ]
  },
  {
   "cell_type": "markdown",
   "metadata": {},
   "source": [
    "Looks like this dataset doesn't have many high rated movies. Let's see the next highest rating category."
   ]
  },
  {
   "cell_type": "code",
   "execution_count": 136,
   "metadata": {},
   "outputs": [
    {
     "data": {
      "text/html": [
       "<div>\n",
       "<style scoped>\n",
       "    .dataframe tbody tr th:only-of-type {\n",
       "        vertical-align: middle;\n",
       "    }\n",
       "\n",
       "    .dataframe tbody tr th {\n",
       "        vertical-align: top;\n",
       "    }\n",
       "\n",
       "    .dataframe thead th {\n",
       "        text-align: right;\n",
       "    }\n",
       "</style>\n",
       "<table border=\"1\" class=\"dataframe\">\n",
       "  <thead>\n",
       "    <tr style=\"text-align: right;\">\n",
       "      <th></th>\n",
       "      <th>original_title</th>\n",
       "      <th>num_ratings</th>\n",
       "      <th>avg_rating</th>\n",
       "    </tr>\n",
       "  </thead>\n",
       "  <tbody>\n",
       "    <tr>\n",
       "      <th>5</th>\n",
       "      <td>The Million Dollar Hotel</td>\n",
       "      <td>91082</td>\n",
       "      <td>4.429015</td>\n",
       "    </tr>\n",
       "    <tr>\n",
       "      <th>8</th>\n",
       "      <td>Terminator 3: Rise of the Machines</td>\n",
       "      <td>87901</td>\n",
       "      <td>4.169975</td>\n",
       "    </tr>\n",
       "    <tr>\n",
       "      <th>4</th>\n",
       "      <td>Солярис</td>\n",
       "      <td>84078</td>\n",
       "      <td>4.152246</td>\n",
       "    </tr>\n",
       "    <tr>\n",
       "      <th>3</th>\n",
       "      <td>The 39 Steps</td>\n",
       "      <td>77045</td>\n",
       "      <td>4.132299</td>\n",
       "    </tr>\n",
       "    <tr>\n",
       "      <th>0</th>\n",
       "      <td>Once Were Warriors</td>\n",
       "      <td>67662</td>\n",
       "      <td>4.266531</td>\n",
       "    </tr>\n",
       "    <tr>\n",
       "      <th>1</th>\n",
       "      <td>Trois couleurs : Rouge</td>\n",
       "      <td>66512</td>\n",
       "      <td>4.016057</td>\n",
       "    </tr>\n",
       "    <tr>\n",
       "      <th>9</th>\n",
       "      <td>License to Wed</td>\n",
       "      <td>60024</td>\n",
       "      <td>4.230716</td>\n",
       "    </tr>\n",
       "    <tr>\n",
       "      <th>2</th>\n",
       "      <td>Sleepless in Seattle</td>\n",
       "      <td>57070</td>\n",
       "      <td>4.339811</td>\n",
       "    </tr>\n",
       "    <tr>\n",
       "      <th>6</th>\n",
       "      <td>5 Card Stud</td>\n",
       "      <td>56827</td>\n",
       "      <td>4.104167</td>\n",
       "    </tr>\n",
       "    <tr>\n",
       "      <th>7</th>\n",
       "      <td>Men in Black II</td>\n",
       "      <td>52474</td>\n",
       "      <td>4.105347</td>\n",
       "    </tr>\n",
       "  </tbody>\n",
       "</table>\n",
       "</div>"
      ],
      "text/plain": [
       "                       original_title  num_ratings  avg_rating\n",
       "5            The Million Dollar Hotel        91082    4.429015\n",
       "8  Terminator 3: Rise of the Machines        87901    4.169975\n",
       "4                             Солярис        84078    4.152246\n",
       "3                        The 39 Steps        77045    4.132299\n",
       "0                  Once Were Warriors        67662    4.266531\n",
       "1              Trois couleurs : Rouge        66512    4.016057\n",
       "9                      License to Wed        60024    4.230716\n",
       "2                Sleepless in Seattle        57070    4.339811\n",
       "6                         5 Card Stud        56827    4.104167\n",
       "7                     Men in Black II        52474    4.105347"
      ]
     },
     "execution_count": 136,
     "metadata": {},
     "output_type": "execute_result"
    }
   ],
   "source": [
    "movies_metadata_df.merge(top_10_each_category[top_10_each_category['rating_category'] == '4-4.5'], left_on = 'id', right_on = 'movieId', how = 'inner')[['original_title', 'num_ratings','avg_rating']].sort_values(by = 'num_ratings', ascending = False)"
   ]
  },
  {
   "cell_type": "markdown",
   "metadata": {},
   "source": [
    "## Plan for Recommendation System\n",
    "\n",
    "I would like to build a recommendation system that takes the ratings a user has made, and matches 10 movies that are most similar to the highest rated movies the user rated.\n",
    "We will use the overview and genres of the movie to define *similarity*."
   ]
  },
  {
   "cell_type": "code",
   "execution_count": 137,
   "metadata": {},
   "outputs": [],
   "source": [
    "# clean genres column to be a list of genres seperated by space\n",
    "import json\n",
    "\n",
    "def extract_genre(genre):\n",
    "    \"\"\"\n",
    "    use regex to find each dictionary in string,\n",
    "    convert string to dictionary\n",
    "    extract name\n",
    "    return genres as single string\n",
    "    \"\"\"\n",
    "    genre_str = genre.replace('[','').replace(']','').replace('\\'', '\\\"')\n",
    "    genre_list = []\n",
    "    # loop through each dict in string using regex\n",
    "    for small_dict in re.findall('\\{.*?\\}', genre_str):\n",
    "        item_dict = json.loads(small_dict)\n",
    "        genre_list.append(item_dict['name'])\n",
    "    return ' '.join(genre_list)"
   ]
  },
  {
   "cell_type": "code",
   "execution_count": 138,
   "metadata": {},
   "outputs": [],
   "source": [
    "movies_metadata_df['genres_cleaned'] = movies_metadata_df['genres'].apply(extract_genre)"
   ]
  },
  {
   "cell_type": "code",
   "execution_count": 139,
   "metadata": {},
   "outputs": [
    {
     "data": {
      "text/plain": [
       "genres_cleaned                              Animation Comedy Family\n",
       "genres            [{'id': 16, 'name': 'Animation'}, {'id': 35, '...\n",
       "Name: 0, dtype: object"
      ]
     },
     "execution_count": 139,
     "metadata": {},
     "output_type": "execute_result"
    }
   ],
   "source": [
    "movies_metadata_df[['genres_cleaned', 'genres']].iloc[0]"
   ]
  },
  {
   "cell_type": "code",
   "execution_count": 140,
   "metadata": {},
   "outputs": [],
   "source": [
    "def append_genres(df):\n",
    "    return ' '.join([str(df['overview']), str(df['genres_cleaned'])])"
   ]
  },
  {
   "cell_type": "code",
   "execution_count": 141,
   "metadata": {},
   "outputs": [],
   "source": [
    "# append genre to end of overview\n",
    "movies_metadata_df['overview_final'] = movies_metadata_df.apply(append_genres, axis = 1)"
   ]
  },
  {
   "cell_type": "code",
   "execution_count": 142,
   "metadata": {},
   "outputs": [
    {
     "data": {
      "text/plain": [
       "\"Starts off in the 15th century, with Connor McLeod (Christopher Lambert) training with another immortal swordsman, the Japanese sorcerer Nakano (Mako). When an evil immortal named Kane (Mario Van Peebles) kills the old wizard, the resulting battle leaves him buried in an underground cave. When Kane resurfaces in the 20th century to create havoc, it's up to McLeod to stop him. Action Fantasy Science Fiction\""
      ]
     },
     "execution_count": 142,
     "metadata": {},
     "output_type": "execute_result"
    }
   ],
   "source": [
    "movies_metadata_df['overview_final'].values[400]"
   ]
  },
  {
   "cell_type": "markdown",
   "metadata": {},
   "source": [
    "### Count Vectorize the Overview"
   ]
  },
  {
   "cell_type": "code",
   "execution_count": 143,
   "metadata": {},
   "outputs": [],
   "source": [
    "movies_metadata_df.drop_duplicates(subset = ['id'], inplace = True)"
   ]
  },
  {
   "cell_type": "code",
   "execution_count": 144,
   "metadata": {},
   "outputs": [],
   "source": [
    "from sklearn.feature_extraction.text import TfidfVectorizer\n",
    "\n",
    "# instatiate object and remove stop words\n",
    "\n",
    "tfidf = TfidfVectorizer(stop_words = 'english')\n",
    "\n",
    "tfidf_mat = tfidf.fit_transform(movies_metadata_df['overview_final'])"
   ]
  },
  {
   "cell_type": "markdown",
   "metadata": {},
   "source": [
    "Let's look at the shape of this matrix. Rows represent movies, columns represent words that describe the movie"
   ]
  },
  {
   "cell_type": "code",
   "execution_count": 145,
   "metadata": {},
   "outputs": [
    {
     "data": {
      "text/plain": [
       "(45433, 75827)"
      ]
     },
     "execution_count": 145,
     "metadata": {},
     "output_type": "execute_result"
    }
   ],
   "source": [
    "tfidf_mat.shape"
   ]
  },
  {
   "cell_type": "markdown",
   "metadata": {},
   "source": [
    "Now we can find the cosine similarity score by using the dot product."
   ]
  },
  {
   "cell_type": "code",
   "execution_count": 146,
   "metadata": {},
   "outputs": [],
   "source": [
    "from sklearn.metrics.pairwise import linear_kernel\n",
    "\n",
    "cos_similarity = linear_kernel(tfidf_mat, tfidf_mat)"
   ]
  },
  {
   "cell_type": "code",
   "execution_count": 147,
   "metadata": {},
   "outputs": [
    {
     "data": {
      "text/plain": [
       "Index(['adult', 'belongs_to_collection', 'budget', 'genres', 'homepage', 'id',\n",
       "       'imdb_id', 'original_language', 'original_title', 'overview',\n",
       "       'popularity', 'poster_path', 'production_companies',\n",
       "       'production_countries', 'release_date', 'revenue', 'runtime',\n",
       "       'spoken_languages', 'status', 'tagline', 'title', 'video',\n",
       "       'vote_average', 'vote_count', 'keep_row', 'genres_cleaned',\n",
       "       'overview_final'],\n",
       "      dtype='object')"
      ]
     },
     "execution_count": 147,
     "metadata": {},
     "output_type": "execute_result"
    }
   ],
   "source": [
    "movies_metadata_df.columns"
   ]
  },
  {
   "cell_type": "code",
   "execution_count": 148,
   "metadata": {},
   "outputs": [],
   "source": [
    "movie_data = movies_metadata_df[['title', 'overview_final', 'id']]"
   ]
  },
  {
   "cell_type": "code",
   "execution_count": 149,
   "metadata": {},
   "outputs": [],
   "source": [
    "def because_you_watched(movies):\n",
    "    # get 3 top rated movies for a person\n",
    "    for movie in movies:\n",
    "        print('===========================================\\n')\n",
    "        print('Because you liked \"{}\" ... you may enjoy:'.format(movie))\n",
    "        movie_names = top_5_similar(movie)\n",
    "        for name in movie_names:\n",
    "            print(name)\n",
    "        print('\\n===========================================\\n')\n",
    "\n",
    "def top_5_similar(movie):\n",
    "    # get index of movie\n",
    "    movie_index = movie_data[movie_data['title'] == movie].index[0]\n",
    "    # get the row that corresponds to that movie in cosine similarity matrix\n",
    "    row_of_interest = list(enumerate(cos_similarity[movie_index].reshape(-1)))\n",
    "    # sort movies\n",
    "    similar_movies_sorted = sorted(row_of_interest, key = lambda x: x[1], reverse = True)\n",
    "    # top 5\n",
    "    the_most_similar = similar_movies_sorted[1:6]\n",
    "    # return movie names\n",
    "    return [movie_data.iloc[idx]['title'] for idx, _ in the_most_similar]"
   ]
  },
  {
   "cell_type": "code",
   "execution_count": 150,
   "metadata": {},
   "outputs": [
    {
     "data": {
      "text/plain": [
       "array(['Star Wars', 'Joe Versus the Volcano'], dtype=object)"
      ]
     },
     "execution_count": 150,
     "metadata": {},
     "output_type": "execute_result"
    }
   ],
   "source": [
    "user_test = ratings_df[ratings_df['userId'] == 6].merge(movies_metadata_df[['id','title']], left_on = 'movieId', right_on = 'id', how = 'inner')\n",
    "user_favorite_movies = user_test.sort_values(by = 'rating')['title'].iloc[:2].values\n",
    "user_favorite_movies"
   ]
  },
  {
   "cell_type": "code",
   "execution_count": 151,
   "metadata": {},
   "outputs": [
    {
     "name": "stdout",
     "output_type": "stream",
     "text": [
      "===========================================\n",
      "\n",
      "Because you liked \"Star Wars\" ... you may enjoy:\n",
      "The Empire Strikes Back\n",
      "The Star Wars Holiday Special\n",
      "Star Wars: The Force Awakens\n",
      "Return of the Jedi\n",
      "Mad Dog Time\n",
      "\n",
      "===========================================\n",
      "\n",
      "===========================================\n",
      "\n",
      "Because you liked \"Joe Versus the Volcano\" ... you may enjoy:\n",
      "Paolo Barca, maestro elementare, praticamente nudista\n",
      "Remonstrance\n",
      "JLG/JLG: Self-Portrait in December\n",
      "The Old Devil\n",
      "The Murderers Are Among Us\n",
      "\n",
      "===========================================\n",
      "\n"
     ]
    }
   ],
   "source": [
    "because_you_watched(user_favorite_movies)"
   ]
  },
  {
   "cell_type": "markdown",
   "metadata": {},
   "source": [
    "## Similar Approach but with MetaData"
   ]
  },
  {
   "cell_type": "markdown",
   "metadata": {},
   "source": [
    "Parse cast information."
   ]
  },
  {
   "cell_type": "code",
   "execution_count": 152,
   "metadata": {},
   "outputs": [],
   "source": [
    "credits_df = pd.read_csv(os.path.join(DATA_DIR, 'credits.csv'))"
   ]
  },
  {
   "cell_type": "code",
   "execution_count": 153,
   "metadata": {},
   "outputs": [
    {
     "name": "stdout",
     "output_type": "stream",
     "text": [
      "(45476, 3)\n"
     ]
    },
    {
     "data": {
      "text/html": [
       "<div>\n",
       "<style scoped>\n",
       "    .dataframe tbody tr th:only-of-type {\n",
       "        vertical-align: middle;\n",
       "    }\n",
       "\n",
       "    .dataframe tbody tr th {\n",
       "        vertical-align: top;\n",
       "    }\n",
       "\n",
       "    .dataframe thead th {\n",
       "        text-align: right;\n",
       "    }\n",
       "</style>\n",
       "<table border=\"1\" class=\"dataframe\">\n",
       "  <thead>\n",
       "    <tr style=\"text-align: right;\">\n",
       "      <th></th>\n",
       "      <th>cast</th>\n",
       "      <th>crew</th>\n",
       "      <th>id</th>\n",
       "    </tr>\n",
       "  </thead>\n",
       "  <tbody>\n",
       "    <tr>\n",
       "      <th>0</th>\n",
       "      <td>[{'cast_id': 14, 'character': 'Woody (voice)',...</td>\n",
       "      <td>[{'credit_id': '52fe4284c3a36847f8024f49', 'de...</td>\n",
       "      <td>862</td>\n",
       "    </tr>\n",
       "    <tr>\n",
       "      <th>1</th>\n",
       "      <td>[{'cast_id': 1, 'character': 'Alan Parrish', '...</td>\n",
       "      <td>[{'credit_id': '52fe44bfc3a36847f80a7cd1', 'de...</td>\n",
       "      <td>8844</td>\n",
       "    </tr>\n",
       "    <tr>\n",
       "      <th>2</th>\n",
       "      <td>[{'cast_id': 2, 'character': 'Max Goldman', 'c...</td>\n",
       "      <td>[{'credit_id': '52fe466a9251416c75077a89', 'de...</td>\n",
       "      <td>15602</td>\n",
       "    </tr>\n",
       "    <tr>\n",
       "      <th>3</th>\n",
       "      <td>[{'cast_id': 1, 'character': \"Savannah 'Vannah...</td>\n",
       "      <td>[{'credit_id': '52fe44779251416c91011acb', 'de...</td>\n",
       "      <td>31357</td>\n",
       "    </tr>\n",
       "    <tr>\n",
       "      <th>4</th>\n",
       "      <td>[{'cast_id': 1, 'character': 'George Banks', '...</td>\n",
       "      <td>[{'credit_id': '52fe44959251416c75039ed7', 'de...</td>\n",
       "      <td>11862</td>\n",
       "    </tr>\n",
       "  </tbody>\n",
       "</table>\n",
       "</div>"
      ],
      "text/plain": [
       "                                                cast  \\\n",
       "0  [{'cast_id': 14, 'character': 'Woody (voice)',...   \n",
       "1  [{'cast_id': 1, 'character': 'Alan Parrish', '...   \n",
       "2  [{'cast_id': 2, 'character': 'Max Goldman', 'c...   \n",
       "3  [{'cast_id': 1, 'character': \"Savannah 'Vannah...   \n",
       "4  [{'cast_id': 1, 'character': 'George Banks', '...   \n",
       "\n",
       "                                                crew     id  \n",
       "0  [{'credit_id': '52fe4284c3a36847f8024f49', 'de...    862  \n",
       "1  [{'credit_id': '52fe44bfc3a36847f80a7cd1', 'de...   8844  \n",
       "2  [{'credit_id': '52fe466a9251416c75077a89', 'de...  15602  \n",
       "3  [{'credit_id': '52fe44779251416c91011acb', 'de...  31357  \n",
       "4  [{'credit_id': '52fe44959251416c75039ed7', 'de...  11862  "
      ]
     },
     "execution_count": 153,
     "metadata": {},
     "output_type": "execute_result"
    }
   ],
   "source": [
    "print(credits_df.shape)\n",
    "credits_df.head()"
   ]
  },
  {
   "cell_type": "code",
   "execution_count": 154,
   "metadata": {},
   "outputs": [
    {
     "data": {
      "text/plain": [
       "\"[{'cast_id': 14, 'character': 'Woody (voice)', 'credit_id': '52fe4284c3a36847f8024f95', 'gender': 2, 'id': 31, 'name': 'Tom Hanks', 'order': 0, 'profile_path': '/pQFoyx7rp09CJTAb932F2g8Nlho.jpg'}, {'cast_id': 15, 'character': 'Buzz Lightyear (voice)', 'credit_id': '52fe4284c3a36847f8024f99', 'gender': 2, 'id': 12898, 'name': 'Tim Allen', 'order': 1, 'profile_path': '/uX2xVf6pMmPepxnvFWyBtjexzgY.jpg'}, {'cast_id': 16, 'character': 'Mr. Potato Head (voice)', 'credit_id': '52fe4284c3a36847f8024f9d', 'gender': 2, 'id': 7167, 'name': 'Don Rickles', 'order': 2, 'profile_path': '/h5BcaDMPRVLHLDzbQavec4xfSdt.jpg'}, {'cast_id': 17, 'character': 'Slinky Dog (voice)', 'credit_id': '52fe4284c3a36847f8024fa1', 'gender': 2, 'id': 12899, 'name': 'Jim Varney', 'order': 3, 'profile_path': '/eIo2jVVXYgjDtaHoF19Ll9vtW7h.jpg'}, {'cast_id': 18, 'character': 'Rex (voice)', 'credit_id': '52fe4284c3a36847f8024fa5', 'gender': 2, 'id': 12900, 'name': 'Wallace Shawn', 'order': 4, 'profile_path': '/oGE6JqPP2xH4tNORKNqxbNPYi7u.jpg'}, {'cast_id': 19, 'character': 'Hamm (voice)', 'credit_id': '52fe4284c3a36847f8024fa9', 'gender': 2, 'id': 7907, 'name': 'John Ratzenberger', 'order': 5, 'profile_path': '/yGechiKWL6TJDfVE2KPSJYqdMsY.jpg'}, {'cast_id': 20, 'character': 'Bo Peep (voice)', 'credit_id': '52fe4284c3a36847f8024fad', 'gender': 1, 'id': 8873, 'name': 'Annie Potts', 'order': 6, 'profile_path': '/eryXT84RL41jHSJcMy4kS3u9y6w.jpg'}, {'cast_id': 26, 'character': 'Andy (voice)', 'credit_id': '52fe4284c3a36847f8024fc1', 'gender': 0, 'id': 1116442, 'name': 'John Morris', 'order': 7, 'profile_path': '/vYGyvK4LzeaUCoNSHtsuqJUY15M.jpg'}, {'cast_id': 22, 'character': 'Sid (voice)', 'credit_id': '52fe4284c3a36847f8024fb1', 'gender': 2, 'id': 12901, 'name': 'Erik von Detten', 'order': 8, 'profile_path': '/twnF1ZaJ1FUNUuo6xLXwcxjayBE.jpg'}, {'cast_id': 23, 'character': 'Mrs. Davis (voice)', 'credit_id': '52fe4284c3a36847f8024fb5', 'gender': 1, 'id': 12133, 'name': 'Laurie Metcalf', 'order': 9, 'profile_path': '/unMMIT60eoBM2sN2nyR7EZ2BvvD.jpg'}, {'cast_id': 24, 'character': 'Sergeant (voice)', 'credit_id': '52fe4284c3a36847f8024fb9', 'gender': 2, 'id': 8655, 'name': 'R. Lee Ermey', 'order': 10, 'profile_path': '/r8GBqFBjypLUP9VVqDqfZ7wYbSs.jpg'}, {'cast_id': 25, 'character': 'Hannah (voice)', 'credit_id': '52fe4284c3a36847f8024fbd', 'gender': 1, 'id': 12903, 'name': 'Sarah Freeman', 'order': 11, 'profile_path': None}, {'cast_id': 27, 'character': 'TV Announcer (voice)', 'credit_id': '52fe4284c3a36847f8024fc5', 'gender': 2, 'id': 37221, 'name': 'Penn Jillette', 'order': 12, 'profile_path': '/zmAaXUdx12NRsssgHbk1T31j2x9.jpg'}]\""
      ]
     },
     "execution_count": 154,
     "metadata": {},
     "output_type": "execute_result"
    }
   ],
   "source": [
    "credits_df['cast'].iloc[0]"
   ]
  },
  {
   "cell_type": "code",
   "execution_count": 155,
   "metadata": {},
   "outputs": [],
   "source": [
    "class ClassParser:\n",
    "\n",
    "    def __init__(self):\n",
    "        self.issue_counter = 0\n",
    "        self.cast_counter = 0\n",
    "\n",
    "    def parse_cast(self, cast_str):\n",
    "        cast_str = cast_str.replace('[','').replace(']','').replace('\\'', '\\\"')\n",
    "        cast_list = []\n",
    "        # loop through each dict in string using regex\n",
    "        for small_dict in re.findall('\\{.*?\\}', cast_str):\n",
    "            try:\n",
    "                item_dict = json.loads(small_dict)\n",
    "                cast_list.append(item_dict['name'].replace(' ','').upper())\n",
    "                self.cast_counter += 1\n",
    "            except:\n",
    "                self.issue_counter += 1\n",
    "        return ' '.join(cast_list)"
   ]
  },
  {
   "cell_type": "code",
   "execution_count": 156,
   "metadata": {},
   "outputs": [],
   "source": [
    "parser = ClassParser()\n",
    "credits_df['cast_cleaned'] = credits_df['cast'].apply(parser.parse_cast)"
   ]
  },
  {
   "cell_type": "code",
   "execution_count": 157,
   "metadata": {},
   "outputs": [
    {
     "name": "stdout",
     "output_type": "stream",
     "text": [
      "Number of cast members we could not retrieve: 192,630\n",
      "Total Number of cast members retreived: 369,844\n"
     ]
    }
   ],
   "source": [
    "# how many cast members were skipped?\n",
    "print('Number of cast members we could not retrieve: {:,}'.format(parser.issue_counter))\n",
    "\n",
    "print('Total Number of cast members retreived: {:,}'.format(parser.cast_counter))"
   ]
  },
  {
   "cell_type": "code",
   "execution_count": 158,
   "metadata": {},
   "outputs": [
    {
     "data": {
      "text/plain": [
       "'TOMHANKS TIMALLEN DONRICKLES JIMVARNEY WALLACESHAWN JOHNRATZENBERGER ANNIEPOTTS JOHNMORRIS ERIKVONDETTEN LAURIEMETCALF R.LEEERMEY PENNJILLETTE'"
      ]
     },
     "execution_count": 158,
     "metadata": {},
     "output_type": "execute_result"
    }
   ],
   "source": [
    "credits_df['cast_cleaned'].iloc[0]"
   ]
  },
  {
   "cell_type": "markdown",
   "metadata": {},
   "source": [
    "Parse crew information"
   ]
  },
  {
   "cell_type": "code",
   "execution_count": 159,
   "metadata": {},
   "outputs": [
    {
     "data": {
      "text/plain": [
       "'[{\\'credit_id\\': \\'52fe4284c3a36847f8024f49\\', \\'department\\': \\'Directing\\', \\'gender\\': 2, \\'id\\': 7879, \\'job\\': \\'Director\\', \\'name\\': \\'John Lasseter\\', \\'profile_path\\': \\'/7EdqiNbr4FRjIhKHyPPdFfEEEFG.jpg\\'}, {\\'credit_id\\': \\'52fe4284c3a36847f8024f4f\\', \\'department\\': \\'Writing\\', \\'gender\\': 2, \\'id\\': 12891, \\'job\\': \\'Screenplay\\', \\'name\\': \\'Joss Whedon\\', \\'profile_path\\': \\'/dTiVsuaTVTeGmvkhcyJvKp2A5kr.jpg\\'}, {\\'credit_id\\': \\'52fe4284c3a36847f8024f55\\', \\'department\\': \\'Writing\\', \\'gender\\': 2, \\'id\\': 7, \\'job\\': \\'Screenplay\\', \\'name\\': \\'Andrew Stanton\\', \\'profile_path\\': \\'/pvQWsu0qc8JFQhMVJkTHuexUAa1.jpg\\'}, {\\'credit_id\\': \\'52fe4284c3a36847f8024f5b\\', \\'department\\': \\'Writing\\', \\'gender\\': 2, \\'id\\': 12892, \\'job\\': \\'Screenplay\\', \\'name\\': \\'Joel Cohen\\', \\'profile_path\\': \\'/dAubAiZcvKFbboWlj7oXOkZnTSu.jpg\\'}, {\\'credit_id\\': \\'52fe4284c3a36847f8024f61\\', \\'department\\': \\'Writing\\', \\'gender\\': 0, \\'id\\': 12893, \\'job\\': \\'Screenplay\\', \\'name\\': \\'Alec Sokolow\\', \\'profile_path\\': \\'/v79vlRYi94BZUQnkkyznbGUZLjT.jpg\\'}, {\\'credit_id\\': \\'52fe4284c3a36847f8024f67\\', \\'department\\': \\'Production\\', \\'gender\\': 1, \\'id\\': 12894, \\'job\\': \\'Producer\\', \\'name\\': \\'Bonnie Arnold\\', \\'profile_path\\': None}, {\\'credit_id\\': \\'52fe4284c3a36847f8024f6d\\', \\'department\\': \\'Production\\', \\'gender\\': 0, \\'id\\': 12895, \\'job\\': \\'Executive Producer\\', \\'name\\': \\'Ed Catmull\\', \\'profile_path\\': None}, {\\'credit_id\\': \\'52fe4284c3a36847f8024f73\\', \\'department\\': \\'Production\\', \\'gender\\': 2, \\'id\\': 12896, \\'job\\': \\'Producer\\', \\'name\\': \\'Ralph Guggenheim\\', \\'profile_path\\': None}, {\\'credit_id\\': \\'52fe4284c3a36847f8024f79\\', \\'department\\': \\'Production\\', \\'gender\\': 2, \\'id\\': 12897, \\'job\\': \\'Executive Producer\\', \\'name\\': \\'Steve Jobs\\', \\'profile_path\\': \\'/mOMP3SwD5qWQSR0ldCIByd3guTV.jpg\\'}, {\\'credit_id\\': \\'52fe4284c3a36847f8024f8b\\', \\'department\\': \\'Editing\\', \\'gender\\': 2, \\'id\\': 8, \\'job\\': \\'Editor\\', \\'name\\': \\'Lee Unkrich\\', \\'profile_path\\': \\'/bdTCCXjgOV3YyaNmLGYGOxFQMOc.jpg\\'}, {\\'credit_id\\': \\'52fe4284c3a36847f8024f91\\', \\'department\\': \\'Art\\', \\'gender\\': 2, \\'id\\': 7883, \\'job\\': \\'Art Direction\\', \\'name\\': \\'Ralph Eggleston\\', \\'profile_path\\': \\'/uUfcGKDsKO1aROMpXRs67Hn6RvR.jpg\\'}, {\\'credit_id\\': \\'598331bf925141421201044b\\', \\'department\\': \\'Editing\\', \\'gender\\': 2, \\'id\\': 1168870, \\'job\\': \\'Editor\\', \\'name\\': \\'Robert Gordon\\', \\'profile_path\\': None}, {\\'credit_id\\': \\'5892168cc3a36809660095f9\\', \\'department\\': \\'Sound\\', \\'gender\\': 0, \\'id\\': 1552883, \\'job\\': \\'Foley Editor\\', \\'name\\': \\'Mary Helen Leasman\\', \\'profile_path\\': None}, {\\'credit_id\\': \\'5531824d9251415289000945\\', \\'department\\': \\'Visual Effects\\', \\'gender\\': 0, \\'id\\': 1453514, \\'job\\': \\'Animation\\', \\'name\\': \\'Kim Blanchette\\', \\'profile_path\\': None}, {\\'credit_id\\': \\'589215969251412dcb009bf6\\', \\'department\\': \\'Sound\\', \\'gender\\': 0, \\'id\\': 1414182, \\'job\\': \\'ADR Editor\\', \\'name\\': \\'Marilyn McCoppen\\', \\'profile_path\\': None}, {\\'credit_id\\': \\'589217099251412dc500a018\\', \\'department\\': \\'Sound\\', \\'gender\\': 2, \\'id\\': 7885, \\'job\\': \\'Orchestrator\\', \\'name\\': \\'Randy Newman\\', \\'profile_path\\': \\'/w0JzfoiM25nrnxYOzosPHRq6mlE.jpg\\'}, {\\'credit_id\\': \\'5693e6b29251417b0e0000e3\\', \\'department\\': \\'Editing\\', \\'gender\\': 0, \\'id\\': 1429549, \\'job\\': \\'Color Timer\\', \\'name\\': \\'Dale E. Grahn\\', \\'profile_path\\': None}, {\\'credit_id\\': \\'572e2522c3a36869e6001a9c\\', \\'department\\': \\'Visual Effects\\', \\'gender\\': 0, \\'id\\': 7949, \\'job\\': \\'CG Painter\\', \\'name\\': \\'Robin Cooper\\', \\'profile_path\\': None}, {\\'credit_id\\': \\'574f12309251415ca1000012\\', \\'department\\': \\'Writing\\', \\'gender\\': 2, \\'id\\': 7879, \\'job\\': \\'Original Story\\', \\'name\\': \\'John Lasseter\\', \\'profile_path\\': \\'/7EdqiNbr4FRjIhKHyPPdFfEEEFG.jpg\\'}, {\\'credit_id\\': \\'574f1240c3a3682e7300001c\\', \\'department\\': \\'Writing\\', \\'gender\\': 2, \\'id\\': 12890, \\'job\\': \\'Original Story\\', \\'name\\': \\'Pete Docter\\', \\'profile_path\\': \\'/r6ngPgnReA3RHmKjmSoVsc6Awjp.jpg\\'}, {\\'credit_id\\': \\'574f12519251415c92000015\\', \\'department\\': \\'Writing\\', \\'gender\\': 0, \\'id\\': 7911, \\'job\\': \\'Original Story\\', \\'name\\': \\'Joe Ranft\\', \\'profile_path\\': \\'/f1BoWC2JbCcfP1e5hKfGsxkHzVU.jpg\\'}, {\\'credit_id\\': \\'574f12cec3a3682e82000022\\', \\'department\\': \\'Crew\\', \\'gender\\': 0, \\'id\\': 1629419, \\'job\\': \\'Post Production Supervisor\\', \\'name\\': \\'Patsy Bouge\\', \\'profile_path\\': None}, {\\'credit_id\\': \\'574f14f19251415ca1000082\\', \\'department\\': \\'Art\\', \\'gender\\': 0, \\'id\\': 7961, \\'job\\': \\'Sculptor\\', \\'name\\': \\'Norm DeCarlo\\', \\'profile_path\\': None}, {\\'credit_id\\': \\'5751ae4bc3a3683772002b7f\\', \\'department\\': \\'Visual Effects\\', \\'gender\\': 2, \\'id\\': 12905, \\'job\\': \\'Animation Director\\', \\'name\\': \\'Ash Brannon\\', \\'profile_path\\': \\'/6ueWgPEEBHvS3De2BHYQnYjRTig.jpg\\'}, {\\'credit_id\\': \\'5891edbe9251412dc5007cd6\\', \\'department\\': \\'Sound\\', \\'gender\\': 2, \\'id\\': 7885, \\'job\\': \\'Music\\', \\'name\\': \\'Randy Newman\\', \\'profile_path\\': \\'/w0JzfoiM25nrnxYOzosPHRq6mlE.jpg\\'}, {\\'credit_id\\': \\'589213d39251412dc8009832\\', \\'department\\': \\'Directing\\', \\'gender\\': 0, \\'id\\': 1748707, \\'job\\': \\'Layout\\', \\'name\\': \\'Roman Figun\\', \\'profile_path\\': None}, {\\'credit_id\\': \\'5892173dc3a3680968009351\\', \\'department\\': \\'Sound\\', \\'gender\\': 2, \\'id\\': 4949, \\'job\\': \\'Orchestrator\\', \\'name\\': \\'Don Davis\\', \\'profile_path\\': None}, {\\'credit_id\\': \\'589217cec3a3686b0a0052ba\\', \\'department\\': \\'Sound\\', \\'gender\\': 0, \\'id\\': 1372885, \\'job\\': \\'Music Editor\\', \\'name\\': \\'James Flamberg\\', \\'profile_path\\': None}, {\\'credit_id\\': \\'58921831c3a3686348004a64\\', \\'department\\': \\'Editing\\', \\'gender\\': 0, \\'id\\': 1739962, \\'job\\': \\'Negative Cutter\\', \\'name\\': \\'Mary Beth Smith\\', \\'profile_path\\': None}, {\\'credit_id\\': \\'58921838c3a36809700096c0\\', \\'department\\': \\'Editing\\', \\'gender\\': 0, \\'id\\': 1748513, \\'job\\': \\'Negative Cutter\\', \\'name\\': \\'Rick Mackay\\', \\'profile_path\\': None}, {\\'credit_id\\': \\'589218429251412dd1009d1b\\', \\'department\\': \\'Art\\', \\'gender\\': 0, \\'id\\': 1458006, \\'job\\': \\'Title Designer\\', \\'name\\': \\'Susan Bradley\\', \\'profile_path\\': None}, {\\'credit_id\\': \\'5891ed99c3a3680966007670\\', \\'department\\': \\'Crew\\', \\'gender\\': 0, \\'id\\': 1748557, \\'job\\': \\'Supervising Technical Director\\', \\'name\\': \\'William Reeves\\', \\'profile_path\\': None}, {\\'credit_id\\': \\'5891edcec3a3686b0a002eb2\\', \\'department\\': \\'Sound\\', \\'gender\\': 2, \\'id\\': 7885, \\'job\\': \\'Songs\\', \\'name\\': \\'Randy Newman\\', \\'profile_path\\': \\'/w0JzfoiM25nrnxYOzosPHRq6mlE.jpg\\'}, {\\'credit_id\\': \\'5891edf9c3a36809700075e6\\', \\'department\\': \\'Writing\\', \\'gender\\': 2, \\'id\\': 7, \\'job\\': \\'Original Story\\', \\'name\\': \\'Andrew Stanton\\', \\'profile_path\\': \\'/pvQWsu0qc8JFQhMVJkTHuexUAa1.jpg\\'}, {\\'credit_id\\': \\'58920f0b9251412dd7009104\\', \\'department\\': \\'Crew\\', \\'gender\\': 2, \\'id\\': 12890, \\'job\\': \\'Supervising Animator\\', \\'name\\': \\'Pete Docter\\', \\'profile_path\\': \\'/r6ngPgnReA3RHmKjmSoVsc6Awjp.jpg\\'}, {\\'credit_id\\': \\'58920f1fc3a3680977009021\\', \\'department\\': \\'Sound\\', \\'gender\\': 2, \\'id\\': 2216, \\'job\\': \\'Sound Designer\\', \\'name\\': \\'Gary Rydstrom\\', \\'profile_path\\': \\'/jZpr1nVfO7lldWI0YtmP1FGw7Rj.jpg\\'}, {\\'credit_id\\': \\'58920f389251412dd700912d\\', \\'department\\': \\'Production\\', \\'gender\\': 0, \\'id\\': 12909, \\'job\\': \\'Production Supervisor\\', \\'name\\': \\'Karen Robert Jackson\\', \\'profile_path\\': None}, {\\'credit_id\\': \\'58920fbd9251412dcb00969c\\', \\'department\\': \\'Crew\\', \\'gender\\': 0, \\'id\\': 953331, \\'job\\': \\'Executive Music Producer\\', \\'name\\': \\'Chris Montan\\', \\'profile_path\\': None}, {\\'credit_id\\': \\'589210069251412dd7009219\\', \\'department\\': \\'Visual Effects\\', \\'gender\\': 0, \\'id\\': 7893, \\'job\\': \\'Animation Director\\', \\'name\\': \\'Rich Quade\\', \\'profile_path\\': None}, {\\'credit_id\\': \\'589210329251412dcd00943b\\', \\'department\\': \\'Visual Effects\\', \\'gender\\': 0, \\'id\\': 8025, \\'job\\': \\'Animation\\', \\'name\\': \\'Michael Berenstein\\', \\'profile_path\\': None}, {\\'credit_id\\': \\'5892103bc3a368096a009180\\', \\'department\\': \\'Visual Effects\\', \\'gender\\': 0, \\'id\\': 78009, \\'job\\': \\'Animation\\', \\'name\\': \\'Colin Brady\\', \\'profile_path\\': None}, {\\'credit_id\\': \\'5892105dc3a3680968008db2\\', \\'department\\': \\'Visual Effects\\', \\'gender\\': 0, \\'id\\': 1748682, \\'job\\': \\'Animation\\', \\'name\\': \\'Davey Crockett Feiten\\', \\'profile_path\\': None}, {\\'credit_id\\': \\'589210669251412dcd009466\\', \\'department\\': \\'Visual Effects\\', \\'gender\\': 0, \\'id\\': 1454030, \\'job\\': \\'Animation\\', \\'name\\': \\'Angie Glocka\\', \\'profile_path\\': None}, {\\'credit_id\\': \\'5892107c9251412dd1009613\\', \\'department\\': \\'Visual Effects\\', \\'gender\\': 0, \\'id\\': 1748683, \\'job\\': \\'Animation\\', \\'name\\': \\'Rex Grignon\\', \\'profile_path\\': None}, {\\'credit_id\\': \\'5892108ac3a3680973008d3f\\', \\'department\\': \\'Visual Effects\\', \\'gender\\': 0, \\'id\\': 1748684, \\'job\\': \\'Animation\\', \\'name\\': \\'Tom K. Gurney\\', \\'profile_path\\': None}, {\\'credit_id\\': \\'58921093c3a3686348004477\\', \\'department\\': \\'Visual Effects\\', \\'gender\\': 2, \\'id\\': 8029, \\'job\\': \\'Animation\\', \\'name\\': \\'Jimmy Hayward\\', \\'profile_path\\': \\'/lTDRpudEY7BDwTefXbXzMlmb0ui.jpg\\'}, {\\'credit_id\\': \\'5892109b9251412dcd0094b0\\', \\'department\\': \\'Visual Effects\\', \\'gender\\': 0, \\'id\\': 1426773, \\'job\\': \\'Animation\\', \\'name\\': \\'Hal T. Hickel\\', \\'profile_path\\': None}, {\\'credit_id\\': \\'589210a29251412dc5009a29\\', \\'department\\': \\'Visual Effects\\', \\'gender\\': 0, \\'id\\': 8035, \\'job\\': \\'Animation\\', \\'name\\': \\'Karen Kiser\\', \\'profile_path\\': None}, {\\'credit_id\\': \\'589210ccc3a3680977009191\\', \\'department\\': \\'Visual Effects\\', \\'gender\\': 0, \\'id\\': 1748688, \\'job\\': \\'Animation\\', \\'name\\': \\'Anthony B. LaMolinara\\', \\'profile_path\\': None}, {\\'credit_id\\': \\'589210d7c3a3686b0a004c1f\\', \\'department\\': \\'Visual Effects\\', \\'gender\\': 0, \\'id\\': 587314, \\'job\\': \\'Animation\\', \\'name\\': \\'Guionne Leroy\\', \\'profile_path\\': None}, {\\'credit_id\\': \\'589210e1c3a36809770091a7\\', \\'department\\': \\'Visual Effects\\', \\'gender\\': 2, \\'id\\': 7918, \\'job\\': \\'Animation\\', \\'name\\': \\'Bud Luckey\\', \\'profile_path\\': \\'/pcCh7G19FKMNijmPQg1PMH1btic.jpg\\'}, {\\'credit_id\\': \\'589210ee9251412dc200978a\\', \\'department\\': \\'Visual Effects\\', \\'gender\\': 0, \\'id\\': 1748689, \\'job\\': \\'Animation\\', \\'name\\': \\'Les Major\\', \\'profile_path\\': None}, {\\'credit_id\\': \\'589210fa9251412dc8009595\\', \\'department\\': \\'Visual Effects\\', \\'gender\\': 2, \\'id\\': 7892, \\'job\\': \\'Animation\\', \\'name\\': \\'Glenn McQueen\\', \\'profile_path\\': None}, {\\'credit_id\\': \\'589211029251412dc8009598\\', \\'department\\': \\'Visual Effects\\', \\'gender\\': 0, \\'id\\': 555795, \\'job\\': \\'Animation\\', \\'name\\': \\'Mark Oftedal\\', \\'profile_path\\': None}, {\\'credit_id\\': \\'5892110b9251412dc800959d\\', \\'department\\': \\'Visual Effects\\', \\'gender\\': 2, \\'id\\': 7882, \\'job\\': \\'Animation\\', \\'name\\': \\'Jeff Pidgeon\\', \\'profile_path\\': \\'/yLddkg5HcgbJg00cS13GVBnP0HY.jpg\\'}, {\\'credit_id\\': \\'58921113c3a36863480044e4\\', \\'department\\': \\'Visual Effects\\', \\'gender\\': 0, \\'id\\': 8017, \\'job\\': \\'Animation\\', \\'name\\': \\'Jeff Pratt\\', \\'profile_path\\': None}, {\\'credit_id\\': \\'5892111c9251412dcb0097e9\\', \\'department\\': \\'Visual Effects\\', \\'gender\\': 0, \\'id\\': 1184140, \\'job\\': \\'Animation\\', \\'name\\': \\'Steve Rabatich\\', \\'profile_path\\': None}, {\\'credit_id\\': \\'58921123c3a36809700090f6\\', \\'department\\': \\'Visual Effects\\', \\'gender\\': 0, \\'id\\': 8049, \\'job\\': \\'Animation\\', \\'name\\': \\'Roger Rose\\', \\'profile_path\\': None}, {\\'credit_id\\': \\'5892112b9251412dcb0097fb\\', \\'department\\': \\'Visual Effects\\', \\'gender\\': 0, \\'id\\': 1509559, \\'job\\': \\'Animation\\', \\'name\\': \\'Steve Segal\\', \\'profile_path\\': None}, {\\'credit_id\\': \\'589211349251412dc80095c3\\', \\'department\\': \\'Visual Effects\\', \\'gender\\': 0, \\'id\\': 1748691, \\'job\\': \\'Animation\\', \\'name\\': \\'Doug Sheppeck\\', \\'profile_path\\': None}, {\\'credit_id\\': \\'5892113cc3a3680970009106\\', \\'department\\': \\'Visual Effects\\', \\'gender\\': 0, \\'id\\': 8050, \\'job\\': \\'Animation\\', \\'name\\': \\'Alan Sperling\\', \\'profile_path\\': None}, {\\'credit_id\\': \\'58921148c3a3686b0a004c99\\', \\'department\\': \\'Visual Effects\\', \\'gender\\': 0, \\'id\\': 8010, \\'job\\': \\'Animation\\', \\'name\\': \\'Doug Sweetland\\', \\'profile_path\\': None}, {\\'credit_id\\': \\'58921150c3a3680966009125\\', \\'department\\': \\'Visual Effects\\', \\'gender\\': 0, \\'id\\': 8044, \\'job\\': \\'Animation\\', \\'name\\': \\'David Tart\\', \\'profile_path\\': None}, {\\'credit_id\\': \\'589211629251412dc5009b00\\', \\'department\\': \\'Visual Effects\\', \\'gender\\': 0, \\'id\\': 1454034, \\'job\\': \\'Animation\\', \\'name\\': \\'Ken Willard\\', \\'profile_path\\': None}, {\\'credit_id\\': \\'589211c1c3a3686b0a004d28\\', \\'department\\': \\'Visual Effects\\', \\'gender\\': 0, \\'id\\': 7887, \\'job\\': \\'Visual Effects Supervisor\\', \\'name\\': \\'Thomas Porter\\', \\'profile_path\\': None}, {\\'credit_id\\': \\'589211d4c3a3680968008ed9\\', \\'department\\': \\'Visual Effects\\', \\'gender\\': 0, \\'id\\': 1406878, \\'job\\': \\'Visual Effects\\', \\'name\\': \\'Mark Thomas Henne\\', \\'profile_path\\': None}, {\\'credit_id\\': \\'589211f59251412dd4008e65\\', \\'department\\': \\'Visual Effects\\', \\'gender\\': 0, \\'id\\': 1748698, \\'job\\': \\'Visual Effects\\', \\'name\\': \\'Oren Jacob\\', \\'profile_path\\': None}, {\\'credit_id\\': \\'58921242c3a368096a00939b\\', \\'department\\': \\'Visual Effects\\', \\'gender\\': 0, \\'id\\': 1748699, \\'job\\': \\'Visual Effects\\', \\'name\\': \\'Darwyn Peachey\\', \\'profile_path\\': None}, {\\'credit_id\\': \\'5892124b9251412dc5009bd2\\', \\'department\\': \\'Visual Effects\\', \\'gender\\': 0, \\'id\\': 1748701, \\'job\\': \\'Visual Effects\\', \\'name\\': \\'Mitch Prater\\', \\'profile_path\\': None}, {\\'credit_id\\': \\'58921264c3a3686b0a004dbf\\', \\'department\\': \\'Visual Effects\\', \\'gender\\': 0, \\'id\\': 1748703, \\'job\\': \\'Visual Effects\\', \\'name\\': \\'Brian M. Rosen\\', \\'profile_path\\': None}, {\\'credit_id\\': \\'589212709251412dcd009676\\', \\'department\\': \\'Lighting\\', \\'gender\\': 1, \\'id\\': 12912, \\'job\\': \\'Lighting Supervisor\\', \\'name\\': \\'Sharon Calahan\\', \\'profile_path\\': None}, {\\'credit_id\\': \\'5892127fc3a3686b0a004de5\\', \\'department\\': \\'Lighting\\', \\'gender\\': 0, \\'id\\': 7899, \\'job\\': \\'Lighting Supervisor\\', \\'name\\': \\'Galyn Susman\\', \\'profile_path\\': None}, {\\'credit_id\\': \\'589212cdc3a3680970009268\\', \\'department\\': \\'Visual Effects\\', \\'gender\\': 0, \\'id\\': 12915, \\'job\\': \\'CG Painter\\', \\'name\\': \\'William Cone\\', \\'profile_path\\': None}, {\\'credit_id\\': \\'5892130f9251412dc8009791\\', \\'department\\': \\'Art\\', \\'gender\\': 0, \\'id\\': 1748705, \\'job\\': \\'Sculptor\\', \\'name\\': \\'Shelley Daniels Lekven\\', \\'profile_path\\': None}, {\\'credit_id\\': \\'5892131c9251412dd4008f4c\\', \\'department\\': \\'Visual Effects\\', \\'gender\\': 2, \\'id\\': 7889, \\'job\\': \\'Character Designer\\', \\'name\\': \\'Bob Pauley\\', \\'profile_path\\': None}, {\\'credit_id\\': \\'589213249251412dd100987b\\', \\'department\\': \\'Visual Effects\\', \\'gender\\': 2, \\'id\\': 7918, \\'job\\': \\'Character Designer\\', \\'name\\': \\'Bud Luckey\\', \\'profile_path\\': \\'/pcCh7G19FKMNijmPQg1PMH1btic.jpg\\'}, {\\'credit_id\\': \\'5892132b9251412dc80097b1\\', \\'department\\': \\'Visual Effects\\', \\'gender\\': 2, \\'id\\': 7, \\'job\\': \\'Character Designer\\', \\'name\\': \\'Andrew Stanton\\', \\'profile_path\\': \\'/pvQWsu0qc8JFQhMVJkTHuexUAa1.jpg\\'}, {\\'credit_id\\': \\'58921332c3a368634800467b\\', \\'department\\': \\'Visual Effects\\', \\'gender\\': 0, \\'id\\': 12915, \\'job\\': \\'Character Designer\\', \\'name\\': \\'William Cone\\', \\'profile_path\\': None}, {\\'credit_id\\': \\'5892135f9251412dd4008f90\\', \\'department\\': \\'Visual Effects\\', \\'gender\\': 0, \\'id\\': 1748706, \\'job\\': \\'Character Designer\\', \\'name\\': \\'Steve Johnson\\', \\'profile_path\\': None}, {\\'credit_id\\': \\'58921384c3a3680973008fd4\\', \\'department\\': \\'Visual Effects\\', \\'gender\\': 0, \\'id\\': 1176752, \\'job\\': \\'Character Designer\\', \\'name\\': \\'Dan Haskett\\', \\'profile_path\\': None}, {\\'credit_id\\': \\'5892138e9251412dc20099fc\\', \\'department\\': \\'Visual Effects\\', \\'gender\\': 0, \\'id\\': 1088034, \\'job\\': \\'Character Designer\\', \\'name\\': \\'Tom Holloway\\', \\'profile_path\\': \\'/a0r0T2usTBpgMI5aZbRBDW1fTl8.jpg\\'}, {\\'credit_id\\': \\'58921395c3a368097700942f\\', \\'department\\': \\'Visual Effects\\', \\'gender\\': 0, \\'id\\': 1447465, \\'job\\': \\'Character Designer\\', \\'name\\': \\'Jean Gillmore\\', \\'profile_path\\': None}, {\\'credit_id\\': \\'589213e2c3a3680973009026\\', \\'department\\': \\'Directing\\', \\'gender\\': 0, \\'id\\': 1748709, \\'job\\': \\'Layout\\', \\'name\\': \\'Desirée Mourad\\', \\'profile_path\\': None}, {\\'credit_id\\': \\'589214099251412dc5009d57\\', \\'department\\': \\'Art\\', \\'gender\\': 0, \\'id\\': 1748710, \\'job\\': \\'Set Dresser\\', \\'name\\': \"Kelly O\\'Connell\", \\'profile_path\\': None}, {\\'credit_id\\': \\'58921411c3a3686b0a004f70\\', \\'department\\': \\'Art\\', \\'gender\\': 0, \\'id\\': 1443471, \\'job\\': \\'Set Dresser\\', \\'name\\': \\'Sonoko Konishi\\', \\'profile_path\\': None}, {\\'credit_id\\': \\'58921434c3a368096a00956e\\', \\'department\\': \\'Art\\', \\'gender\\': 0, \\'id\\': 1748711, \\'job\\': \\'Set Dresser\\', \\'name\\': \\'Ann M. Rockwell\\', \\'profile_path\\': None}, {\\'credit_id\\': \\'5892144ac3a36809680090de\\', \\'department\\': \\'Editing\\', \\'gender\\': 0, \\'id\\': 1748712, \\'job\\': \\'Editorial Manager\\', \\'name\\': \\'Julie M. McDonald\\', \\'profile_path\\': None}, {\\'credit_id\\': \\'58921479c3a368096800910f\\', \\'department\\': \\'Editing\\', \\'gender\\': 0, \\'id\\': 1589729, \\'job\\': \\'Assistant Editor\\', \\'name\\': \\'Robin Lee\\', \\'profile_path\\': None}, {\\'credit_id\\': \\'5892148b9251412dd10099cc\\', \\'department\\': \\'Editing\\', \\'gender\\': 0, \\'id\\': 1748716, \\'job\\': \\'Assistant Editor\\', \\'name\\': \\'Tom Freeman\\', \\'profile_path\\': None}, {\\'credit_id\\': \\'589214959251412dcb009b1f\\', \\'department\\': \\'Editing\\', \\'gender\\': 0, \\'id\\': 1748717, \\'job\\': \\'Assistant Editor\\', \\'name\\': \\'Ada Cochavi\\', \\'profile_path\\': None}, {\\'credit_id\\': \\'5892149ec3a3686348004798\\', \\'department\\': \\'Editing\\', \\'gender\\': 0, \\'id\\': 1336438, \\'job\\': \\'Assistant Editor\\', \\'name\\': \\'Dana Mulligan\\', \\'profile_path\\': None}, {\\'credit_id\\': \\'589214adc3a368096a0095db\\', \\'department\\': \\'Editing\\', \\'gender\\': 0, \\'id\\': 1748718, \\'job\\': \\'Editorial Coordinator\\', \\'name\\': \\'Deirdre Morrison\\', \\'profile_path\\': None}, {\\'credit_id\\': \\'589214c7c3a368097700952b\\', \\'department\\': \\'Production\\', \\'gender\\': 0, \\'id\\': 1748719, \\'job\\': \\'Production Coordinator\\', \\'name\\': \\'Lori Lombardo\\', \\'profile_path\\': None}, {\\'credit_id\\': \\'589214cec3a368096a009603\\', \\'department\\': \\'Production\\', \\'gender\\': 0, \\'id\\': 1748720, \\'job\\': \\'Production Coordinator\\', \\'name\\': \\'Ellen Devine\\', \\'profile_path\\': None}, {\\'credit_id\\': \\'589214e39251412dc8009904\\', \\'department\\': \\'Crew\\', \\'gender\\': 0, \\'id\\': 1468014, \\'job\\': \\'Unit Publicist\\', \\'name\\': \\'Lauren Beth Strogoff\\', \\'profile_path\\': None}, {\\'credit_id\\': \\'58921544c3a3686b0a00507d\\', \\'department\\': \\'Sound\\', \\'gender\\': 2, \\'id\\': 2216, \\'job\\': \\'Sound Re-Recording Mixer\\', \\'name\\': \\'Gary Rydstrom\\', \\'profile_path\\': \\'/jZpr1nVfO7lldWI0YtmP1FGw7Rj.jpg\\'}, {\\'credit_id\\': \\'5892154c9251412dd1009a56\\', \\'department\\': \\'Sound\\', \\'gender\\': 0, \\'id\\': 1425978, \\'job\\': \\'Sound Re-Recording Mixer\\', \\'name\\': \\'Gary Summers\\', \\'profile_path\\': None}, {\\'credit_id\\': \\'58921555c3a36809680091bd\\', \\'department\\': \\'Sound\\', \\'gender\\': 2, \\'id\\': 8276, \\'job\\': \\'Supervising Sound Editor\\', \\'name\\': \\'Tim Holland\\', \\'profile_path\\': None}, {\\'credit_id\\': \\'589215c39251412dcb009c12\\', \\'department\\': \\'Sound\\', \\'gender\\': 0, \\'id\\': 7069, \\'job\\': \\'Sound Effects Editor\\', \\'name\\': \\'Pat Jackson\\', \\'profile_path\\': None}, {\\'credit_id\\': \\'58921698c3a368096a009788\\', \\'department\\': \\'Crew\\', \\'gender\\': 2, \\'id\\': 15894, \\'job\\': \\'Sound Design Assistant\\', \\'name\\': \\'Tom Myers\\', \\'profile_path\\': None}, {\\'credit_id\\': \\'589216a89251412dc2009ca4\\', \\'department\\': \\'Sound\\', \\'gender\\': 0, \\'id\\': 1414177, \\'job\\': \\'Assistant Sound Editor\\', \\'name\\': \\'J.R. Grubbs\\', \\'profile_path\\': None}, {\\'credit_id\\': \\'589216c19251412dc2009cb9\\', \\'department\\': \\'Sound\\', \\'gender\\': 1, \\'id\\': 1748724, \\'job\\': \\'Assistant Sound Editor\\', \\'name\\': \\'Susan Sanford\\', \\'profile_path\\': None}, {\\'credit_id\\': \\'589216ccc3a3680973009274\\', \\'department\\': \\'Sound\\', \\'gender\\': 0, \\'id\\': 1748725, \\'job\\': \\'Assistant Sound Editor\\', \\'name\\': \\'Susan Popovic\\', \\'profile_path\\': None}, {\\'credit_id\\': \\'589216d79251412dc8009aa0\\', \\'department\\': \\'Sound\\', \\'gender\\': 0, \\'id\\': 8067, \\'job\\': \\'Assistant Sound Editor\\', \\'name\\': \\'Dan Engstrom\\', \\'profile_path\\': None}, {\\'credit_id\\': \\'589216e49251412dcd009a4f\\', \\'department\\': \\'Production\\', \\'gender\\': 1, \\'id\\': 7902, \\'job\\': \\'Casting Consultant\\', \\'name\\': \\'Ruth Lambert\\', \\'profile_path\\': None}, {\\'credit_id\\': \\'589216f39251412dc2009cf3\\', \\'department\\': \\'Production\\', \\'gender\\': 0, \\'id\\': 84493, \\'job\\': \\'ADR Voice Casting\\', \\'name\\': \\'Mickie McGowan\\', \\'profile_path\\': \\'/k7TjJBfINsg8vLQxJwos6XObAD6.jpg\\'}]'"
      ]
     },
     "execution_count": 159,
     "metadata": {},
     "output_type": "execute_result"
    }
   ],
   "source": [
    "credits_df['crew'].iloc[0]"
   ]
  },
  {
   "cell_type": "code",
   "execution_count": 160,
   "metadata": {},
   "outputs": [
    {
     "name": "stdout",
     "output_type": "stream",
     "text": [
      "{\"credit_id\": \"52fe4284c3a36847f8024f49\", \"department\": \"Directing\", \"gender\": 2, \"id\": 7879, \"job\": \"Director\", \"name\": \"John Lasseter\", \"profile_path\": \"/7EdqiNbr4FRjIhKHyPPdFfEEEFG.jpg\"}\n",
      "{\"credit_id\": \"52fe4284c3a36847f8024f4f\", \"department\": \"Writing\", \"gender\": 2, \"id\": 12891, \"job\": \"Screenplay\", \"name\": \"Joss Whedon\", \"profile_path\": \"/dTiVsuaTVTeGmvkhcyJvKp2A5kr.jpg\"}\n",
      "{\"credit_id\": \"52fe4284c3a36847f8024f55\", \"department\": \"Writing\", \"gender\": 2, \"id\": 7, \"job\": \"Screenplay\", \"name\": \"Andrew Stanton\", \"profile_path\": \"/pvQWsu0qc8JFQhMVJkTHuexUAa1.jpg\"}\n",
      "{\"credit_id\": \"52fe4284c3a36847f8024f5b\", \"department\": \"Writing\", \"gender\": 2, \"id\": 12892, \"job\": \"Screenplay\", \"name\": \"Joel Cohen\", \"profile_path\": \"/dAubAiZcvKFbboWlj7oXOkZnTSu.jpg\"}\n",
      "{\"credit_id\": \"52fe4284c3a36847f8024f61\", \"department\": \"Writing\", \"gender\": 0, \"id\": 12893, \"job\": \"Screenplay\", \"name\": \"Alec Sokolow\", \"profile_path\": \"/v79vlRYi94BZUQnkkyznbGUZLjT.jpg\"}\n",
      "{\"credit_id\": \"52fe4284c3a36847f8024f67\", \"department\": \"Production\", \"gender\": 1, \"id\": 12894, \"job\": \"Producer\", \"name\": \"Bonnie Arnold\", \"profile_path\": None}\n",
      "{\"credit_id\": \"52fe4284c3a36847f8024f6d\", \"department\": \"Production\", \"gender\": 0, \"id\": 12895, \"job\": \"Executive Producer\", \"name\": \"Ed Catmull\", \"profile_path\": None}\n",
      "{\"credit_id\": \"52fe4284c3a36847f8024f73\", \"department\": \"Production\", \"gender\": 2, \"id\": 12896, \"job\": \"Producer\", \"name\": \"Ralph Guggenheim\", \"profile_path\": None}\n",
      "{\"credit_id\": \"52fe4284c3a36847f8024f79\", \"department\": \"Production\", \"gender\": 2, \"id\": 12897, \"job\": \"Executive Producer\", \"name\": \"Steve Jobs\", \"profile_path\": \"/mOMP3SwD5qWQSR0ldCIByd3guTV.jpg\"}\n",
      "{\"credit_id\": \"52fe4284c3a36847f8024f8b\", \"department\": \"Editing\", \"gender\": 2, \"id\": 8, \"job\": \"Editor\", \"name\": \"Lee Unkrich\", \"profile_path\": \"/bdTCCXjgOV3YyaNmLGYGOxFQMOc.jpg\"}\n",
      "{\"credit_id\": \"52fe4284c3a36847f8024f91\", \"department\": \"Art\", \"gender\": 2, \"id\": 7883, \"job\": \"Art Direction\", \"name\": \"Ralph Eggleston\", \"profile_path\": \"/uUfcGKDsKO1aROMpXRs67Hn6RvR.jpg\"}\n",
      "{\"credit_id\": \"598331bf925141421201044b\", \"department\": \"Editing\", \"gender\": 2, \"id\": 1168870, \"job\": \"Editor\", \"name\": \"Robert Gordon\", \"profile_path\": None}\n",
      "{\"credit_id\": \"5892168cc3a36809660095f9\", \"department\": \"Sound\", \"gender\": 0, \"id\": 1552883, \"job\": \"Foley Editor\", \"name\": \"Mary Helen Leasman\", \"profile_path\": None}\n",
      "{\"credit_id\": \"5531824d9251415289000945\", \"department\": \"Visual Effects\", \"gender\": 0, \"id\": 1453514, \"job\": \"Animation\", \"name\": \"Kim Blanchette\", \"profile_path\": None}\n",
      "{\"credit_id\": \"589215969251412dcb009bf6\", \"department\": \"Sound\", \"gender\": 0, \"id\": 1414182, \"job\": \"ADR Editor\", \"name\": \"Marilyn McCoppen\", \"profile_path\": None}\n",
      "{\"credit_id\": \"589217099251412dc500a018\", \"department\": \"Sound\", \"gender\": 2, \"id\": 7885, \"job\": \"Orchestrator\", \"name\": \"Randy Newman\", \"profile_path\": \"/w0JzfoiM25nrnxYOzosPHRq6mlE.jpg\"}\n",
      "{\"credit_id\": \"5693e6b29251417b0e0000e3\", \"department\": \"Editing\", \"gender\": 0, \"id\": 1429549, \"job\": \"Color Timer\", \"name\": \"Dale E. Grahn\", \"profile_path\": None}\n",
      "{\"credit_id\": \"572e2522c3a36869e6001a9c\", \"department\": \"Visual Effects\", \"gender\": 0, \"id\": 7949, \"job\": \"CG Painter\", \"name\": \"Robin Cooper\", \"profile_path\": None}\n",
      "{\"credit_id\": \"574f12309251415ca1000012\", \"department\": \"Writing\", \"gender\": 2, \"id\": 7879, \"job\": \"Original Story\", \"name\": \"John Lasseter\", \"profile_path\": \"/7EdqiNbr4FRjIhKHyPPdFfEEEFG.jpg\"}\n",
      "{\"credit_id\": \"574f1240c3a3682e7300001c\", \"department\": \"Writing\", \"gender\": 2, \"id\": 12890, \"job\": \"Original Story\", \"name\": \"Pete Docter\", \"profile_path\": \"/r6ngPgnReA3RHmKjmSoVsc6Awjp.jpg\"}\n",
      "{\"credit_id\": \"574f12519251415c92000015\", \"department\": \"Writing\", \"gender\": 0, \"id\": 7911, \"job\": \"Original Story\", \"name\": \"Joe Ranft\", \"profile_path\": \"/f1BoWC2JbCcfP1e5hKfGsxkHzVU.jpg\"}\n",
      "{\"credit_id\": \"574f12cec3a3682e82000022\", \"department\": \"Crew\", \"gender\": 0, \"id\": 1629419, \"job\": \"Post Production Supervisor\", \"name\": \"Patsy Bouge\", \"profile_path\": None}\n",
      "{\"credit_id\": \"574f14f19251415ca1000082\", \"department\": \"Art\", \"gender\": 0, \"id\": 7961, \"job\": \"Sculptor\", \"name\": \"Norm DeCarlo\", \"profile_path\": None}\n",
      "{\"credit_id\": \"5751ae4bc3a3683772002b7f\", \"department\": \"Visual Effects\", \"gender\": 2, \"id\": 12905, \"job\": \"Animation Director\", \"name\": \"Ash Brannon\", \"profile_path\": \"/6ueWgPEEBHvS3De2BHYQnYjRTig.jpg\"}\n",
      "{\"credit_id\": \"5891edbe9251412dc5007cd6\", \"department\": \"Sound\", \"gender\": 2, \"id\": 7885, \"job\": \"Music\", \"name\": \"Randy Newman\", \"profile_path\": \"/w0JzfoiM25nrnxYOzosPHRq6mlE.jpg\"}\n",
      "{\"credit_id\": \"589213d39251412dc8009832\", \"department\": \"Directing\", \"gender\": 0, \"id\": 1748707, \"job\": \"Layout\", \"name\": \"Roman Figun\", \"profile_path\": None}\n",
      "{\"credit_id\": \"5892173dc3a3680968009351\", \"department\": \"Sound\", \"gender\": 2, \"id\": 4949, \"job\": \"Orchestrator\", \"name\": \"Don Davis\", \"profile_path\": None}\n",
      "{\"credit_id\": \"589217cec3a3686b0a0052ba\", \"department\": \"Sound\", \"gender\": 0, \"id\": 1372885, \"job\": \"Music Editor\", \"name\": \"James Flamberg\", \"profile_path\": None}\n",
      "{\"credit_id\": \"58921831c3a3686348004a64\", \"department\": \"Editing\", \"gender\": 0, \"id\": 1739962, \"job\": \"Negative Cutter\", \"name\": \"Mary Beth Smith\", \"profile_path\": None}\n",
      "{\"credit_id\": \"58921838c3a36809700096c0\", \"department\": \"Editing\", \"gender\": 0, \"id\": 1748513, \"job\": \"Negative Cutter\", \"name\": \"Rick Mackay\", \"profile_path\": None}\n",
      "{\"credit_id\": \"589218429251412dd1009d1b\", \"department\": \"Art\", \"gender\": 0, \"id\": 1458006, \"job\": \"Title Designer\", \"name\": \"Susan Bradley\", \"profile_path\": None}\n",
      "{\"credit_id\": \"5891ed99c3a3680966007670\", \"department\": \"Crew\", \"gender\": 0, \"id\": 1748557, \"job\": \"Supervising Technical Director\", \"name\": \"William Reeves\", \"profile_path\": None}\n",
      "{\"credit_id\": \"5891edcec3a3686b0a002eb2\", \"department\": \"Sound\", \"gender\": 2, \"id\": 7885, \"job\": \"Songs\", \"name\": \"Randy Newman\", \"profile_path\": \"/w0JzfoiM25nrnxYOzosPHRq6mlE.jpg\"}\n",
      "{\"credit_id\": \"5891edf9c3a36809700075e6\", \"department\": \"Writing\", \"gender\": 2, \"id\": 7, \"job\": \"Original Story\", \"name\": \"Andrew Stanton\", \"profile_path\": \"/pvQWsu0qc8JFQhMVJkTHuexUAa1.jpg\"}\n",
      "{\"credit_id\": \"58920f0b9251412dd7009104\", \"department\": \"Crew\", \"gender\": 2, \"id\": 12890, \"job\": \"Supervising Animator\", \"name\": \"Pete Docter\", \"profile_path\": \"/r6ngPgnReA3RHmKjmSoVsc6Awjp.jpg\"}\n",
      "{\"credit_id\": \"58920f1fc3a3680977009021\", \"department\": \"Sound\", \"gender\": 2, \"id\": 2216, \"job\": \"Sound Designer\", \"name\": \"Gary Rydstrom\", \"profile_path\": \"/jZpr1nVfO7lldWI0YtmP1FGw7Rj.jpg\"}\n",
      "{\"credit_id\": \"58920f389251412dd700912d\", \"department\": \"Production\", \"gender\": 0, \"id\": 12909, \"job\": \"Production Supervisor\", \"name\": \"Karen Robert Jackson\", \"profile_path\": None}\n",
      "{\"credit_id\": \"58920fbd9251412dcb00969c\", \"department\": \"Crew\", \"gender\": 0, \"id\": 953331, \"job\": \"Executive Music Producer\", \"name\": \"Chris Montan\", \"profile_path\": None}\n",
      "{\"credit_id\": \"589210069251412dd7009219\", \"department\": \"Visual Effects\", \"gender\": 0, \"id\": 7893, \"job\": \"Animation Director\", \"name\": \"Rich Quade\", \"profile_path\": None}\n",
      "{\"credit_id\": \"589210329251412dcd00943b\", \"department\": \"Visual Effects\", \"gender\": 0, \"id\": 8025, \"job\": \"Animation\", \"name\": \"Michael Berenstein\", \"profile_path\": None}\n",
      "{\"credit_id\": \"5892103bc3a368096a009180\", \"department\": \"Visual Effects\", \"gender\": 0, \"id\": 78009, \"job\": \"Animation\", \"name\": \"Colin Brady\", \"profile_path\": None}\n",
      "{\"credit_id\": \"5892105dc3a3680968008db2\", \"department\": \"Visual Effects\", \"gender\": 0, \"id\": 1748682, \"job\": \"Animation\", \"name\": \"Davey Crockett Feiten\", \"profile_path\": None}\n",
      "{\"credit_id\": \"589210669251412dcd009466\", \"department\": \"Visual Effects\", \"gender\": 0, \"id\": 1454030, \"job\": \"Animation\", \"name\": \"Angie Glocka\", \"profile_path\": None}\n",
      "{\"credit_id\": \"5892107c9251412dd1009613\", \"department\": \"Visual Effects\", \"gender\": 0, \"id\": 1748683, \"job\": \"Animation\", \"name\": \"Rex Grignon\", \"profile_path\": None}\n",
      "{\"credit_id\": \"5892108ac3a3680973008d3f\", \"department\": \"Visual Effects\", \"gender\": 0, \"id\": 1748684, \"job\": \"Animation\", \"name\": \"Tom K. Gurney\", \"profile_path\": None}\n",
      "{\"credit_id\": \"58921093c3a3686348004477\", \"department\": \"Visual Effects\", \"gender\": 2, \"id\": 8029, \"job\": \"Animation\", \"name\": \"Jimmy Hayward\", \"profile_path\": \"/lTDRpudEY7BDwTefXbXzMlmb0ui.jpg\"}\n",
      "{\"credit_id\": \"5892109b9251412dcd0094b0\", \"department\": \"Visual Effects\", \"gender\": 0, \"id\": 1426773, \"job\": \"Animation\", \"name\": \"Hal T. Hickel\", \"profile_path\": None}\n",
      "{\"credit_id\": \"589210a29251412dc5009a29\", \"department\": \"Visual Effects\", \"gender\": 0, \"id\": 8035, \"job\": \"Animation\", \"name\": \"Karen Kiser\", \"profile_path\": None}\n",
      "{\"credit_id\": \"589210ccc3a3680977009191\", \"department\": \"Visual Effects\", \"gender\": 0, \"id\": 1748688, \"job\": \"Animation\", \"name\": \"Anthony B. LaMolinara\", \"profile_path\": None}\n",
      "{\"credit_id\": \"589210d7c3a3686b0a004c1f\", \"department\": \"Visual Effects\", \"gender\": 0, \"id\": 587314, \"job\": \"Animation\", \"name\": \"Guionne Leroy\", \"profile_path\": None}\n",
      "{\"credit_id\": \"589210e1c3a36809770091a7\", \"department\": \"Visual Effects\", \"gender\": 2, \"id\": 7918, \"job\": \"Animation\", \"name\": \"Bud Luckey\", \"profile_path\": \"/pcCh7G19FKMNijmPQg1PMH1btic.jpg\"}\n",
      "{\"credit_id\": \"589210ee9251412dc200978a\", \"department\": \"Visual Effects\", \"gender\": 0, \"id\": 1748689, \"job\": \"Animation\", \"name\": \"Les Major\", \"profile_path\": None}\n",
      "{\"credit_id\": \"589210fa9251412dc8009595\", \"department\": \"Visual Effects\", \"gender\": 2, \"id\": 7892, \"job\": \"Animation\", \"name\": \"Glenn McQueen\", \"profile_path\": None}\n",
      "{\"credit_id\": \"589211029251412dc8009598\", \"department\": \"Visual Effects\", \"gender\": 0, \"id\": 555795, \"job\": \"Animation\", \"name\": \"Mark Oftedal\", \"profile_path\": None}\n",
      "{\"credit_id\": \"5892110b9251412dc800959d\", \"department\": \"Visual Effects\", \"gender\": 2, \"id\": 7882, \"job\": \"Animation\", \"name\": \"Jeff Pidgeon\", \"profile_path\": \"/yLddkg5HcgbJg00cS13GVBnP0HY.jpg\"}\n",
      "{\"credit_id\": \"58921113c3a36863480044e4\", \"department\": \"Visual Effects\", \"gender\": 0, \"id\": 8017, \"job\": \"Animation\", \"name\": \"Jeff Pratt\", \"profile_path\": None}\n",
      "{\"credit_id\": \"5892111c9251412dcb0097e9\", \"department\": \"Visual Effects\", \"gender\": 0, \"id\": 1184140, \"job\": \"Animation\", \"name\": \"Steve Rabatich\", \"profile_path\": None}\n",
      "{\"credit_id\": \"58921123c3a36809700090f6\", \"department\": \"Visual Effects\", \"gender\": 0, \"id\": 8049, \"job\": \"Animation\", \"name\": \"Roger Rose\", \"profile_path\": None}\n",
      "{\"credit_id\": \"5892112b9251412dcb0097fb\", \"department\": \"Visual Effects\", \"gender\": 0, \"id\": 1509559, \"job\": \"Animation\", \"name\": \"Steve Segal\", \"profile_path\": None}\n",
      "{\"credit_id\": \"589211349251412dc80095c3\", \"department\": \"Visual Effects\", \"gender\": 0, \"id\": 1748691, \"job\": \"Animation\", \"name\": \"Doug Sheppeck\", \"profile_path\": None}\n",
      "{\"credit_id\": \"5892113cc3a3680970009106\", \"department\": \"Visual Effects\", \"gender\": 0, \"id\": 8050, \"job\": \"Animation\", \"name\": \"Alan Sperling\", \"profile_path\": None}\n",
      "{\"credit_id\": \"58921148c3a3686b0a004c99\", \"department\": \"Visual Effects\", \"gender\": 0, \"id\": 8010, \"job\": \"Animation\", \"name\": \"Doug Sweetland\", \"profile_path\": None}\n",
      "{\"credit_id\": \"58921150c3a3680966009125\", \"department\": \"Visual Effects\", \"gender\": 0, \"id\": 8044, \"job\": \"Animation\", \"name\": \"David Tart\", \"profile_path\": None}\n",
      "{\"credit_id\": \"589211629251412dc5009b00\", \"department\": \"Visual Effects\", \"gender\": 0, \"id\": 1454034, \"job\": \"Animation\", \"name\": \"Ken Willard\", \"profile_path\": None}\n",
      "{\"credit_id\": \"589211c1c3a3686b0a004d28\", \"department\": \"Visual Effects\", \"gender\": 0, \"id\": 7887, \"job\": \"Visual Effects Supervisor\", \"name\": \"Thomas Porter\", \"profile_path\": None}\n",
      "{\"credit_id\": \"589211d4c3a3680968008ed9\", \"department\": \"Visual Effects\", \"gender\": 0, \"id\": 1406878, \"job\": \"Visual Effects\", \"name\": \"Mark Thomas Henne\", \"profile_path\": None}\n",
      "{\"credit_id\": \"589211f59251412dd4008e65\", \"department\": \"Visual Effects\", \"gender\": 0, \"id\": 1748698, \"job\": \"Visual Effects\", \"name\": \"Oren Jacob\", \"profile_path\": None}\n",
      "{\"credit_id\": \"58921242c3a368096a00939b\", \"department\": \"Visual Effects\", \"gender\": 0, \"id\": 1748699, \"job\": \"Visual Effects\", \"name\": \"Darwyn Peachey\", \"profile_path\": None}\n",
      "{\"credit_id\": \"5892124b9251412dc5009bd2\", \"department\": \"Visual Effects\", \"gender\": 0, \"id\": 1748701, \"job\": \"Visual Effects\", \"name\": \"Mitch Prater\", \"profile_path\": None}\n",
      "{\"credit_id\": \"58921264c3a3686b0a004dbf\", \"department\": \"Visual Effects\", \"gender\": 0, \"id\": 1748703, \"job\": \"Visual Effects\", \"name\": \"Brian M. Rosen\", \"profile_path\": None}\n",
      "{\"credit_id\": \"589212709251412dcd009676\", \"department\": \"Lighting\", \"gender\": 1, \"id\": 12912, \"job\": \"Lighting Supervisor\", \"name\": \"Sharon Calahan\", \"profile_path\": None}\n",
      "{\"credit_id\": \"5892127fc3a3686b0a004de5\", \"department\": \"Lighting\", \"gender\": 0, \"id\": 7899, \"job\": \"Lighting Supervisor\", \"name\": \"Galyn Susman\", \"profile_path\": None}\n",
      "{\"credit_id\": \"589212cdc3a3680970009268\", \"department\": \"Visual Effects\", \"gender\": 0, \"id\": 12915, \"job\": \"CG Painter\", \"name\": \"William Cone\", \"profile_path\": None}\n",
      "{\"credit_id\": \"5892130f9251412dc8009791\", \"department\": \"Art\", \"gender\": 0, \"id\": 1748705, \"job\": \"Sculptor\", \"name\": \"Shelley Daniels Lekven\", \"profile_path\": None}\n",
      "{\"credit_id\": \"5892131c9251412dd4008f4c\", \"department\": \"Visual Effects\", \"gender\": 2, \"id\": 7889, \"job\": \"Character Designer\", \"name\": \"Bob Pauley\", \"profile_path\": None}\n",
      "{\"credit_id\": \"589213249251412dd100987b\", \"department\": \"Visual Effects\", \"gender\": 2, \"id\": 7918, \"job\": \"Character Designer\", \"name\": \"Bud Luckey\", \"profile_path\": \"/pcCh7G19FKMNijmPQg1PMH1btic.jpg\"}\n",
      "{\"credit_id\": \"5892132b9251412dc80097b1\", \"department\": \"Visual Effects\", \"gender\": 2, \"id\": 7, \"job\": \"Character Designer\", \"name\": \"Andrew Stanton\", \"profile_path\": \"/pvQWsu0qc8JFQhMVJkTHuexUAa1.jpg\"}\n",
      "{\"credit_id\": \"58921332c3a368634800467b\", \"department\": \"Visual Effects\", \"gender\": 0, \"id\": 12915, \"job\": \"Character Designer\", \"name\": \"William Cone\", \"profile_path\": None}\n",
      "{\"credit_id\": \"5892135f9251412dd4008f90\", \"department\": \"Visual Effects\", \"gender\": 0, \"id\": 1748706, \"job\": \"Character Designer\", \"name\": \"Steve Johnson\", \"profile_path\": None}\n",
      "{\"credit_id\": \"58921384c3a3680973008fd4\", \"department\": \"Visual Effects\", \"gender\": 0, \"id\": 1176752, \"job\": \"Character Designer\", \"name\": \"Dan Haskett\", \"profile_path\": None}\n",
      "{\"credit_id\": \"5892138e9251412dc20099fc\", \"department\": \"Visual Effects\", \"gender\": 0, \"id\": 1088034, \"job\": \"Character Designer\", \"name\": \"Tom Holloway\", \"profile_path\": \"/a0r0T2usTBpgMI5aZbRBDW1fTl8.jpg\"}\n",
      "{\"credit_id\": \"58921395c3a368097700942f\", \"department\": \"Visual Effects\", \"gender\": 0, \"id\": 1447465, \"job\": \"Character Designer\", \"name\": \"Jean Gillmore\", \"profile_path\": None}\n",
      "{\"credit_id\": \"589213e2c3a3680973009026\", \"department\": \"Directing\", \"gender\": 0, \"id\": 1748709, \"job\": \"Layout\", \"name\": \"Desirée Mourad\", \"profile_path\": None}\n",
      "{\"credit_id\": \"589214099251412dc5009d57\", \"department\": \"Art\", \"gender\": 0, \"id\": 1748710, \"job\": \"Set Dresser\", \"name\": \"Kelly O\"Connell\", \"profile_path\": None}\n",
      "{\"credit_id\": \"58921411c3a3686b0a004f70\", \"department\": \"Art\", \"gender\": 0, \"id\": 1443471, \"job\": \"Set Dresser\", \"name\": \"Sonoko Konishi\", \"profile_path\": None}\n",
      "{\"credit_id\": \"58921434c3a368096a00956e\", \"department\": \"Art\", \"gender\": 0, \"id\": 1748711, \"job\": \"Set Dresser\", \"name\": \"Ann M. Rockwell\", \"profile_path\": None}\n",
      "{\"credit_id\": \"5892144ac3a36809680090de\", \"department\": \"Editing\", \"gender\": 0, \"id\": 1748712, \"job\": \"Editorial Manager\", \"name\": \"Julie M. McDonald\", \"profile_path\": None}\n",
      "{\"credit_id\": \"58921479c3a368096800910f\", \"department\": \"Editing\", \"gender\": 0, \"id\": 1589729, \"job\": \"Assistant Editor\", \"name\": \"Robin Lee\", \"profile_path\": None}\n",
      "{\"credit_id\": \"5892148b9251412dd10099cc\", \"department\": \"Editing\", \"gender\": 0, \"id\": 1748716, \"job\": \"Assistant Editor\", \"name\": \"Tom Freeman\", \"profile_path\": None}\n",
      "{\"credit_id\": \"589214959251412dcb009b1f\", \"department\": \"Editing\", \"gender\": 0, \"id\": 1748717, \"job\": \"Assistant Editor\", \"name\": \"Ada Cochavi\", \"profile_path\": None}\n",
      "{\"credit_id\": \"5892149ec3a3686348004798\", \"department\": \"Editing\", \"gender\": 0, \"id\": 1336438, \"job\": \"Assistant Editor\", \"name\": \"Dana Mulligan\", \"profile_path\": None}\n",
      "{\"credit_id\": \"589214adc3a368096a0095db\", \"department\": \"Editing\", \"gender\": 0, \"id\": 1748718, \"job\": \"Editorial Coordinator\", \"name\": \"Deirdre Morrison\", \"profile_path\": None}\n",
      "{\"credit_id\": \"589214c7c3a368097700952b\", \"department\": \"Production\", \"gender\": 0, \"id\": 1748719, \"job\": \"Production Coordinator\", \"name\": \"Lori Lombardo\", \"profile_path\": None}\n",
      "{\"credit_id\": \"589214cec3a368096a009603\", \"department\": \"Production\", \"gender\": 0, \"id\": 1748720, \"job\": \"Production Coordinator\", \"name\": \"Ellen Devine\", \"profile_path\": None}\n",
      "{\"credit_id\": \"589214e39251412dc8009904\", \"department\": \"Crew\", \"gender\": 0, \"id\": 1468014, \"job\": \"Unit Publicist\", \"name\": \"Lauren Beth Strogoff\", \"profile_path\": None}\n",
      "{\"credit_id\": \"58921544c3a3686b0a00507d\", \"department\": \"Sound\", \"gender\": 2, \"id\": 2216, \"job\": \"Sound Re-Recording Mixer\", \"name\": \"Gary Rydstrom\", \"profile_path\": \"/jZpr1nVfO7lldWI0YtmP1FGw7Rj.jpg\"}\n",
      "{\"credit_id\": \"5892154c9251412dd1009a56\", \"department\": \"Sound\", \"gender\": 0, \"id\": 1425978, \"job\": \"Sound Re-Recording Mixer\", \"name\": \"Gary Summers\", \"profile_path\": None}\n",
      "{\"credit_id\": \"58921555c3a36809680091bd\", \"department\": \"Sound\", \"gender\": 2, \"id\": 8276, \"job\": \"Supervising Sound Editor\", \"name\": \"Tim Holland\", \"profile_path\": None}\n",
      "{\"credit_id\": \"589215c39251412dcb009c12\", \"department\": \"Sound\", \"gender\": 0, \"id\": 7069, \"job\": \"Sound Effects Editor\", \"name\": \"Pat Jackson\", \"profile_path\": None}\n",
      "{\"credit_id\": \"58921698c3a368096a009788\", \"department\": \"Crew\", \"gender\": 2, \"id\": 15894, \"job\": \"Sound Design Assistant\", \"name\": \"Tom Myers\", \"profile_path\": None}\n",
      "{\"credit_id\": \"589216a89251412dc2009ca4\", \"department\": \"Sound\", \"gender\": 0, \"id\": 1414177, \"job\": \"Assistant Sound Editor\", \"name\": \"J.R. Grubbs\", \"profile_path\": None}\n",
      "{\"credit_id\": \"589216c19251412dc2009cb9\", \"department\": \"Sound\", \"gender\": 1, \"id\": 1748724, \"job\": \"Assistant Sound Editor\", \"name\": \"Susan Sanford\", \"profile_path\": None}\n",
      "{\"credit_id\": \"589216ccc3a3680973009274\", \"department\": \"Sound\", \"gender\": 0, \"id\": 1748725, \"job\": \"Assistant Sound Editor\", \"name\": \"Susan Popovic\", \"profile_path\": None}\n",
      "{\"credit_id\": \"589216d79251412dc8009aa0\", \"department\": \"Sound\", \"gender\": 0, \"id\": 8067, \"job\": \"Assistant Sound Editor\", \"name\": \"Dan Engstrom\", \"profile_path\": None}\n",
      "{\"credit_id\": \"589216e49251412dcd009a4f\", \"department\": \"Production\", \"gender\": 1, \"id\": 7902, \"job\": \"Casting Consultant\", \"name\": \"Ruth Lambert\", \"profile_path\": None}\n",
      "{\"credit_id\": \"589216f39251412dc2009cf3\", \"department\": \"Production\", \"gender\": 0, \"id\": 84493, \"job\": \"ADR Voice Casting\", \"name\": \"Mickie McGowan\", \"profile_path\": \"/k7TjJBfINsg8vLQxJwos6XObAD6.jpg\"}\n"
     ]
    }
   ],
   "source": [
    "test_crew = credits_df['crew'].iloc[0].replace('[','').replace(']','').replace('\\'', '\\\"')\n",
    "for small_dict in re.findall('\\{.*?\\}', test_crew):\n",
    "    print(small_dict)"
   ]
  },
  {
   "cell_type": "markdown",
   "metadata": {},
   "source": [
    "To distinguish between cast and crew, we will take the \"job\" part of the crew and use it as a prefix to the name."
   ]
  },
  {
   "cell_type": "code",
   "execution_count": 161,
   "metadata": {},
   "outputs": [],
   "source": [
    "class CrewParser:\n",
    "\n",
    "    def __init__(self):\n",
    "        self.issue_counter = 0\n",
    "        self.crew_counter = 0\n",
    "        self.crew_counter_simple = 0\n",
    "\n",
    "    def parse_crew_detailed(self, crew_str):\n",
    "        crew_str = crew_str.replace('[','').replace(']','').replace('\\'', '\\\"')\n",
    "        crew_list = []\n",
    "        # loop through each dict in string using regex\n",
    "        for small_dict in re.findall('\\{.*?\\}', crew_str):\n",
    "            try:\n",
    "                item_dict = json.loads(small_dict)\n",
    "            except:\n",
    "                self.issue_counter += 1\n",
    "            else:\n",
    "                crew_list.append('_'.join([item_dict['job'].replace(' ','').lower(), item_dict['name'].replace(' ','').upper()]))\n",
    "                self.crew_counter += 1\n",
    "        return ' '.join(crew_list)\n",
    "    \n",
    "    def parse_crew_simple(self, crew_str):\n",
    "        crew_str = crew_str.replace('[','').replace(']','').replace('\\'', '\\\"')\n",
    "        crew_list = []\n",
    "        # loop through each dict in string using regex\n",
    "        for small_dict in re.findall('\\{.*?\\}', crew_str):\n",
    "            try:\n",
    "                item_dict = json.loads(small_dict)\n",
    "            except:\n",
    "                self.issue_counter += 1\n",
    "            else:\n",
    "                crew_list.append(item_dict['name'].replace(' ','').upper())\n",
    "                self.crew_counter_simple += 1\n",
    "        return ' '.join(crew_list)"
   ]
  },
  {
   "cell_type": "code",
   "execution_count": 162,
   "metadata": {},
   "outputs": [],
   "source": [
    "crew_parser = CrewParser()\n",
    "credits_df['crew_detailed'] = credits_df['crew'].apply(crew_parser.parse_crew_detailed)"
   ]
  },
  {
   "cell_type": "code",
   "execution_count": 163,
   "metadata": {},
   "outputs": [
    {
     "data": {
      "text/plain": [
       "'director_JOHNLASSETER screenplay_JOSSWHEDON screenplay_ANDREWSTANTON screenplay_JOELCOHEN screenplay_ALECSOKOLOW executiveproducer_STEVEJOBS editor_LEEUNKRICH artdirection_RALPHEGGLESTON orchestrator_RANDYNEWMAN originalstory_JOHNLASSETER originalstory_PETEDOCTER originalstory_JOERANFT animationdirector_ASHBRANNON music_RANDYNEWMAN songs_RANDYNEWMAN originalstory_ANDREWSTANTON supervisinganimator_PETEDOCTER sounddesigner_GARYRYDSTROM animation_JIMMYHAYWARD animation_BUDLUCKEY animation_JEFFPIDGEON characterdesigner_BUDLUCKEY characterdesigner_ANDREWSTANTON characterdesigner_TOMHOLLOWAY soundre-recordingmixer_GARYRYDSTROM adrvoicecasting_MICKIEMCGOWAN'"
      ]
     },
     "execution_count": 163,
     "metadata": {},
     "output_type": "execute_result"
    }
   ],
   "source": [
    "credits_df['crew_detailed'].iloc[0]"
   ]
  },
  {
   "cell_type": "code",
   "execution_count": 164,
   "metadata": {},
   "outputs": [
    {
     "name": "stdout",
     "output_type": "stream",
     "text": [
      "Number of crew members we could not retrieve: 369,558\n",
      "Total Number of crew members retreived: 94,756\n"
     ]
    }
   ],
   "source": [
    "# how many crew members were skipped?\n",
    "print('Number of crew members we could not retrieve: {:,}'.format(crew_parser.issue_counter))\n",
    "\n",
    "print('Total Number of crew members retreived: {:,}'.format(crew_parser.crew_counter))"
   ]
  },
  {
   "cell_type": "code",
   "execution_count": 165,
   "metadata": {},
   "outputs": [],
   "source": [
    "credits_df['crew_simple'] = credits_df['crew'].apply(crew_parser.parse_crew_simple)"
   ]
  },
  {
   "cell_type": "code",
   "execution_count": 166,
   "metadata": {},
   "outputs": [
    {
     "data": {
      "text/plain": [
       "'JOHNLASSETER JOSSWHEDON ANDREWSTANTON JOELCOHEN ALECSOKOLOW STEVEJOBS LEEUNKRICH RALPHEGGLESTON RANDYNEWMAN JOHNLASSETER PETEDOCTER JOERANFT ASHBRANNON RANDYNEWMAN RANDYNEWMAN ANDREWSTANTON PETEDOCTER GARYRYDSTROM JIMMYHAYWARD BUDLUCKEY JEFFPIDGEON BUDLUCKEY ANDREWSTANTON TOMHOLLOWAY GARYRYDSTROM MICKIEMCGOWAN'"
      ]
     },
     "execution_count": 166,
     "metadata": {},
     "output_type": "execute_result"
    }
   ],
   "source": [
    "credits_df['crew_simple'].iloc[0]"
   ]
  },
  {
   "cell_type": "code",
   "execution_count": 167,
   "metadata": {},
   "outputs": [
    {
     "name": "stdout",
     "output_type": "stream",
     "text": [
      "Number of crew members we could not retrieve: 739,116\n",
      "Total Number of crew members retreived: 94,756\n"
     ]
    }
   ],
   "source": [
    "# how many crew members were skipped?\n",
    "print('Number of crew members we could not retrieve: {:,}'.format(crew_parser.issue_counter))\n",
    "\n",
    "print('Total Number of crew members retreived: {:,}'.format(crew_parser.crew_counter_simple))"
   ]
  },
  {
   "cell_type": "code",
   "execution_count": 168,
   "metadata": {},
   "outputs": [],
   "source": [
    "class AppendMetaData:\n",
    "\n",
    "    def __init__(self, cols_to_append):\n",
    "        self.cols_to_append = cols_to_append\n",
    "\n",
    "    def append_cols(self, df):\n",
    "        return ' '.join(df[col] for col in self.cols_to_append)"
   ]
  },
  {
   "cell_type": "code",
   "execution_count": 169,
   "metadata": {},
   "outputs": [
    {
     "data": {
      "text/html": [
       "<div>\n",
       "<style scoped>\n",
       "    .dataframe tbody tr th:only-of-type {\n",
       "        vertical-align: middle;\n",
       "    }\n",
       "\n",
       "    .dataframe tbody tr th {\n",
       "        vertical-align: top;\n",
       "    }\n",
       "\n",
       "    .dataframe thead th {\n",
       "        text-align: right;\n",
       "    }\n",
       "</style>\n",
       "<table border=\"1\" class=\"dataframe\">\n",
       "  <thead>\n",
       "    <tr style=\"text-align: right;\">\n",
       "      <th></th>\n",
       "      <th>cast_cleaned</th>\n",
       "      <th>crew_detailed</th>\n",
       "      <th>crew_simple</th>\n",
       "      <th>id</th>\n",
       "      <th>title</th>\n",
       "      <th>overview_final</th>\n",
       "    </tr>\n",
       "  </thead>\n",
       "  <tbody>\n",
       "    <tr>\n",
       "      <th>0</th>\n",
       "      <td>TOMHANKS TIMALLEN DONRICKLES JIMVARNEY WALLACE...</td>\n",
       "      <td>director_JOHNLASSETER screenplay_JOSSWHEDON sc...</td>\n",
       "      <td>JOHNLASSETER JOSSWHEDON ANDREWSTANTON JOELCOHE...</td>\n",
       "      <td>862</td>\n",
       "      <td>Toy Story</td>\n",
       "      <td>Led by Woody, Andy's toys live happily in his ...</td>\n",
       "    </tr>\n",
       "    <tr>\n",
       "      <th>1</th>\n",
       "      <td>ROBINWILLIAMS JONATHANHYDE KIRSTENDUNST BRADLE...</td>\n",
       "      <td>screenplay_JONATHANHENSLEIGH originalmusiccomp...</td>\n",
       "      <td>JONATHANHENSLEIGH JAMESHORNER JOEJOHNSTON NANC...</td>\n",
       "      <td>8844</td>\n",
       "      <td>Jumanji</td>\n",
       "      <td>When siblings Judy and Peter discover an encha...</td>\n",
       "    </tr>\n",
       "    <tr>\n",
       "      <th>2</th>\n",
       "      <td>WALTERMATTHAU JACKLEMMON ANN-MARGRET SOPHIALOR...</td>\n",
       "      <td>director_HOWARDDEUTCH characters_MARKSTEVENJOH...</td>\n",
       "      <td>HOWARDDEUTCH MARKSTEVENJOHNSON MARKSTEVENJOHNSON</td>\n",
       "      <td>15602</td>\n",
       "      <td>Grumpier Old Men</td>\n",
       "      <td>A family wedding reignites the ancient feud be...</td>\n",
       "    </tr>\n",
       "    <tr>\n",
       "      <th>3</th>\n",
       "      <td>LELAROCHON GREGORYHINES DENNISHAYSBERT MICHAEL...</td>\n",
       "      <td>director_FORESTWHITAKER producer_DEBORAHSCHIND...</td>\n",
       "      <td>FORESTWHITAKER DEBORAHSCHINDLER KENNETHEDMONDS</td>\n",
       "      <td>31357</td>\n",
       "      <td>Waiting to Exhale</td>\n",
       "      <td>Cheated on, mistreated and stepped on, the wom...</td>\n",
       "    </tr>\n",
       "    <tr>\n",
       "      <th>4</th>\n",
       "      <td>STEVEMARTIN DIANEKEATON MARTINSHORT KIMBERLYWI...</td>\n",
       "      <td>originalmusiccomposer_ALANSILVESTRI screenplay...</td>\n",
       "      <td>ALANSILVESTRI NANCYMEYERS NANCYMEYERS CHARLESS...</td>\n",
       "      <td>11862</td>\n",
       "      <td>Father of the Bride Part II</td>\n",
       "      <td>Just when George Banks has recovered from his ...</td>\n",
       "    </tr>\n",
       "  </tbody>\n",
       "</table>\n",
       "</div>"
      ],
      "text/plain": [
       "                                        cast_cleaned  \\\n",
       "0  TOMHANKS TIMALLEN DONRICKLES JIMVARNEY WALLACE...   \n",
       "1  ROBINWILLIAMS JONATHANHYDE KIRSTENDUNST BRADLE...   \n",
       "2  WALTERMATTHAU JACKLEMMON ANN-MARGRET SOPHIALOR...   \n",
       "3  LELAROCHON GREGORYHINES DENNISHAYSBERT MICHAEL...   \n",
       "4  STEVEMARTIN DIANEKEATON MARTINSHORT KIMBERLYWI...   \n",
       "\n",
       "                                       crew_detailed  \\\n",
       "0  director_JOHNLASSETER screenplay_JOSSWHEDON sc...   \n",
       "1  screenplay_JONATHANHENSLEIGH originalmusiccomp...   \n",
       "2  director_HOWARDDEUTCH characters_MARKSTEVENJOH...   \n",
       "3  director_FORESTWHITAKER producer_DEBORAHSCHIND...   \n",
       "4  originalmusiccomposer_ALANSILVESTRI screenplay...   \n",
       "\n",
       "                                         crew_simple     id  \\\n",
       "0  JOHNLASSETER JOSSWHEDON ANDREWSTANTON JOELCOHE...    862   \n",
       "1  JONATHANHENSLEIGH JAMESHORNER JOEJOHNSTON NANC...   8844   \n",
       "2   HOWARDDEUTCH MARKSTEVENJOHNSON MARKSTEVENJOHNSON  15602   \n",
       "3     FORESTWHITAKER DEBORAHSCHINDLER KENNETHEDMONDS  31357   \n",
       "4  ALANSILVESTRI NANCYMEYERS NANCYMEYERS CHARLESS...  11862   \n",
       "\n",
       "                         title  \\\n",
       "0                    Toy Story   \n",
       "1                      Jumanji   \n",
       "2             Grumpier Old Men   \n",
       "3            Waiting to Exhale   \n",
       "4  Father of the Bride Part II   \n",
       "\n",
       "                                      overview_final  \n",
       "0  Led by Woody, Andy's toys live happily in his ...  \n",
       "1  When siblings Judy and Peter discover an encha...  \n",
       "2  A family wedding reignites the ancient feud be...  \n",
       "3  Cheated on, mistreated and stepped on, the wom...  \n",
       "4  Just when George Banks has recovered from his ...  "
      ]
     },
     "execution_count": 169,
     "metadata": {},
     "output_type": "execute_result"
    }
   ],
   "source": [
    "cols_to_append = ['crew_simple', 'crew_detailed', 'cast_cleaned']\n",
    "\n",
    "data_2 = credits_df[['cast_cleaned','crew_detailed','crew_simple','id']].merge(movie_data, on = 'id', how = 'inner')\n",
    "data_2.head()"
   ]
  },
  {
   "cell_type": "code",
   "execution_count": 170,
   "metadata": {},
   "outputs": [],
   "source": [
    "append_func = AppendMetaData(cols_to_append)\n",
    "data_2['meta_final'] = data_2.apply(append_func.append_cols, axis = 1)"
   ]
  },
  {
   "cell_type": "code",
   "execution_count": 171,
   "metadata": {},
   "outputs": [
    {
     "data": {
      "text/plain": [
       "'JOHNLASSETER JOSSWHEDON ANDREWSTANTON JOELCOHEN ALECSOKOLOW STEVEJOBS LEEUNKRICH RALPHEGGLESTON RANDYNEWMAN JOHNLASSETER PETEDOCTER JOERANFT ASHBRANNON RANDYNEWMAN RANDYNEWMAN ANDREWSTANTON PETEDOCTER GARYRYDSTROM JIMMYHAYWARD BUDLUCKEY JEFFPIDGEON BUDLUCKEY ANDREWSTANTON TOMHOLLOWAY GARYRYDSTROM MICKIEMCGOWAN director_JOHNLASSETER screenplay_JOSSWHEDON screenplay_ANDREWSTANTON screenplay_JOELCOHEN screenplay_ALECSOKOLOW executiveproducer_STEVEJOBS editor_LEEUNKRICH artdirection_RALPHEGGLESTON orchestrator_RANDYNEWMAN originalstory_JOHNLASSETER originalstory_PETEDOCTER originalstory_JOERANFT animationdirector_ASHBRANNON music_RANDYNEWMAN songs_RANDYNEWMAN originalstory_ANDREWSTANTON supervisinganimator_PETEDOCTER sounddesigner_GARYRYDSTROM animation_JIMMYHAYWARD animation_BUDLUCKEY animation_JEFFPIDGEON characterdesigner_BUDLUCKEY characterdesigner_ANDREWSTANTON characterdesigner_TOMHOLLOWAY soundre-recordingmixer_GARYRYDSTROM adrvoicecasting_MICKIEMCGOWAN TOMHANKS TIMALLEN DONRICKLES JIMVARNEY WALLACESHAWN JOHNRATZENBERGER ANNIEPOTTS JOHNMORRIS ERIKVONDETTEN LAURIEMETCALF R.LEEERMEY PENNJILLETTE'"
      ]
     },
     "execution_count": 171,
     "metadata": {},
     "output_type": "execute_result"
    }
   ],
   "source": [
    "data_2['meta_final'].iloc[0]"
   ]
  },
  {
   "cell_type": "code",
   "execution_count": 172,
   "metadata": {},
   "outputs": [],
   "source": [
    "data_2.drop_duplicates(subset = ['id'], inplace = True)"
   ]
  },
  {
   "cell_type": "markdown",
   "metadata": {},
   "source": [
    "## Use Count Vectorizer"
   ]
  },
  {
   "cell_type": "code",
   "execution_count": 173,
   "metadata": {},
   "outputs": [],
   "source": [
    "from sklearn.feature_extraction.text import CountVectorizer\n",
    "\n",
    "count = CountVectorizer(stop_words = 'english')\n",
    "count_matrix = count.fit_transform(data_2['meta_final'])"
   ]
  },
  {
   "cell_type": "code",
   "execution_count": 174,
   "metadata": {},
   "outputs": [
    {
     "data": {
      "text/plain": [
       "(45432, 111965)"
      ]
     },
     "execution_count": 174,
     "metadata": {},
     "output_type": "execute_result"
    }
   ],
   "source": [
    "count_matrix.shape"
   ]
  },
  {
   "cell_type": "code",
   "execution_count": 175,
   "metadata": {},
   "outputs": [],
   "source": [
    "from sklearn.metrics.pairwise import cosine_similarity\n",
    "\n",
    "cosine_sim2 = cosine_similarity(count_matrix, count_matrix)"
   ]
  },
  {
   "cell_type": "code",
   "execution_count": 184,
   "metadata": {},
   "outputs": [],
   "source": [
    "class MovieRecommenderMeta:\n",
    "\n",
    "    def __init__(self, df, similarity_matrix):\n",
    "        self.df = df\n",
    "        self.similarity_matrix = similarity_matrix\n",
    "\n",
    "    def because_you_watched(self, movies):\n",
    "        # get 3 top rated movies for a person\n",
    "        for movie in movies:\n",
    "            print('===========================================\\n')\n",
    "            print('Because you liked \"{}\" ... you may enjoy:'.format(movie))\n",
    "            movie_names = self.top_5_similar(movie)\n",
    "            for name in movie_names:\n",
    "                print(name)\n",
    "            print('\\n===========================================\\n')\n",
    "\n",
    "    def top_5_similar(self, movie):\n",
    "        # get index of movie\n",
    "        movie_index = self.df[self.df['title'] == movie].index[0]\n",
    "        # get the row that corresponds to that movie in cosine similarity matrix\n",
    "        row_of_interest = list(enumerate(self.similarity_matrix[movie_index].reshape(-1)))\n",
    "        # sort movies\n",
    "        similar_movies_sorted = sorted(row_of_interest, key = lambda x: x[1], reverse = True)\n",
    "        # top 5\n",
    "        the_most_similar = similar_movies_sorted[1:6]\n",
    "        # return movie names\n",
    "        return [self.df.iloc[idx]['title'] for idx, _ in the_most_similar]"
   ]
  },
  {
   "cell_type": "code",
   "execution_count": 185,
   "metadata": {},
   "outputs": [
    {
     "data": {
      "text/plain": [
       "array(['Star Wars', 'Joe Versus the Volcano'], dtype=object)"
      ]
     },
     "execution_count": 185,
     "metadata": {},
     "output_type": "execute_result"
    }
   ],
   "source": [
    "user_test = ratings_df[ratings_df['userId'] == 6].merge(movies_metadata_df[['id','title']], left_on = 'movieId', right_on = 'id', how = 'inner')\n",
    "user_favorite_movies = user_test.sort_values(by = 'rating')['title'].iloc[:2].values\n",
    "user_favorite_movies"
   ]
  },
  {
   "cell_type": "code",
   "execution_count": 186,
   "metadata": {},
   "outputs": [
    {
     "name": "stdout",
     "output_type": "stream",
     "text": [
      "===========================================\n",
      "\n",
      "Because you liked \"Star Wars\" ... you may enjoy:\n",
      "The Empire Strikes Back\n",
      "Return of the Jedi\n",
      "Electronic Labyrinth THX 1138 4EB\n",
      "Empire of Dreams: The Story of the Star Wars Trilogy\n",
      "Star Wars: Episode III - Revenge of the Sith\n",
      "\n",
      "===========================================\n",
      "\n",
      "===========================================\n",
      "\n",
      "Because you liked \"Joe Versus the Volcano\" ... you may enjoy:\n",
      "Baby on Board\n",
      "Cops and Robbers\n",
      "High Anxiety\n",
      "Million Dollar Mystery\n",
      "Caveman\n",
      "\n",
      "===========================================\n",
      "\n"
     ]
    }
   ],
   "source": [
    "recommender = MovieRecommenderMeta(data_2, cosine_sim2)\n",
    "recommender.because_you_watched(user_favorite_movies)"
   ]
  },
  {
   "cell_type": "markdown",
   "metadata": {},
   "source": [
    "### Put them both together."
   ]
  },
  {
   "cell_type": "code",
   "execution_count": 193,
   "metadata": {},
   "outputs": [
    {
     "data": {
      "text/plain": [
       "(45432, 8)"
      ]
     },
     "execution_count": 193,
     "metadata": {},
     "output_type": "execute_result"
    }
   ],
   "source": [
    "all_data = movie_data.merge(data_2.drop(['overview_final'], axis = 1), on = 'id', how = 'inner')\n",
    "all_data.shape"
   ]
  },
  {
   "cell_type": "code",
   "execution_count": 194,
   "metadata": {},
   "outputs": [
    {
     "data": {
      "text/html": [
       "<div>\n",
       "<style scoped>\n",
       "    .dataframe tbody tr th:only-of-type {\n",
       "        vertical-align: middle;\n",
       "    }\n",
       "\n",
       "    .dataframe tbody tr th {\n",
       "        vertical-align: top;\n",
       "    }\n",
       "\n",
       "    .dataframe thead th {\n",
       "        text-align: right;\n",
       "    }\n",
       "</style>\n",
       "<table border=\"1\" class=\"dataframe\">\n",
       "  <thead>\n",
       "    <tr style=\"text-align: right;\">\n",
       "      <th></th>\n",
       "      <th>title_x</th>\n",
       "      <th>overview_final</th>\n",
       "      <th>id</th>\n",
       "      <th>cast_cleaned</th>\n",
       "      <th>crew_detailed</th>\n",
       "      <th>crew_simple</th>\n",
       "      <th>title_y</th>\n",
       "      <th>meta_final</th>\n",
       "    </tr>\n",
       "  </thead>\n",
       "  <tbody>\n",
       "    <tr>\n",
       "      <th>0</th>\n",
       "      <td>Toy Story</td>\n",
       "      <td>Led by Woody, Andy's toys live happily in his ...</td>\n",
       "      <td>862</td>\n",
       "      <td>TOMHANKS TIMALLEN DONRICKLES JIMVARNEY WALLACE...</td>\n",
       "      <td>director_JOHNLASSETER screenplay_JOSSWHEDON sc...</td>\n",
       "      <td>JOHNLASSETER JOSSWHEDON ANDREWSTANTON JOELCOHE...</td>\n",
       "      <td>Toy Story</td>\n",
       "      <td>JOHNLASSETER JOSSWHEDON ANDREWSTANTON JOELCOHE...</td>\n",
       "    </tr>\n",
       "    <tr>\n",
       "      <th>1</th>\n",
       "      <td>Jumanji</td>\n",
       "      <td>When siblings Judy and Peter discover an encha...</td>\n",
       "      <td>8844</td>\n",
       "      <td>ROBINWILLIAMS JONATHANHYDE KIRSTENDUNST BRADLE...</td>\n",
       "      <td>screenplay_JONATHANHENSLEIGH originalmusiccomp...</td>\n",
       "      <td>JONATHANHENSLEIGH JAMESHORNER JOEJOHNSTON NANC...</td>\n",
       "      <td>Jumanji</td>\n",
       "      <td>JONATHANHENSLEIGH JAMESHORNER JOEJOHNSTON NANC...</td>\n",
       "    </tr>\n",
       "    <tr>\n",
       "      <th>2</th>\n",
       "      <td>Grumpier Old Men</td>\n",
       "      <td>A family wedding reignites the ancient feud be...</td>\n",
       "      <td>15602</td>\n",
       "      <td>WALTERMATTHAU JACKLEMMON ANN-MARGRET SOPHIALOR...</td>\n",
       "      <td>director_HOWARDDEUTCH characters_MARKSTEVENJOH...</td>\n",
       "      <td>HOWARDDEUTCH MARKSTEVENJOHNSON MARKSTEVENJOHNSON</td>\n",
       "      <td>Grumpier Old Men</td>\n",
       "      <td>HOWARDDEUTCH MARKSTEVENJOHNSON MARKSTEVENJOHNS...</td>\n",
       "    </tr>\n",
       "    <tr>\n",
       "      <th>3</th>\n",
       "      <td>Waiting to Exhale</td>\n",
       "      <td>Cheated on, mistreated and stepped on, the wom...</td>\n",
       "      <td>31357</td>\n",
       "      <td>LELAROCHON GREGORYHINES DENNISHAYSBERT MICHAEL...</td>\n",
       "      <td>director_FORESTWHITAKER producer_DEBORAHSCHIND...</td>\n",
       "      <td>FORESTWHITAKER DEBORAHSCHINDLER KENNETHEDMONDS</td>\n",
       "      <td>Waiting to Exhale</td>\n",
       "      <td>FORESTWHITAKER DEBORAHSCHINDLER KENNETHEDMONDS...</td>\n",
       "    </tr>\n",
       "    <tr>\n",
       "      <th>4</th>\n",
       "      <td>Father of the Bride Part II</td>\n",
       "      <td>Just when George Banks has recovered from his ...</td>\n",
       "      <td>11862</td>\n",
       "      <td>STEVEMARTIN DIANEKEATON MARTINSHORT KIMBERLYWI...</td>\n",
       "      <td>originalmusiccomposer_ALANSILVESTRI screenplay...</td>\n",
       "      <td>ALANSILVESTRI NANCYMEYERS NANCYMEYERS CHARLESS...</td>\n",
       "      <td>Father of the Bride Part II</td>\n",
       "      <td>ALANSILVESTRI NANCYMEYERS NANCYMEYERS CHARLESS...</td>\n",
       "    </tr>\n",
       "  </tbody>\n",
       "</table>\n",
       "</div>"
      ],
      "text/plain": [
       "                       title_x  \\\n",
       "0                    Toy Story   \n",
       "1                      Jumanji   \n",
       "2             Grumpier Old Men   \n",
       "3            Waiting to Exhale   \n",
       "4  Father of the Bride Part II   \n",
       "\n",
       "                                      overview_final     id  \\\n",
       "0  Led by Woody, Andy's toys live happily in his ...    862   \n",
       "1  When siblings Judy and Peter discover an encha...   8844   \n",
       "2  A family wedding reignites the ancient feud be...  15602   \n",
       "3  Cheated on, mistreated and stepped on, the wom...  31357   \n",
       "4  Just when George Banks has recovered from his ...  11862   \n",
       "\n",
       "                                        cast_cleaned  \\\n",
       "0  TOMHANKS TIMALLEN DONRICKLES JIMVARNEY WALLACE...   \n",
       "1  ROBINWILLIAMS JONATHANHYDE KIRSTENDUNST BRADLE...   \n",
       "2  WALTERMATTHAU JACKLEMMON ANN-MARGRET SOPHIALOR...   \n",
       "3  LELAROCHON GREGORYHINES DENNISHAYSBERT MICHAEL...   \n",
       "4  STEVEMARTIN DIANEKEATON MARTINSHORT KIMBERLYWI...   \n",
       "\n",
       "                                       crew_detailed  \\\n",
       "0  director_JOHNLASSETER screenplay_JOSSWHEDON sc...   \n",
       "1  screenplay_JONATHANHENSLEIGH originalmusiccomp...   \n",
       "2  director_HOWARDDEUTCH characters_MARKSTEVENJOH...   \n",
       "3  director_FORESTWHITAKER producer_DEBORAHSCHIND...   \n",
       "4  originalmusiccomposer_ALANSILVESTRI screenplay...   \n",
       "\n",
       "                                         crew_simple  \\\n",
       "0  JOHNLASSETER JOSSWHEDON ANDREWSTANTON JOELCOHE...   \n",
       "1  JONATHANHENSLEIGH JAMESHORNER JOEJOHNSTON NANC...   \n",
       "2   HOWARDDEUTCH MARKSTEVENJOHNSON MARKSTEVENJOHNSON   \n",
       "3     FORESTWHITAKER DEBORAHSCHINDLER KENNETHEDMONDS   \n",
       "4  ALANSILVESTRI NANCYMEYERS NANCYMEYERS CHARLESS...   \n",
       "\n",
       "                       title_y  \\\n",
       "0                    Toy Story   \n",
       "1                      Jumanji   \n",
       "2             Grumpier Old Men   \n",
       "3            Waiting to Exhale   \n",
       "4  Father of the Bride Part II   \n",
       "\n",
       "                                          meta_final  \n",
       "0  JOHNLASSETER JOSSWHEDON ANDREWSTANTON JOELCOHE...  \n",
       "1  JONATHANHENSLEIGH JAMESHORNER JOEJOHNSTON NANC...  \n",
       "2  HOWARDDEUTCH MARKSTEVENJOHNSON MARKSTEVENJOHNS...  \n",
       "3  FORESTWHITAKER DEBORAHSCHINDLER KENNETHEDMONDS...  \n",
       "4  ALANSILVESTRI NANCYMEYERS NANCYMEYERS CHARLESS...  "
      ]
     },
     "execution_count": 194,
     "metadata": {},
     "output_type": "execute_result"
    }
   ],
   "source": [
    "all_data.head()"
   ]
  },
  {
   "cell_type": "code",
   "execution_count": 195,
   "metadata": {},
   "outputs": [],
   "source": [
    "## Vectorize and Similarities\n",
    "\n",
    "# for overview and genre\n",
    "tfidf = TfidfVectorizer(stop_words = 'english')\n",
    "tfidf_mat = tfidf.fit_transform(all_data['overview_final'])\n",
    "cos_similarity = linear_kernel(tfidf_mat, tfidf_mat)\n",
    "\n",
    "# for cast and crew\n",
    "count = CountVectorizer(stop_words = 'english')\n",
    "count_matrix = count.fit_transform(all_data['meta_final'])\n",
    "cosine_sim2 = cosine_similarity(count_matrix, count_matrix)"
   ]
  }
 ],
 "metadata": {
  "interpreter": {
   "hash": "02c30719ed1be8b02b119d96d83ec7cd379be33696f766ddd13ffbce121a590f"
  },
  "kernelspec": {
   "display_name": "Python 3.9.5 ('venv': venv)",
   "language": "python",
   "name": "python3"
  },
  "language_info": {
   "codemirror_mode": {
    "name": "ipython",
    "version": 3
   },
   "file_extension": ".py",
   "mimetype": "text/x-python",
   "name": "python",
   "nbconvert_exporter": "python",
   "pygments_lexer": "ipython3",
   "version": "3.9.5"
  },
  "orig_nbformat": 4
 },
 "nbformat": 4,
 "nbformat_minor": 2
}
